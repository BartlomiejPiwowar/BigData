{
 "cells": [
  {
   "cell_type": "markdown",
   "metadata": {
    "application/vnd.databricks.v1+cell": {
     "cellMetadata": {
      "byteLimit": 2048000,
      "rowLimit": 10000
     },
     "inputWidgets": {},
     "nuid": "8f1eb294-585d-4cd5-b6f5-7527ae399fdf",
     "showTitle": false,
     "tableResultSettingsMap": {},
     "title": ""
    }
   },
   "source": [
    "Names.csv \n",
    "* Dodaj kolumnę z wartością czasu wykonania notatnika w formacie epoch\n",
    "* Dodaj kolumnę w której wyliczysz wzrost w stopach (feet)\n",
    "* Odpowiedz na pytanie jakie jest najpopularniesze imię?\n",
    "* Dodaj kolumnę i policz wiek aktorów \n",
    "* Usuń kolumny (bio, death_details)\n",
    "* Zmień nazwy kolumn - dodaj kapitalizaję i usuń _\n",
    "* Posortuj dataframe po imieniu rosnąco"
   ]
  },
  {
   "cell_type": "code",
   "execution_count": 0,
   "metadata": {
    "application/vnd.databricks.v1+cell": {
     "cellMetadata": {
      "byteLimit": 2048000,
      "rowLimit": 10000
     },
     "inputWidgets": {},
     "nuid": "682ee105-0a36-455f-9c09-98dfba93ba21",
     "showTitle": false,
     "tableResultSettingsMap": {},
     "title": ""
    }
   },
   "outputs": [],
   "source": [
    "filePath = \"dbfs:/FileStore/tables/Files/names.csv\"\n",
    "namesDf = spark.read.format(\"csv\") \\\n",
    "              .option(\"header\",\"true\") \\\n",
    "              .option(\"inferSchema\",\"true\") \\\n",
    "              .load(filePath)\n",
    "\n",
    "#display(namesDf)"
   ]
  },
  {
   "cell_type": "code",
   "execution_count": 0,
   "metadata": {
    "application/vnd.databricks.v1+cell": {
     "cellMetadata": {
      "byteLimit": 2048000,
      "rowLimit": 10000
     },
     "inputWidgets": {},
     "nuid": "c58c6f6f-5053-4017-9930-d4ec532ec7ca",
     "showTitle": false,
     "tableResultSettingsMap": {},
     "title": ""
    }
   },
   "outputs": [
    {
     "output_type": "display_data",
     "data": {
      "text/html": [
       "<style scoped>\n",
       "  .table-result-container {\n",
       "    max-height: 300px;\n",
       "    overflow: auto;\n",
       "  }\n",
       "  table, th, td {\n",
       "    border: 1px solid black;\n",
       "    border-collapse: collapse;\n",
       "  }\n",
       "  th, td {\n",
       "    padding: 5px;\n",
       "  }\n",
       "  th {\n",
       "    text-align: left;\n",
       "  }\n",
       "</style><div class='table-result-container'><table class='table-result'><thead style='background-color: white'><tr><th>imdb_name_id</th><th>name</th><th>birth_name</th><th>height</th><th>bio</th><th>birth_details</th><th>date_of_birth</th><th>place_of_birth</th><th>death_details</th><th>date_of_death</th><th>place_of_death</th><th>reason_of_death</th><th>spouses_string</th><th>spouses</th><th>divorces</th><th>spouses_with_children</th><th>children</th><th>epoch</th><th>height_ft</th><th>age</th></tr></thead><tbody><tr><td>nm0000001</td><td>Fred Astaire</td><td>Frederic Austerlitz Jr.</td><td>177</td><td>Fred Astaire was born in Omaha, Nebraska, to Johanna (Geilus) and Fritz Austerlitz, a brewer. Fred entered show business at age 5. He was successful both in vaudeville and on Broadway in partnership with his sister, Adele Astaire. After Adele retired to marry in 1932, Astaire headed to Hollywood. Signed to RKO, he was loaned to MGM to appear in La danza di Venere (1933) before starting work on RKO's Carioca (1933). In the latter film, he began his highly successful partnership with Ginger Rogers, with whom he danced in 9 RKO pictures. During these years, he was also active in recording and radio. On film, Astaire later appeared opposite a number of partners through various studios. After a temporary retirement in 1945-7, during which he opened Fred Astaire Dance Studios, Astaire returned to film to star in more musicals through 1957. He subsequently performed a number of straight dramatic roles in film and TV.</td><td>May 10, 1899 in Omaha, Nebraska, USA</td><td>null</td><td>Omaha, Nebraska, USA</td><td>June 22, 1987 in Los Angeles, California, USA  (pneumonia)</td><td>1987-01-22</td><td>Los Angeles, California, USA  </td><td>pneumonia</td><td>Robyn Smith  (27 June 1980 - 22 June 1987) (his death)Phyllis Livingston Potter  (12 July 1933 - 13 September 1954) (her death) (2 children)</td><td>2</td><td>0</td><td>1</td><td>2</td><td>1744113142</td><td>5.81</td><td>null</td></tr><tr><td>nm0000002</td><td>Lauren Bacall</td><td>Betty Joan Perske</td><td>174</td><td>Lauren Bacall was born Betty Joan Perske on September 16, 1924, in New York City. She was the daughter of Natalie Weinstein-Bacal, a Romanian Jewish immigrant, and William Perske, who was born in New Jersey, to Polish Jewish parents. Her family was middle-class, with her father working as a salesman and her mother as a secretary. They divorced when she was five and she rarely saw her father after that.As a school girl, she originally wanted to be a dancer, but later switched gears to head into acting. She studied at the American Academy of Dramatic Arts in New York, after attending She was educated at Highland Manor, a private boarding school in Tarrytown, New York (through the generosity of wealthy uncles), and then at Julia Richman High School, which enabled her to get her feet wet in some off-Broadway productions.Out of school, she entered modeling and, because of her beauty, appeared on the cover of Harper's Bazaar, one of the most popular magazines in the US. The wife of famed director Howard Hawks spotted the picture in the publication and arranged with her husband to have Lauren take a screen test. As a result, which was entirely positive, she was given the part of Marie Browning in Acque del Sud (1944), a thriller opposite Humphrey Bogart, when she was just 19 years old. This not only set the tone for a fabulous career but also one of Hollywood's greatest love stories (she married Bogart in 1945). It was also the first of several Bogie-Bacall films.After 1945's L'agente confidenziale (1945), Lauren received second billing in Il grande sonno (1946) with Bogart. The mystery, in the role of Vivian Sternwood Rutledge, was a resounding success. Although she was making one film a year, each production would be eagerly awaited by the public. In 1947, again with her husband, Lauren starred in the thriller La fuga (1947). The film kept movie patrons on the edge of their seats. The following year, she starred with Bogart, Edward G. Robinson, and Lionel Barrymore in L'isola di corallo (1948). The crime drama was even more of a nail biter than her previous film.In 1950, Lauren starred in Le foglie d'oro (1950), a drama set in 1894. It was a film of note because she appeared without her husband - her co-star was Gary Cooper. In 1953, Lauren appeared in her first comedy as Schatze Page in Come sposare un milionario (1953). The film, with co-stars Marilyn Monroe and Betty Grable, was a smash hit all across the theaters of America.After filming La donna del destino (1957), which was released in 1957, Humphrey Bogart died on January 14 from throat cancer. Devastated at being a widow, Lauren returned to the silver screen with Dono d'amore (1958) in 1958 opposite Robert Stack. The production turned out to be a big disappointment. Undaunted, Lauren moved back to New York City and appeared in several Broadway plays to huge critical acclaim. She was enjoying acting before live audiences and the audiences in turn enjoyed her fine performances.Lauren was away from the big screen for five years, but she returned in 1964 to appear in Elettroshock (1964) and Donne v'insegno come si seduce un uomo (1964). The latter film was a comedy starring Henry Fonda and Tony Curtis. In 1966, Lauren starred in Detective's Story (1966) with Paul Newman and Julie Harris, which was one of former's signature films.Alternating her time between films and the stage, Lauren returned in 1974's Assassinio sull'Orient Express (1974). The film, based on Agatha Christie's best-selling book was a huge hit. It also garnered Ingrid Bergman her third Oscar. Actually, the huge star-studded cast helped to ensure its success. Two years later, in 1976, Lauren co-starred with John Wayne in Il pistolero (1976). The film was Wayne's last - he died from cancer in 1979.In 1981, she played an actress being stalked by a crazed admirer in Un'ombra nel buio (1981). The thriller was absolutely fascinating with Lauren in the lead role. After that production, Lauren was away from films again, this time for seven years. In the interim, she again appeared on the stages of Broadway. When she returned, it was for the filming of 1988's Mr. North (1988). After 1990's Misery non deve morire (1990) and several made for television films, Lauren appeared in 1996's Fuga dalla Casa Bianca (1996), a comedy romp with Jack Lemmon and James Garner as two ex-presidents and their escapades.Despite her age and failing health, she made a small-scale comeback in the English-language dub of Hayao Miyazaki's Il castello errante di Howl (2004) (Howl's Moving Castle, based on the young-adult novel by Diana Wynne Jones) as the Witch of the Waste, but acting endeavors for the beloved actress became increasingly rare. Lauren Bacall died on 12 August 2014, five weeks short of her 90th birthday.</td><td>September 16, 1924 in The Bronx, New York City, New York, USA</td><td>1924-01-16</td><td>The Bronx, New York City, New York, USA</td><td>August 12, 2014 in New York City, New York, USA  (stroke)</td><td>2014-01-12</td><td>New York City, New York, USA  </td><td>stroke</td><td>Jason Robards  (4 July 1961 - 10 September 1969) (divorced) (1 child)Humphrey Bogart  (21 May 1945 - 14 January 1957) (his death) (2 children)</td><td>2</td><td>1</td><td>2</td><td>3</td><td>1744113142</td><td>5.71</td><td>90</td></tr><tr><td>nm0000003</td><td>Brigitte Bardot</td><td>Brigitte Bardot</td><td>166</td><td>Brigitte Bardot was born on September 28, 1934 in Paris, France. Her father had an engineering degree and worked with his father in the family business. Brigitte's mother encouraged her daughter to take up music and dance, and she proved to be very adept at it. By the time she was 15, Brigitte was trying a modeling career, and found herself in the French magazine Elle. Her incredible beauty readily apparent, Brigitte next tried films. In 1952, she appeared on screen for the first time as Javotte Lemoine in Le trou normand (1952). Two more films followed and it was also the same year she married Roger Vadim (the union lasted 3½ years). Capitalizing on her success in French films, Brigitte made her first American production in Atto d'amore (1953) with Kirk Douglas, but she continued to make films in France. Brigitte's explosive sexuality took the United States by storm, and the effect she had on millions of American men who had not seen a woman like her in a long, long time--if ever--was electric. Rise to the phrase sex kitten and fascination of her in the United States consisted of magazines photographs and dubbed over French films--good, bad or indifferent, her films drew audiences--mainly men--into theaters like lemmings. In 1965, she appeared as herself in the American-made Erasmo il lentigginoso (1965) with James Stewart (she only appeared in one scene). Just before she turned 40, Brigitte retired from movies after filming Colinot l'alzasottane (1973). She prefers life outside of stardom. While it enabled her to become internationally famous, it also carried with it annoyances. It was not anything for her to have fans enter her house or wander around the grounds of her home in the hopes of getting a glimpse of her or to take something that belonged to her. Paparazzi constantly hounded her with their cameras. She has been so soft-hearted that some people even have taken advantage of her generosity. After her life in the spotlight, Brigitte went on to become a leading spokesperson for animal rights and started the Foundation Brigitte Bardot dedicated solely to that cause. Her work in that realm is, perhaps, far greater than any film she could have made. Brigitte has been married to Bernard d'Ormale since 1992 and they reside in St. Tropez with their nearly 50 pets.</td><td>September 28, 1934 in Paris, France</td><td>1934-01-28</td><td>Paris, France</td><td>null</td><td>null</td><td>null</td><td>null</td><td>Bernard d'Ormale  (16 August 1992 - present)Gunter Sachs  (14 July 1966 - 3 July 1969) (divorced)Jacques Charrier  (18 June 1959 - 20 November 1962) (divorced) (1 child)Roger Vadim  (20 December 1952 - 6 December 1957) (divorced)</td><td>4</td><td>3</td><td>1</td><td>1</td><td>1744113142</td><td>5.45</td><td>null</td></tr><tr><td>nm0000004</td><td>John Belushi</td><td>John Adam Belushi</td><td>170</td><td>John Belushi was born in Chicago, Illinois, USA, on January 24, 1949, to Agnes Demetri (Samaras) and Adam Anastos Belushi, a restaurant owner. His father was an Albanian immigrant, from Qytezë, and his mother was also of Albanian descent. He grew up in Wheaton, where the family moved when he was six. Though a young hellion in grade school, John became the perfect all-American boy during his high school years where he was co-captain of the Wheaton Central High School football team and was elected homecoming king his senior year. He also developed an interest in acting and appeared in the high school variety show. Encouraged by his drama teacher, John decided to put aside his plans to become a football coach to pursue a career in acting.After graduation in 1967, John performed in summer stock in rural Indiana in a variety of roles from Cardinal Wolsey in Anne of a Thousand Days to a comic detective in Ten Little Indians. In the fall of his freshman year at the University of Wisconsin at Whitewater, John changed his image into a bad-boy appearance by growing his hair long and began to have problems with discipline and structure of attending classes.Dropping out of Wisconsin, John spent the next two years at the College of DuPage, a junior college a few miles from his parents' Wheaton home, where his father began persuading him to become a partner in his restaurant, but John still preferred acting. While attending DuPage, John helped found the West Compass Players, an improv comedy troupe patterned after Chicago's famous Second City ensemble.In 1971, John made the leap to Second City itself where he performed in various on-stage comic performances with others, who included Harold Ramis and Joe Flaherty. John loved his life at Second City where he performed six nights a week, perfecting the physical gonzo style of comedy he later made famous.A year later, John and his live-in girlfriend from his high school years, Judith Belushi-Pisano, moved to New York because John had joined the cast of National Lampoon's Lemmings, an off-Broadway rock musical revue that was originally booked for a six-week run but played to full crowds for nearly 10 months.In 1973, John was hired as a writer for the syndicated National Lampoon's Radio Hour which became the National Lampoon Show in 1975. John's big break came that same year when he joined the ground-breaking TV variety series Il Saturday Night Live (1975) which made him a star. The unpredictable, aggressively physical style of humor that he began on Second City flowered on SNL.In 1978, while still working on Il Saturday Night Live (1975), John appeared in the movie Verso il sud (1978) which starred and was directed by Jack Nicholson. It was here that director John Landis noticed John and decided to cast him in his movie National Lampoon's Animal House (1978). John's minor role as the notorious, beer-swilling Bluto made it a box-office smash and the year's top grossing comedy. Despite appearing in only a dozen scenes, John's performance stole the movie, which portrays college fraternity shenanigans at a small college set in the year 1962.In 1979, John along with fellow SNL regular Dan Aykroyd quit the series to pursue movie projects. John and Dan Aykroyd appeared in minor roles in Steven Spielberg's financially unsuccessful 1941 - Allarme a Hollywood (1979) and, the following year, in John Landis' The Blues Brothers - I fratelli Blues (1980). Around this time, John's drug use began escalating. Cocaine, which was ubiquitous in show-business circles in the 1970's, became his drug of choice. After he first experimented with cocaine in the mid 1970s, John almost immediately became addicted to it. His frequent cocaine sniffing binges became a source of friction between him and Judy, whom he married in 1976.John's love for blues and soul music inspired the Blues Brothers. He and Aykroyd first appeared as Joliet Jake and Elwood Blues, a pair of white soul men dressed in black suits, skinny ties, fedora hats and Rayban sunglasses, as a warm-up act before the telecasts of Il Saturday Night Live (1975). Building on the success of their acts and the release of their album A Briefcase Full of Blues, John and Dan Aykroyd starred in the movie, which gave John a chance to act with his favorite musical heroes including Ray Charles, James Brown and Aretha Franklin.Although John's reputation for being an off-screen party animal is legendary, his generous side is less well known. Using some of his money, he bought his father a ranch outside San Diego for him to live. John helped set up some of his Chicago friends with their own businesses and even financially helped his younger brother, Jim Belushi, who followed his older brother's path to both Second City and Il Saturday Night Live (1975).In 1981, John appeared in the movie Chiamami Aquila (1981), playing a hard-nosed Chicago newspaperman who finds romance in Colorado with eagle expert Blair Brown. That same year, John and Dan Aykroyd appeared again in the movie I vicini di casa (1981), which gave them a chance to reverse roles, with John playing a straight-arrow family man whose life is turned upside down when a wild family man (Aykroyd) moves in next door.In January 1982, John began work on the screenplay for another movie to be titled Noble Rot. Also, John had checked into a bungalow at the Chateau Marmont, a popular celebrity hotel in Los Angeles. John's drug use had been steadily increasing for over a year now, which alarmed his wife and friends, but he continued to promise Judy that he would quit someday. On March 5, 1982, John Belushi was found dead in his hotel room at the age of 33. The local coroner gave the cause of death as a lethal injection of cocaine and heroin. Several years later, John's drug dealing/drug user companion during his final weeks, Cathy Smith, was tried and sentenced to three years in prison for supplying John with the drugs. Close friend James Taylor sang That Lonesome Road at a memorial service at Martha's Vineyard cemetery where John was buried.</td><td>January 24, 1949 in Chicago, Illinois, USA</td><td>1949-01-24</td><td>Chicago, Illinois, USA</td><td>March 5, 1982 in Hollywood, Los Angeles, California, USA  (acute cocaine and heroin intoxication)</td><td>1982-01-05</td><td>Hollywood, Los Angeles, California, USA  </td><td>acute cocaine and heroin intoxication</td><td>Judith Belushi-Pisano  (31 December 1976 - 5 March 1982) (his death)</td><td>1</td><td>0</td><td>0</td><td>0</td><td>1744113142</td><td>5.58</td><td>33</td></tr><tr><td>nm0000005</td><td>Ingmar Bergman</td><td>Ernst Ingmar Bergman</td><td>179</td><td>Ernst Ingmar Bergman was born July 14, 1918, the son of a priest. The film and T.V. series, Con le migliori intenzioni (1992) is biographical and shows the early marriage of his parents. The film 'Söndagsbarn' depicts a bicycle journey with his father. In the miniseries Conversazioni private (1996) is the trilogy closed. Here, as in 'Den Goda Viljan' Pernilla August play his mother. Note that all three movies are not always full true biographical stories. He began his career early with a puppet theatre which he, his sister and their friends played with. But he was the manager. Strictly professional he begun writing in 1941. He had written a play called 'Kaspers död' (A.K.A. 'Kaspers Death') which was produced the same year. It became his entrance into the movie business as Stina Bergman (not a close relative), from the company S.F. (Swedish Filmindustry), had seen the play and thought that there must be some dramatic talent in young Ingmar. His first job was to save other more famous writers' poor scripts. Under one of that script-saving works he remembered that he had written a novel about his last year as a student. He took the novel, did the save-poor-script job first, then wrote a screenplay on his own novel. When he went back to S.F., he delivered two scripts rather than one. The script was Spasimo (1944) and was the fist Bergman screenplay that was put into film (by Alf Sjöberg). It was also in that movie Bergman did his first professional film-director job. Because Alf Sjöberg was busy, Bergman got the order to shoot the last sequence of the film. Ingmar Bergman is the father of Daniel Bergman, director, and Mats Bergman, actor at the Swedish Royal Dramatic Theater. Ingmar Bergman was also C.E.O. of the same theatre between 1963-1966, where he hired almost every professional actor in Sweden. In 1976 he had a famous tax problem. Bergman had trusted other people to advise him on his finances, but it turned out to be very bad advice. Bergman had to leave the country immediately, and so he went to Germany. A few years later he returned to Sweden and made his last theatrical film Fanny & Alexander (1982) (A.K.A. 'Fanny and Alexander'). In later life he retired from movie directing, but still wrote scripts for film and T.V. and directed plays at the Swedish Royal Dramatic Theatre for many years. He died peacefully in his sleep on July 30, 2007.</td><td>July 14, 1918 in Uppsala, Uppsala län, Sweden</td><td>1918-01-14</td><td>Uppsala, Uppsala län, Sweden</td><td>July 30, 2007 in Fårö, Gotlands län, Sweden  (natural causes)</td><td>2007-01-30</td><td>Fårö, Gotlands län, Sweden  </td><td>natural causes</td><td>Ingrid Bergman  (11 November 1971 - 20 May 1995) (her death) (1 child)Käbi Laretei  (1959 - 1969) (divorced) (1 child)Gun Grut  (1951 - 1959) (divorced) (1 child)Ellen Bergman  (22 July 1945 - 1950) (divorced) (4 children)Else Fisher  (25 March 1943 - 1945) (divorced) (1 child)</td><td>5</td><td>4</td><td>5</td><td>8</td><td>1744113142</td><td>5.87</td><td>89</td></tr></tbody></table></div>"
      ]
     },
     "metadata": {
      "application/vnd.databricks.v1+output": {
       "addedWidgets": {},
       "aggData": [],
       "aggError": "",
       "aggOverflow": false,
       "aggSchema": [],
       "aggSeriesLimitReached": false,
       "aggType": "",
       "arguments": {},
       "columnCustomDisplayInfos": {},
       "data": [
        [
         "nm0000001",
         "Fred Astaire",
         "Frederic Austerlitz Jr.",
         177,
         "Fred Astaire was born in Omaha, Nebraska, to Johanna (Geilus) and Fritz Austerlitz, a brewer. Fred entered show business at age 5. He was successful both in vaudeville and on Broadway in partnership with his sister, Adele Astaire. After Adele retired to marry in 1932, Astaire headed to Hollywood. Signed to RKO, he was loaned to MGM to appear in La danza di Venere (1933) before starting work on RKO's Carioca (1933). In the latter film, he began his highly successful partnership with Ginger Rogers, with whom he danced in 9 RKO pictures. During these years, he was also active in recording and radio. On film, Astaire later appeared opposite a number of partners through various studios. After a temporary retirement in 1945-7, during which he opened Fred Astaire Dance Studios, Astaire returned to film to star in more musicals through 1957. He subsequently performed a number of straight dramatic roles in film and TV.",
         "May 10, 1899 in Omaha, Nebraska, USA",
         null,
         "Omaha, Nebraska, USA",
         "June 22, 1987 in Los Angeles, California, USA  (pneumonia)",
         "1987-01-22",
         "Los Angeles, California, USA  ",
         "pneumonia",
         "Robyn Smith  (27 June 1980 - 22 June 1987) (his death)Phyllis Livingston Potter  (12 July 1933 - 13 September 1954) (her death) (2 children)",
         2,
         0,
         1,
         2,
         1744113142,
         5.81,
         null
        ],
        [
         "nm0000002",
         "Lauren Bacall",
         "Betty Joan Perske",
         174,
         "Lauren Bacall was born Betty Joan Perske on September 16, 1924, in New York City. She was the daughter of Natalie Weinstein-Bacal, a Romanian Jewish immigrant, and William Perske, who was born in New Jersey, to Polish Jewish parents. Her family was middle-class, with her father working as a salesman and her mother as a secretary. They divorced when she was five and she rarely saw her father after that.As a school girl, she originally wanted to be a dancer, but later switched gears to head into acting. She studied at the American Academy of Dramatic Arts in New York, after attending She was educated at Highland Manor, a private boarding school in Tarrytown, New York (through the generosity of wealthy uncles), and then at Julia Richman High School, which enabled her to get her feet wet in some off-Broadway productions.Out of school, she entered modeling and, because of her beauty, appeared on the cover of Harper's Bazaar, one of the most popular magazines in the US. The wife of famed director Howard Hawks spotted the picture in the publication and arranged with her husband to have Lauren take a screen test. As a result, which was entirely positive, she was given the part of Marie Browning in Acque del Sud (1944), a thriller opposite Humphrey Bogart, when she was just 19 years old. This not only set the tone for a fabulous career but also one of Hollywood's greatest love stories (she married Bogart in 1945). It was also the first of several Bogie-Bacall films.After 1945's L'agente confidenziale (1945), Lauren received second billing in Il grande sonno (1946) with Bogart. The mystery, in the role of Vivian Sternwood Rutledge, was a resounding success. Although she was making one film a year, each production would be eagerly awaited by the public. In 1947, again with her husband, Lauren starred in the thriller La fuga (1947). The film kept movie patrons on the edge of their seats. The following year, she starred with Bogart, Edward G. Robinson, and Lionel Barrymore in L'isola di corallo (1948). The crime drama was even more of a nail biter than her previous film.In 1950, Lauren starred in Le foglie d'oro (1950), a drama set in 1894. It was a film of note because she appeared without her husband - her co-star was Gary Cooper. In 1953, Lauren appeared in her first comedy as Schatze Page in Come sposare un milionario (1953). The film, with co-stars Marilyn Monroe and Betty Grable, was a smash hit all across the theaters of America.After filming La donna del destino (1957), which was released in 1957, Humphrey Bogart died on January 14 from throat cancer. Devastated at being a widow, Lauren returned to the silver screen with Dono d'amore (1958) in 1958 opposite Robert Stack. The production turned out to be a big disappointment. Undaunted, Lauren moved back to New York City and appeared in several Broadway plays to huge critical acclaim. She was enjoying acting before live audiences and the audiences in turn enjoyed her fine performances.Lauren was away from the big screen for five years, but she returned in 1964 to appear in Elettroshock (1964) and Donne v'insegno come si seduce un uomo (1964). The latter film was a comedy starring Henry Fonda and Tony Curtis. In 1966, Lauren starred in Detective's Story (1966) with Paul Newman and Julie Harris, which was one of former's signature films.Alternating her time between films and the stage, Lauren returned in 1974's Assassinio sull'Orient Express (1974). The film, based on Agatha Christie's best-selling book was a huge hit. It also garnered Ingrid Bergman her third Oscar. Actually, the huge star-studded cast helped to ensure its success. Two years later, in 1976, Lauren co-starred with John Wayne in Il pistolero (1976). The film was Wayne's last - he died from cancer in 1979.In 1981, she played an actress being stalked by a crazed admirer in Un'ombra nel buio (1981). The thriller was absolutely fascinating with Lauren in the lead role. After that production, Lauren was away from films again, this time for seven years. In the interim, she again appeared on the stages of Broadway. When she returned, it was for the filming of 1988's Mr. North (1988). After 1990's Misery non deve morire (1990) and several made for television films, Lauren appeared in 1996's Fuga dalla Casa Bianca (1996), a comedy romp with Jack Lemmon and James Garner as two ex-presidents and their escapades.Despite her age and failing health, she made a small-scale comeback in the English-language dub of Hayao Miyazaki's Il castello errante di Howl (2004) (Howl's Moving Castle, based on the young-adult novel by Diana Wynne Jones) as the Witch of the Waste, but acting endeavors for the beloved actress became increasingly rare. Lauren Bacall died on 12 August 2014, five weeks short of her 90th birthday.",
         "September 16, 1924 in The Bronx, New York City, New York, USA",
         "1924-01-16",
         "The Bronx, New York City, New York, USA",
         "August 12, 2014 in New York City, New York, USA  (stroke)",
         "2014-01-12",
         "New York City, New York, USA  ",
         "stroke",
         "Jason Robards  (4 July 1961 - 10 September 1969) (divorced) (1 child)Humphrey Bogart  (21 May 1945 - 14 January 1957) (his death) (2 children)",
         2,
         1,
         2,
         3,
         1744113142,
         5.71,
         90
        ],
        [
         "nm0000003",
         "Brigitte Bardot",
         "Brigitte Bardot",
         166,
         "Brigitte Bardot was born on September 28, 1934 in Paris, France. Her father had an engineering degree and worked with his father in the family business. Brigitte's mother encouraged her daughter to take up music and dance, and she proved to be very adept at it. By the time she was 15, Brigitte was trying a modeling career, and found herself in the French magazine Elle. Her incredible beauty readily apparent, Brigitte next tried films. In 1952, she appeared on screen for the first time as Javotte Lemoine in Le trou normand (1952). Two more films followed and it was also the same year she married Roger Vadim (the union lasted 3½ years). Capitalizing on her success in French films, Brigitte made her first American production in Atto d'amore (1953) with Kirk Douglas, but she continued to make films in France. Brigitte's explosive sexuality took the United States by storm, and the effect she had on millions of American men who had not seen a woman like her in a long, long time--if ever--was electric. Rise to the phrase sex kitten and fascination of her in the United States consisted of magazines photographs and dubbed over French films--good, bad or indifferent, her films drew audiences--mainly men--into theaters like lemmings. In 1965, she appeared as herself in the American-made Erasmo il lentigginoso (1965) with James Stewart (she only appeared in one scene). Just before she turned 40, Brigitte retired from movies after filming Colinot l'alzasottane (1973). She prefers life outside of stardom. While it enabled her to become internationally famous, it also carried with it annoyances. It was not anything for her to have fans enter her house or wander around the grounds of her home in the hopes of getting a glimpse of her or to take something that belonged to her. Paparazzi constantly hounded her with their cameras. She has been so soft-hearted that some people even have taken advantage of her generosity. After her life in the spotlight, Brigitte went on to become a leading spokesperson for animal rights and started the Foundation Brigitte Bardot dedicated solely to that cause. Her work in that realm is, perhaps, far greater than any film she could have made. Brigitte has been married to Bernard d'Ormale since 1992 and they reside in St. Tropez with their nearly 50 pets.",
         "September 28, 1934 in Paris, France",
         "1934-01-28",
         "Paris, France",
         null,
         null,
         null,
         null,
         "Bernard d'Ormale  (16 August 1992 - present)Gunter Sachs  (14 July 1966 - 3 July 1969) (divorced)Jacques Charrier  (18 June 1959 - 20 November 1962) (divorced) (1 child)Roger Vadim  (20 December 1952 - 6 December 1957) (divorced)",
         4,
         3,
         1,
         1,
         1744113142,
         5.45,
         null
        ],
        [
         "nm0000004",
         "John Belushi",
         "John Adam Belushi",
         170,
         "John Belushi was born in Chicago, Illinois, USA, on January 24, 1949, to Agnes Demetri (Samaras) and Adam Anastos Belushi, a restaurant owner. His father was an Albanian immigrant, from Qytezë, and his mother was also of Albanian descent. He grew up in Wheaton, where the family moved when he was six. Though a young hellion in grade school, John became the perfect all-American boy during his high school years where he was co-captain of the Wheaton Central High School football team and was elected homecoming king his senior year. He also developed an interest in acting and appeared in the high school variety show. Encouraged by his drama teacher, John decided to put aside his plans to become a football coach to pursue a career in acting.After graduation in 1967, John performed in summer stock in rural Indiana in a variety of roles from Cardinal Wolsey in Anne of a Thousand Days to a comic detective in Ten Little Indians. In the fall of his freshman year at the University of Wisconsin at Whitewater, John changed his image into a bad-boy appearance by growing his hair long and began to have problems with discipline and structure of attending classes.Dropping out of Wisconsin, John spent the next two years at the College of DuPage, a junior college a few miles from his parents' Wheaton home, where his father began persuading him to become a partner in his restaurant, but John still preferred acting. While attending DuPage, John helped found the West Compass Players, an improv comedy troupe patterned after Chicago's famous Second City ensemble.In 1971, John made the leap to Second City itself where he performed in various on-stage comic performances with others, who included Harold Ramis and Joe Flaherty. John loved his life at Second City where he performed six nights a week, perfecting the physical gonzo style of comedy he later made famous.A year later, John and his live-in girlfriend from his high school years, Judith Belushi-Pisano, moved to New York because John had joined the cast of National Lampoon's Lemmings, an off-Broadway rock musical revue that was originally booked for a six-week run but played to full crowds for nearly 10 months.In 1973, John was hired as a writer for the syndicated National Lampoon's Radio Hour which became the National Lampoon Show in 1975. John's big break came that same year when he joined the ground-breaking TV variety series Il Saturday Night Live (1975) which made him a star. The unpredictable, aggressively physical style of humor that he began on Second City flowered on SNL.In 1978, while still working on Il Saturday Night Live (1975), John appeared in the movie Verso il sud (1978) which starred and was directed by Jack Nicholson. It was here that director John Landis noticed John and decided to cast him in his movie National Lampoon's Animal House (1978). John's minor role as the notorious, beer-swilling Bluto made it a box-office smash and the year's top grossing comedy. Despite appearing in only a dozen scenes, John's performance stole the movie, which portrays college fraternity shenanigans at a small college set in the year 1962.In 1979, John along with fellow SNL regular Dan Aykroyd quit the series to pursue movie projects. John and Dan Aykroyd appeared in minor roles in Steven Spielberg's financially unsuccessful 1941 - Allarme a Hollywood (1979) and, the following year, in John Landis' The Blues Brothers - I fratelli Blues (1980). Around this time, John's drug use began escalating. Cocaine, which was ubiquitous in show-business circles in the 1970's, became his drug of choice. After he first experimented with cocaine in the mid 1970s, John almost immediately became addicted to it. His frequent cocaine sniffing binges became a source of friction between him and Judy, whom he married in 1976.John's love for blues and soul music inspired the Blues Brothers. He and Aykroyd first appeared as Joliet Jake and Elwood Blues, a pair of white soul men dressed in black suits, skinny ties, fedora hats and Rayban sunglasses, as a warm-up act before the telecasts of Il Saturday Night Live (1975). Building on the success of their acts and the release of their album A Briefcase Full of Blues, John and Dan Aykroyd starred in the movie, which gave John a chance to act with his favorite musical heroes including Ray Charles, James Brown and Aretha Franklin.Although John's reputation for being an off-screen party animal is legendary, his generous side is less well known. Using some of his money, he bought his father a ranch outside San Diego for him to live. John helped set up some of his Chicago friends with their own businesses and even financially helped his younger brother, Jim Belushi, who followed his older brother's path to both Second City and Il Saturday Night Live (1975).In 1981, John appeared in the movie Chiamami Aquila (1981), playing a hard-nosed Chicago newspaperman who finds romance in Colorado with eagle expert Blair Brown. That same year, John and Dan Aykroyd appeared again in the movie I vicini di casa (1981), which gave them a chance to reverse roles, with John playing a straight-arrow family man whose life is turned upside down when a wild family man (Aykroyd) moves in next door.In January 1982, John began work on the screenplay for another movie to be titled Noble Rot. Also, John had checked into a bungalow at the Chateau Marmont, a popular celebrity hotel in Los Angeles. John's drug use had been steadily increasing for over a year now, which alarmed his wife and friends, but he continued to promise Judy that he would quit someday. On March 5, 1982, John Belushi was found dead in his hotel room at the age of 33. The local coroner gave the cause of death as a lethal injection of cocaine and heroin. Several years later, John's drug dealing/drug user companion during his final weeks, Cathy Smith, was tried and sentenced to three years in prison for supplying John with the drugs. Close friend James Taylor sang That Lonesome Road at a memorial service at Martha's Vineyard cemetery where John was buried.",
         "January 24, 1949 in Chicago, Illinois, USA",
         "1949-01-24",
         "Chicago, Illinois, USA",
         "March 5, 1982 in Hollywood, Los Angeles, California, USA  (acute cocaine and heroin intoxication)",
         "1982-01-05",
         "Hollywood, Los Angeles, California, USA  ",
         "acute cocaine and heroin intoxication",
         "Judith Belushi-Pisano  (31 December 1976 - 5 March 1982) (his death)",
         1,
         0,
         0,
         0,
         1744113142,
         5.58,
         33
        ],
        [
         "nm0000005",
         "Ingmar Bergman",
         "Ernst Ingmar Bergman",
         179,
         "Ernst Ingmar Bergman was born July 14, 1918, the son of a priest. The film and T.V. series, Con le migliori intenzioni (1992) is biographical and shows the early marriage of his parents. The film 'Söndagsbarn' depicts a bicycle journey with his father. In the miniseries Conversazioni private (1996) is the trilogy closed. Here, as in 'Den Goda Viljan' Pernilla August play his mother. Note that all three movies are not always full true biographical stories. He began his career early with a puppet theatre which he, his sister and their friends played with. But he was the manager. Strictly professional he begun writing in 1941. He had written a play called 'Kaspers död' (A.K.A. 'Kaspers Death') which was produced the same year. It became his entrance into the movie business as Stina Bergman (not a close relative), from the company S.F. (Swedish Filmindustry), had seen the play and thought that there must be some dramatic talent in young Ingmar. His first job was to save other more famous writers' poor scripts. Under one of that script-saving works he remembered that he had written a novel about his last year as a student. He took the novel, did the save-poor-script job first, then wrote a screenplay on his own novel. When he went back to S.F., he delivered two scripts rather than one. The script was Spasimo (1944) and was the fist Bergman screenplay that was put into film (by Alf Sjöberg). It was also in that movie Bergman did his first professional film-director job. Because Alf Sjöberg was busy, Bergman got the order to shoot the last sequence of the film. Ingmar Bergman is the father of Daniel Bergman, director, and Mats Bergman, actor at the Swedish Royal Dramatic Theater. Ingmar Bergman was also C.E.O. of the same theatre between 1963-1966, where he hired almost every professional actor in Sweden. In 1976 he had a famous tax problem. Bergman had trusted other people to advise him on his finances, but it turned out to be very bad advice. Bergman had to leave the country immediately, and so he went to Germany. A few years later he returned to Sweden and made his last theatrical film Fanny & Alexander (1982) (A.K.A. 'Fanny and Alexander'). In later life he retired from movie directing, but still wrote scripts for film and T.V. and directed plays at the Swedish Royal Dramatic Theatre for many years. He died peacefully in his sleep on July 30, 2007.",
         "July 14, 1918 in Uppsala, Uppsala län, Sweden",
         "1918-01-14",
         "Uppsala, Uppsala län, Sweden",
         "July 30, 2007 in Fårö, Gotlands län, Sweden  (natural causes)",
         "2007-01-30",
         "Fårö, Gotlands län, Sweden  ",
         "natural causes",
         "Ingrid Bergman  (11 November 1971 - 20 May 1995) (her death) (1 child)Käbi Laretei  (1959 - 1969) (divorced) (1 child)Gun Grut  (1951 - 1959) (divorced) (1 child)Ellen Bergman  (22 July 1945 - 1950) (divorced) (4 children)Else Fisher  (25 March 1943 - 1945) (divorced) (1 child)",
         5,
         4,
         5,
         8,
         1744113142,
         5.87,
         89
        ]
       ],
       "datasetInfos": [],
       "dbfsResultPath": null,
       "isJsonSchema": true,
       "metadata": {},
       "overflow": false,
       "plotOptions": {
        "customPlotOptions": {},
        "displayType": "table",
        "pivotAggregation": null,
        "pivotColumns": null,
        "xColumns": null,
        "yColumns": null
       },
       "removedWidgets": [],
       "schema": [
        {
         "metadata": "{}",
         "name": "imdb_name_id",
         "type": "\"string\""
        },
        {
         "metadata": "{}",
         "name": "name",
         "type": "\"string\""
        },
        {
         "metadata": "{}",
         "name": "birth_name",
         "type": "\"string\""
        },
        {
         "metadata": "{}",
         "name": "height",
         "type": "\"integer\""
        },
        {
         "metadata": "{}",
         "name": "bio",
         "type": "\"string\""
        },
        {
         "metadata": "{}",
         "name": "birth_details",
         "type": "\"string\""
        },
        {
         "metadata": "{}",
         "name": "date_of_birth",
         "type": "\"date\""
        },
        {
         "metadata": "{}",
         "name": "place_of_birth",
         "type": "\"string\""
        },
        {
         "metadata": "{}",
         "name": "death_details",
         "type": "\"string\""
        },
        {
         "metadata": "{}",
         "name": "date_of_death",
         "type": "\"date\""
        },
        {
         "metadata": "{}",
         "name": "place_of_death",
         "type": "\"string\""
        },
        {
         "metadata": "{}",
         "name": "reason_of_death",
         "type": "\"string\""
        },
        {
         "metadata": "{}",
         "name": "spouses_string",
         "type": "\"string\""
        },
        {
         "metadata": "{}",
         "name": "spouses",
         "type": "\"integer\""
        },
        {
         "metadata": "{}",
         "name": "divorces",
         "type": "\"integer\""
        },
        {
         "metadata": "{}",
         "name": "spouses_with_children",
         "type": "\"integer\""
        },
        {
         "metadata": "{}",
         "name": "children",
         "type": "\"integer\""
        },
        {
         "metadata": "{}",
         "name": "epoch",
         "type": "\"long\""
        },
        {
         "metadata": "{}",
         "name": "height_ft",
         "type": "\"double\""
        },
        {
         "metadata": "{}",
         "name": "age",
         "type": "\"integer\""
        }
       ],
       "type": "table"
      }
     },
     "output_type": "display_data"
    }
   ],
   "source": [
    "from pyspark.sql.functions import * \n",
    "\n",
    "# Dodaję kolumnę z czasem, wysokość w stopach, wiek aktorów\n",
    "namesDf = namesDf.withColumn('epoch', unix_timestamp(current_timestamp())) \\\n",
    "                 .withColumn('height_ft', round(col('height') * 0.0328084, 2)) \\\n",
    "                 .withColumn(\"date_of_birth\", to_date(\"date_of_birth\", \"dd.mm.yyyy\")) \\\n",
    "                 .withColumn(\"date_of_death\", to_date(\"date_of_death\", \"dd.mm.yyyy\")) \\\n",
    "                 .withColumn(\"age\", year(\"date_of_death\") - year(\"date_of_birth\"))\n",
    "display(namesDf.limit(5))"
   ]
  },
  {
   "cell_type": "code",
   "execution_count": 0,
   "metadata": {
    "application/vnd.databricks.v1+cell": {
     "cellMetadata": {
      "byteLimit": 2048000,
      "rowLimit": 10000
     },
     "inputWidgets": {},
     "nuid": "920b0093-3a1f-4554-a7f8-6c4958c3bb38",
     "showTitle": false,
     "tableResultSettingsMap": {},
     "title": ""
    }
   },
   "outputs": [
    {
     "output_type": "stream",
     "name": "stdout",
     "output_type": "stream",
     "text": [
      "== Physical Plan ==\nAdaptiveSparkPlan (7)\n+- TakeOrderedAndProject (6)\n   +- HashAggregate (5)\n      +- Exchange (4)\n         +- HashAggregate (3)\n            +- Project (2)\n               +- Scan csv  (1)\n\n\n(1) Scan csv \nOutput [1]: [name#21]\nBatched: false\nLocation: InMemoryFileIndex [dbfs:/FileStore/tables/Files/names.csv]\nReadSchema: struct<name:string>\n\n(2) Project\nOutput [1]: [split(name#21,  , 2)[0] AS first_name#213]\nInput [1]: [name#21]\n\n(3) HashAggregate\nInput [1]: [first_name#213]\nKeys [1]: [first_name#213]\nFunctions [1]: [partial_count(1) AS count#244L]\nAggregate Attributes [1]: [count#243L]\nResults [2]: [first_name#213, count#244L]\n\n(4) Exchange\nInput [2]: [first_name#213, count#244L]\nArguments: hashpartitioning(first_name#213, 200), ENSURE_REQUIREMENTS, [plan_id=79]\n\n(5) HashAggregate\nInput [2]: [first_name#213, count#244L]\nKeys [1]: [first_name#213]\nFunctions [1]: [finalmerge_count(merge count#244L) AS count(1)#239L]\nAggregate Attributes [1]: [count(1)#239L]\nResults [2]: [first_name#213, count(1)#239L AS count#240L]\n\n(6) TakeOrderedAndProject\nInput [2]: [first_name#213, count#240L]\nArguments: 1, [count#240L DESC NULLS LAST], [first_name#213, count#240L]\n\n(7) AdaptiveSparkPlan\nOutput [2]: [first_name#213, count#240L]\nArguments: isFinalPlan=false\n\n\n"
     ]
    },
    {
     "output_type": "display_data",
     "data": {
      "text/html": [
       "<style scoped>\n",
       "  .table-result-container {\n",
       "    max-height: 300px;\n",
       "    overflow: auto;\n",
       "  }\n",
       "  table, th, td {\n",
       "    border: 1px solid black;\n",
       "    border-collapse: collapse;\n",
       "  }\n",
       "  th, td {\n",
       "    padding: 5px;\n",
       "  }\n",
       "  th {\n",
       "    text-align: left;\n",
       "  }\n",
       "</style><div class='table-result-container'><table class='table-result'><thead style='background-color: white'><tr><th>first_name</th><th>count</th></tr></thead><tbody><tr><td>John</td><td>873</td></tr></tbody></table></div>"
      ]
     },
     "metadata": {
      "application/vnd.databricks.v1+output": {
       "addedWidgets": {},
       "aggData": [],
       "aggError": "",
       "aggOverflow": false,
       "aggSchema": [],
       "aggSeriesLimitReached": false,
       "aggType": "",
       "arguments": {},
       "columnCustomDisplayInfos": {},
       "data": [
        [
         "John",
         873
        ]
       ],
       "datasetInfos": [],
       "dbfsResultPath": null,
       "isJsonSchema": true,
       "metadata": {},
       "overflow": false,
       "plotOptions": {
        "customPlotOptions": {},
        "displayType": "table",
        "pivotAggregation": null,
        "pivotColumns": null,
        "xColumns": null,
        "yColumns": null
       },
       "removedWidgets": [],
       "schema": [
        {
         "metadata": "{}",
         "name": "first_name",
         "type": "\"string\""
        },
        {
         "metadata": "{}",
         "name": "count",
         "type": "\"long\""
        }
       ],
       "type": "table"
      }
     },
     "output_type": "display_data"
    }
   ],
   "source": [
    "# Najpopularniejsze imię \n",
    "most_popular_name = namesDf.withColumn(\"first_name\", split(\"name\", \" \")[0]).select(\"name\", \"first_name\").groupBy(\"first_name\").count().sort(desc(\"count\")).limit(1)\n",
    "most_popular_name.explain(mode=\"formatted\")\n",
    "display(most_popular_name) # John"
   ]
  },
  {
   "cell_type": "code",
   "execution_count": 0,
   "metadata": {
    "application/vnd.databricks.v1+cell": {
     "cellMetadata": {
      "byteLimit": 2048000,
      "rowLimit": 10000
     },
     "inputWidgets": {},
     "nuid": "3df75539-2823-4382-8d3d-b1fb700d357a",
     "showTitle": false,
     "tableResultSettingsMap": {},
     "title": ""
    }
   },
   "outputs": [
    {
     "output_type": "display_data",
     "data": {
      "text/html": [
       "<style scoped>\n",
       "  .table-result-container {\n",
       "    max-height: 300px;\n",
       "    overflow: auto;\n",
       "  }\n",
       "  table, th, td {\n",
       "    border: 1px solid black;\n",
       "    border-collapse: collapse;\n",
       "  }\n",
       "  th, td {\n",
       "    padding: 5px;\n",
       "  }\n",
       "  th {\n",
       "    text-align: left;\n",
       "  }\n",
       "</style><div class='table-result-container'><table class='table-result'><thead style='background-color: white'><tr><th>ImdbNameId</th><th>Name</th><th>BirthName</th><th>Height</th><th>BirthDetails</th><th>DateOfBirth</th><th>PlaceOfBirth</th><th>DateOfDeath</th><th>PlaceOfDeath</th><th>ReasonOfDeath</th><th>SpousesString</th><th>Spouses</th><th>Divorces</th><th>SpousesWithChildren</th><th>Children</th><th>Epoch</th><th>HeightFt</th><th>Age</th></tr></thead><tbody><tr><td>nm0000001</td><td>Fred Astaire</td><td>Frederic Austerlitz Jr.</td><td>177</td><td>May 10, 1899 in Omaha, Nebraska, USA</td><td>null</td><td>Omaha, Nebraska, USA</td><td>1987-01-22</td><td>Los Angeles, California, USA  </td><td>pneumonia</td><td>Robyn Smith  (27 June 1980 - 22 June 1987) (his death)Phyllis Livingston Potter  (12 July 1933 - 13 September 1954) (her death) (2 children)</td><td>2</td><td>0</td><td>1</td><td>2</td><td>1744113174</td><td>5.81</td><td>null</td></tr><tr><td>nm0000002</td><td>Lauren Bacall</td><td>Betty Joan Perske</td><td>174</td><td>September 16, 1924 in The Bronx, New York City, New York, USA</td><td>1924-01-16</td><td>The Bronx, New York City, New York, USA</td><td>2014-01-12</td><td>New York City, New York, USA  </td><td>stroke</td><td>Jason Robards  (4 July 1961 - 10 September 1969) (divorced) (1 child)Humphrey Bogart  (21 May 1945 - 14 January 1957) (his death) (2 children)</td><td>2</td><td>1</td><td>2</td><td>3</td><td>1744113174</td><td>5.71</td><td>90</td></tr><tr><td>nm0000003</td><td>Brigitte Bardot</td><td>Brigitte Bardot</td><td>166</td><td>September 28, 1934 in Paris, France</td><td>1934-01-28</td><td>Paris, France</td><td>null</td><td>null</td><td>null</td><td>Bernard d'Ormale  (16 August 1992 - present)Gunter Sachs  (14 July 1966 - 3 July 1969) (divorced)Jacques Charrier  (18 June 1959 - 20 November 1962) (divorced) (1 child)Roger Vadim  (20 December 1952 - 6 December 1957) (divorced)</td><td>4</td><td>3</td><td>1</td><td>1</td><td>1744113174</td><td>5.45</td><td>null</td></tr><tr><td>nm0000004</td><td>John Belushi</td><td>John Adam Belushi</td><td>170</td><td>January 24, 1949 in Chicago, Illinois, USA</td><td>1949-01-24</td><td>Chicago, Illinois, USA</td><td>1982-01-05</td><td>Hollywood, Los Angeles, California, USA  </td><td>acute cocaine and heroin intoxication</td><td>Judith Belushi-Pisano  (31 December 1976 - 5 March 1982) (his death)</td><td>1</td><td>0</td><td>0</td><td>0</td><td>1744113174</td><td>5.58</td><td>33</td></tr><tr><td>nm0000005</td><td>Ingmar Bergman</td><td>Ernst Ingmar Bergman</td><td>179</td><td>July 14, 1918 in Uppsala, Uppsala län, Sweden</td><td>1918-01-14</td><td>Uppsala, Uppsala län, Sweden</td><td>2007-01-30</td><td>Fårö, Gotlands län, Sweden  </td><td>natural causes</td><td>Ingrid Bergman  (11 November 1971 - 20 May 1995) (her death) (1 child)Käbi Laretei  (1959 - 1969) (divorced) (1 child)Gun Grut  (1951 - 1959) (divorced) (1 child)Ellen Bergman  (22 July 1945 - 1950) (divorced) (4 children)Else Fisher  (25 March 1943 - 1945) (divorced) (1 child)</td><td>5</td><td>4</td><td>5</td><td>8</td><td>1744113174</td><td>5.87</td><td>89</td></tr></tbody></table></div>"
      ]
     },
     "metadata": {
      "application/vnd.databricks.v1+output": {
       "addedWidgets": {},
       "aggData": [],
       "aggError": "",
       "aggOverflow": false,
       "aggSchema": [],
       "aggSeriesLimitReached": false,
       "aggType": "",
       "arguments": {},
       "columnCustomDisplayInfos": {},
       "data": [
        [
         "nm0000001",
         "Fred Astaire",
         "Frederic Austerlitz Jr.",
         177,
         "May 10, 1899 in Omaha, Nebraska, USA",
         null,
         "Omaha, Nebraska, USA",
         "1987-01-22",
         "Los Angeles, California, USA  ",
         "pneumonia",
         "Robyn Smith  (27 June 1980 - 22 June 1987) (his death)Phyllis Livingston Potter  (12 July 1933 - 13 September 1954) (her death) (2 children)",
         2,
         0,
         1,
         2,
         1744113174,
         5.81,
         null
        ],
        [
         "nm0000002",
         "Lauren Bacall",
         "Betty Joan Perske",
         174,
         "September 16, 1924 in The Bronx, New York City, New York, USA",
         "1924-01-16",
         "The Bronx, New York City, New York, USA",
         "2014-01-12",
         "New York City, New York, USA  ",
         "stroke",
         "Jason Robards  (4 July 1961 - 10 September 1969) (divorced) (1 child)Humphrey Bogart  (21 May 1945 - 14 January 1957) (his death) (2 children)",
         2,
         1,
         2,
         3,
         1744113174,
         5.71,
         90
        ],
        [
         "nm0000003",
         "Brigitte Bardot",
         "Brigitte Bardot",
         166,
         "September 28, 1934 in Paris, France",
         "1934-01-28",
         "Paris, France",
         null,
         null,
         null,
         "Bernard d'Ormale  (16 August 1992 - present)Gunter Sachs  (14 July 1966 - 3 July 1969) (divorced)Jacques Charrier  (18 June 1959 - 20 November 1962) (divorced) (1 child)Roger Vadim  (20 December 1952 - 6 December 1957) (divorced)",
         4,
         3,
         1,
         1,
         1744113174,
         5.45,
         null
        ],
        [
         "nm0000004",
         "John Belushi",
         "John Adam Belushi",
         170,
         "January 24, 1949 in Chicago, Illinois, USA",
         "1949-01-24",
         "Chicago, Illinois, USA",
         "1982-01-05",
         "Hollywood, Los Angeles, California, USA  ",
         "acute cocaine and heroin intoxication",
         "Judith Belushi-Pisano  (31 December 1976 - 5 March 1982) (his death)",
         1,
         0,
         0,
         0,
         1744113174,
         5.58,
         33
        ],
        [
         "nm0000005",
         "Ingmar Bergman",
         "Ernst Ingmar Bergman",
         179,
         "July 14, 1918 in Uppsala, Uppsala län, Sweden",
         "1918-01-14",
         "Uppsala, Uppsala län, Sweden",
         "2007-01-30",
         "Fårö, Gotlands län, Sweden  ",
         "natural causes",
         "Ingrid Bergman  (11 November 1971 - 20 May 1995) (her death) (1 child)Käbi Laretei  (1959 - 1969) (divorced) (1 child)Gun Grut  (1951 - 1959) (divorced) (1 child)Ellen Bergman  (22 July 1945 - 1950) (divorced) (4 children)Else Fisher  (25 March 1943 - 1945) (divorced) (1 child)",
         5,
         4,
         5,
         8,
         1744113174,
         5.87,
         89
        ]
       ],
       "datasetInfos": [],
       "dbfsResultPath": null,
       "isJsonSchema": true,
       "metadata": {},
       "overflow": false,
       "plotOptions": {
        "customPlotOptions": {},
        "displayType": "table",
        "pivotAggregation": null,
        "pivotColumns": null,
        "xColumns": null,
        "yColumns": null
       },
       "removedWidgets": [],
       "schema": [
        {
         "metadata": "{}",
         "name": "ImdbNameId",
         "type": "\"string\""
        },
        {
         "metadata": "{}",
         "name": "Name",
         "type": "\"string\""
        },
        {
         "metadata": "{}",
         "name": "BirthName",
         "type": "\"string\""
        },
        {
         "metadata": "{}",
         "name": "Height",
         "type": "\"integer\""
        },
        {
         "metadata": "{}",
         "name": "BirthDetails",
         "type": "\"string\""
        },
        {
         "metadata": "{}",
         "name": "DateOfBirth",
         "type": "\"date\""
        },
        {
         "metadata": "{}",
         "name": "PlaceOfBirth",
         "type": "\"string\""
        },
        {
         "metadata": "{}",
         "name": "DateOfDeath",
         "type": "\"date\""
        },
        {
         "metadata": "{}",
         "name": "PlaceOfDeath",
         "type": "\"string\""
        },
        {
         "metadata": "{}",
         "name": "ReasonOfDeath",
         "type": "\"string\""
        },
        {
         "metadata": "{}",
         "name": "SpousesString",
         "type": "\"string\""
        },
        {
         "metadata": "{}",
         "name": "Spouses",
         "type": "\"integer\""
        },
        {
         "metadata": "{}",
         "name": "Divorces",
         "type": "\"integer\""
        },
        {
         "metadata": "{}",
         "name": "SpousesWithChildren",
         "type": "\"integer\""
        },
        {
         "metadata": "{}",
         "name": "Children",
         "type": "\"integer\""
        },
        {
         "metadata": "{}",
         "name": "Epoch",
         "type": "\"long\""
        },
        {
         "metadata": "{}",
         "name": "HeightFt",
         "type": "\"double\""
        },
        {
         "metadata": "{}",
         "name": "Age",
         "type": "\"integer\""
        }
       ],
       "type": "table"
      }
     },
     "output_type": "display_data"
    }
   ],
   "source": [
    "# Usuwam kolumny bio i death_details\n",
    "namesDf = namesDf.drop(\"bio\", \"death_details\")\n",
    "\n",
    "\n",
    "# Zmieniam nazwy kolumn, dodaję kapitalizację i usuwam _\n",
    "def rename_column(col_name):\n",
    "    return col_name.replace(\"_\", \" \").title().replace(\" \", \"\")\n",
    "  \n",
    "new_columns = [rename_column(col) for col in namesDf.columns]\n",
    "namesDf = namesDf.toDF(*new_columns)\n",
    "display(namesDf.limit(5))"
   ]
  },
  {
   "cell_type": "code",
   "execution_count": 0,
   "metadata": {
    "application/vnd.databricks.v1+cell": {
     "cellMetadata": {
      "byteLimit": 2048000,
      "rowLimit": 10000
     },
     "inputWidgets": {},
     "nuid": "060b7e32-5bc4-49c3-9663-b71b7529df9b",
     "showTitle": false,
     "tableResultSettingsMap": {},
     "title": ""
    }
   },
   "outputs": [
    {
     "output_type": "display_data",
     "data": {
      "text/html": [
       "<style scoped>\n",
       "  .table-result-container {\n",
       "    max-height: 300px;\n",
       "    overflow: auto;\n",
       "  }\n",
       "  table, th, td {\n",
       "    border: 1px solid black;\n",
       "    border-collapse: collapse;\n",
       "  }\n",
       "  th, td {\n",
       "    padding: 5px;\n",
       "  }\n",
       "  th {\n",
       "    text-align: left;\n",
       "  }\n",
       "</style><div class='table-result-container'><table class='table-result'><thead style='background-color: white'><tr><th>ImdbNameId</th><th>Name</th><th>BirthName</th><th>Height</th><th>BirthDetails</th><th>DateOfBirth</th><th>PlaceOfBirth</th><th>DateOfDeath</th><th>PlaceOfDeath</th><th>ReasonOfDeath</th><th>SpousesString</th><th>Spouses</th><th>Divorces</th><th>SpousesWithChildren</th><th>Children</th><th>Epoch</th><th>HeightFt</th><th>Age</th></tr></thead><tbody><tr><td>nm1001478</td><td>'Big' LeRoy Mobley</td><td>LeRoy King Mobley III</td><td>193</td><td>April 1, 1973 in Atlantic City, New Jersey, USA</td><td>1973-01-01</td><td>Atlantic City, New Jersey, USA</td><td>null</td><td>null</td><td>null</td><td>null</td><td>0</td><td>0</td><td>0</td><td>0</td><td>1744113190</td><td>6.33</td><td>null</td></tr><tr><td>nm0521811</td><td>'Ducky' Louie</td><td>Lawrence Louie</td><td>null</td><td>July 22, 1931 in Berkeley, California, USA</td><td>1931-01-22</td><td>Berkeley, California, USA</td><td>null</td><td>null</td><td>null</td><td>null</td><td>0</td><td>0</td><td>0</td><td>0</td><td>1744113190</td><td>null</td><td>null</td></tr><tr><td>nm0722372</td><td>'Little Billy' Rhodes</td><td>William H. Rhodes</td><td>null</td><td>February 1, 1895 in Illinois, USA</td><td>null</td><td>Illinois, USA</td><td>1967-01-24</td><td>Hollywood, California, USA  </td><td>stroke</td><td>null</td><td>0</td><td>0</td><td>0</td><td>0</td><td>1744113190</td><td>null</td><td>null</td></tr><tr><td>nm0946148</td><td>'Weird Al' Yankovic</td><td>Alfred Matthew Yankovic</td><td>183</td><td>October 23, 1959 in Downey, California, USA</td><td>1959-01-23</td><td>Downey, California, USA</td><td>null</td><td>null</td><td>null</td><td>Suzanne Krajewski  (10 February 2001 - present) (1 child)</td><td>1</td><td>0</td><td>1</td><td>1</td><td>1744113190</td><td>6.0</td><td>null</td></tr><tr><td>nm1265067</td><td>50 Cent</td><td>Curtis James Jackson III</td><td>183</td><td>July 6, 1975 in Queens, New York City, New York, USA</td><td>1975-01-06</td><td>Queens, New York City, New York, USA</td><td>null</td><td>null</td><td>null</td><td>null</td><td>0</td><td>0</td><td>0</td><td>0</td><td>1744113190</td><td>6.0</td><td>null</td></tr></tbody></table></div>"
      ]
     },
     "metadata": {
      "application/vnd.databricks.v1+output": {
       "addedWidgets": {},
       "aggData": [],
       "aggError": "",
       "aggOverflow": false,
       "aggSchema": [],
       "aggSeriesLimitReached": false,
       "aggType": "",
       "arguments": {},
       "columnCustomDisplayInfos": {},
       "data": [
        [
         "nm1001478",
         "'Big' LeRoy Mobley",
         "LeRoy King Mobley III",
         193,
         "April 1, 1973 in Atlantic City, New Jersey, USA",
         "1973-01-01",
         "Atlantic City, New Jersey, USA",
         null,
         null,
         null,
         null,
         0,
         0,
         0,
         0,
         1744113190,
         6.33,
         null
        ],
        [
         "nm0521811",
         "'Ducky' Louie",
         "Lawrence Louie",
         null,
         "July 22, 1931 in Berkeley, California, USA",
         "1931-01-22",
         "Berkeley, California, USA",
         null,
         null,
         null,
         null,
         0,
         0,
         0,
         0,
         1744113190,
         null,
         null
        ],
        [
         "nm0722372",
         "'Little Billy' Rhodes",
         "William H. Rhodes",
         null,
         "February 1, 1895 in Illinois, USA",
         null,
         "Illinois, USA",
         "1967-01-24",
         "Hollywood, California, USA  ",
         "stroke",
         null,
         0,
         0,
         0,
         0,
         1744113190,
         null,
         null
        ],
        [
         "nm0946148",
         "'Weird Al' Yankovic",
         "Alfred Matthew Yankovic",
         183,
         "October 23, 1959 in Downey, California, USA",
         "1959-01-23",
         "Downey, California, USA",
         null,
         null,
         null,
         "Suzanne Krajewski  (10 February 2001 - present) (1 child)",
         1,
         0,
         1,
         1,
         1744113190,
         6.0,
         null
        ],
        [
         "nm1265067",
         "50 Cent",
         "Curtis James Jackson III",
         183,
         "July 6, 1975 in Queens, New York City, New York, USA",
         "1975-01-06",
         "Queens, New York City, New York, USA",
         null,
         null,
         null,
         null,
         0,
         0,
         0,
         0,
         1744113190,
         6.0,
         null
        ]
       ],
       "datasetInfos": [],
       "dbfsResultPath": null,
       "isJsonSchema": true,
       "metadata": {},
       "overflow": false,
       "plotOptions": {
        "customPlotOptions": {},
        "displayType": "table",
        "pivotAggregation": null,
        "pivotColumns": null,
        "xColumns": null,
        "yColumns": null
       },
       "removedWidgets": [],
       "schema": [
        {
         "metadata": "{}",
         "name": "ImdbNameId",
         "type": "\"string\""
        },
        {
         "metadata": "{}",
         "name": "Name",
         "type": "\"string\""
        },
        {
         "metadata": "{}",
         "name": "BirthName",
         "type": "\"string\""
        },
        {
         "metadata": "{}",
         "name": "Height",
         "type": "\"integer\""
        },
        {
         "metadata": "{}",
         "name": "BirthDetails",
         "type": "\"string\""
        },
        {
         "metadata": "{}",
         "name": "DateOfBirth",
         "type": "\"date\""
        },
        {
         "metadata": "{}",
         "name": "PlaceOfBirth",
         "type": "\"string\""
        },
        {
         "metadata": "{}",
         "name": "DateOfDeath",
         "type": "\"date\""
        },
        {
         "metadata": "{}",
         "name": "PlaceOfDeath",
         "type": "\"string\""
        },
        {
         "metadata": "{}",
         "name": "ReasonOfDeath",
         "type": "\"string\""
        },
        {
         "metadata": "{}",
         "name": "SpousesString",
         "type": "\"string\""
        },
        {
         "metadata": "{}",
         "name": "Spouses",
         "type": "\"integer\""
        },
        {
         "metadata": "{}",
         "name": "Divorces",
         "type": "\"integer\""
        },
        {
         "metadata": "{}",
         "name": "SpousesWithChildren",
         "type": "\"integer\""
        },
        {
         "metadata": "{}",
         "name": "Children",
         "type": "\"integer\""
        },
        {
         "metadata": "{}",
         "name": "Epoch",
         "type": "\"long\""
        },
        {
         "metadata": "{}",
         "name": "HeightFt",
         "type": "\"double\""
        },
        {
         "metadata": "{}",
         "name": "Age",
         "type": "\"integer\""
        }
       ],
       "type": "table"
      }
     },
     "output_type": "display_data"
    }
   ],
   "source": [
    "# Sortuję imieniem rosnąco\n",
    "temp = namesDf.select('*').orderBy(namesDf[\"Name\"].asc())\n",
    "display(temp.limit(5))"
   ]
  },
  {
   "cell_type": "markdown",
   "metadata": {
    "application/vnd.databricks.v1+cell": {
     "cellMetadata": {
      "byteLimit": 2048000,
      "rowLimit": 10000
     },
     "inputWidgets": {},
     "nuid": "f86d9d14-5103-4d4a-8df2-cec361db347d",
     "showTitle": false,
     "tableResultSettingsMap": {},
     "title": ""
    }
   },
   "source": [
    "Movies.csv\n",
    "* Dodaj kolumnę z wartością czasu wykonania notatnika w formacie epoch\n",
    "* Dodaj kolumnę która wylicza ile lat upłynęło od publikacji filmu\n",
    "* Dodaj kolumnę która pokaże budżet filmu jako wartość numeryczną, (trzeba usunac znaki walut)\n",
    "* Usuń wiersze z dataframe gdzie wartości są null"
   ]
  },
  {
   "cell_type": "code",
   "execution_count": 0,
   "metadata": {
    "application/vnd.databricks.v1+cell": {
     "cellMetadata": {
      "byteLimit": 2048000,
      "rowLimit": 10000
     },
     "inputWidgets": {},
     "nuid": "dc238ac0-9f22-4685-b2d2-1a074e813334",
     "showTitle": false,
     "tableResultSettingsMap": {},
     "title": ""
    }
   },
   "outputs": [
    {
     "output_type": "display_data",
     "data": {
      "text/html": [
       "<style scoped>\n",
       "  .table-result-container {\n",
       "    max-height: 300px;\n",
       "    overflow: auto;\n",
       "  }\n",
       "  table, th, td {\n",
       "    border: 1px solid black;\n",
       "    border-collapse: collapse;\n",
       "  }\n",
       "  th, td {\n",
       "    padding: 5px;\n",
       "  }\n",
       "  th {\n",
       "    text-align: left;\n",
       "  }\n",
       "</style><div class='table-result-container'><table class='table-result'><thead style='background-color: white'><tr><th>imdb_title_id</th><th>title</th><th>original_title</th><th>year</th><th>date_published</th><th>genre</th><th>duration</th><th>country</th><th>language</th><th>director</th><th>writer</th><th>production_company</th><th>actors</th><th>description</th><th>avg_vote</th><th>votes</th><th>budget</th><th>usa_gross_income</th><th>worlwide_gross_income</th><th>metascore</th><th>reviews_from_users</th><th>reviews_from_critics</th></tr></thead><tbody><tr><td>tt0000009</td><td>Miss Jerry</td><td>Miss Jerry</td><td>1894</td><td>1894-10-09</td><td>Romance</td><td>45</td><td>USA</td><td>None</td><td>Alexander Black</td><td>Alexander Black</td><td>Alexander Black Photoplays</td><td>Blanche Bayliss, William Courtenay, Chauncey Depew</td><td>The adventures of a female reporter in the 1890s.</td><td>05.wrz</td><td>154</td><td>null</td><td>null</td><td>null</td><td>null</td><td>1.0</td><td>2.0</td></tr><tr><td>tt0000574</td><td>The Story of the Kelly Gang</td><td>The Story of the Kelly Gang</td><td>1906</td><td>26.12.1906</td><td>Biography, Crime, Drama</td><td>70</td><td>Australia</td><td>None</td><td>Charles Tait</td><td>Charles Tait</td><td>J. and N. Tait</td><td>Elizabeth Tait, John Tait, Norman Campbell, Bella Cola, Will Coyne, Sam Crewes, Jack Ennis, John Forde, Vera Linden, Mr. Marshall, Mr. McKenzie, Frank Mills, Ollie Wilson</td><td>True story of notorious Australian outlaw Ned Kelly (1855-80).</td><td>06.sty</td><td>589</td><td>$ 2250</td><td>null</td><td>null</td><td>null</td><td>7.0</td><td>7.0</td></tr><tr><td>tt0001892</td><td>Den sorte drøm</td><td>Den sorte drøm</td><td>1911</td><td>19.08.1911</td><td>Drama</td><td>53</td><td>Germany, Denmark</td><td>null</td><td>Urban Gad</td><td>Urban Gad, Gebhard Schätzler-Perasini</td><td>Fotorama</td><td>Asta Nielsen, Valdemar Psilander, Gunnar Helsengreen, Emil Albes, Hugo Flink, Mary Hagen</td><td>Two men of high rank are both wooing the beautiful and famous equestrian acrobat Stella. While Stella ignores the jeweler Hirsch, she accepts Count von Waldberg's offer to follow her home, ...</td><td>05.sie</td><td>188</td><td>null</td><td>null</td><td>null</td><td>null</td><td>5.0</td><td>2.0</td></tr><tr><td>tt0002101</td><td>Cleopatra</td><td>Cleopatra</td><td>1912</td><td>13.11.1912</td><td>Drama, History</td><td>100</td><td>USA</td><td>English</td><td>Charles L. Gaskill</td><td>Victorien Sardou</td><td>Helen Gardner Picture Players</td><td>Helen Gardner, Pearl Sindelar, Miss Fielding, Miss Robson, Helene Costello, Charles Sindelar, Mr. Howard, James R. Waite, Mr. Osborne, Harry Knowles, Mr. Paul, Mr. Brady, Mr. Corker</td><td>The fabled queen of Egypt's affair with Roman general Marc Antony is ultimately disastrous for both of them.</td><td>05.lut</td><td>446</td><td>$ 45000</td><td>null</td><td>null</td><td>null</td><td>25.0</td><td>3.0</td></tr><tr><td>tt0002130</td><td>L'Inferno</td><td>L'Inferno</td><td>1911</td><td>06.03.1911</td><td>Adventure, Drama, Fantasy</td><td>68</td><td>Italy</td><td>Italian</td><td>Francesco Bertolini, Adolfo Padovan</td><td>Dante Alighieri</td><td>Milano Film</td><td>Salvatore Papa, Arturo Pirovano, Giuseppe de Liguoro, Pier Delle Vigne, Augusto Milla, Attilio Motta, Emilise Beretta</td><td>Loosely adapted from Dante's Divine Comedy and inspired by the illustrations of Gustav Doré the original silent film has been restored and has a new score by Tangerine Dream.</td><td>7.0</td><td>2237</td><td>null</td><td>null</td><td>null</td><td>null</td><td>31.0</td><td>14.0</td></tr></tbody></table></div>"
      ]
     },
     "metadata": {
      "application/vnd.databricks.v1+output": {
       "addedWidgets": {},
       "aggData": [],
       "aggError": "",
       "aggOverflow": false,
       "aggSchema": [],
       "aggSeriesLimitReached": false,
       "aggType": "",
       "arguments": {},
       "columnCustomDisplayInfos": {},
       "data": [
        [
         "tt0000009",
         "Miss Jerry",
         "Miss Jerry",
         "1894",
         "1894-10-09",
         "Romance",
         45,
         "USA",
         "None",
         "Alexander Black",
         "Alexander Black",
         "Alexander Black Photoplays",
         "Blanche Bayliss, William Courtenay, Chauncey Depew",
         "The adventures of a female reporter in the 1890s.",
         "05.wrz",
         154,
         null,
         null,
         null,
         null,
         1.0,
         2.0
        ],
        [
         "tt0000574",
         "The Story of the Kelly Gang",
         "The Story of the Kelly Gang",
         "1906",
         "26.12.1906",
         "Biography, Crime, Drama",
         70,
         "Australia",
         "None",
         "Charles Tait",
         "Charles Tait",
         "J. and N. Tait",
         "Elizabeth Tait, John Tait, Norman Campbell, Bella Cola, Will Coyne, Sam Crewes, Jack Ennis, John Forde, Vera Linden, Mr. Marshall, Mr. McKenzie, Frank Mills, Ollie Wilson",
         "True story of notorious Australian outlaw Ned Kelly (1855-80).",
         "06.sty",
         589,
         "$ 2250",
         null,
         null,
         null,
         7.0,
         7.0
        ],
        [
         "tt0001892",
         "Den sorte drøm",
         "Den sorte drøm",
         "1911",
         "19.08.1911",
         "Drama",
         53,
         "Germany, Denmark",
         null,
         "Urban Gad",
         "Urban Gad, Gebhard Schätzler-Perasini",
         "Fotorama",
         "Asta Nielsen, Valdemar Psilander, Gunnar Helsengreen, Emil Albes, Hugo Flink, Mary Hagen",
         "Two men of high rank are both wooing the beautiful and famous equestrian acrobat Stella. While Stella ignores the jeweler Hirsch, she accepts Count von Waldberg's offer to follow her home, ...",
         "05.sie",
         188,
         null,
         null,
         null,
         null,
         5.0,
         2.0
        ],
        [
         "tt0002101",
         "Cleopatra",
         "Cleopatra",
         "1912",
         "13.11.1912",
         "Drama, History",
         100,
         "USA",
         "English",
         "Charles L. Gaskill",
         "Victorien Sardou",
         "Helen Gardner Picture Players",
         "Helen Gardner, Pearl Sindelar, Miss Fielding, Miss Robson, Helene Costello, Charles Sindelar, Mr. Howard, James R. Waite, Mr. Osborne, Harry Knowles, Mr. Paul, Mr. Brady, Mr. Corker",
         "The fabled queen of Egypt's affair with Roman general Marc Antony is ultimately disastrous for both of them.",
         "05.lut",
         446,
         "$ 45000",
         null,
         null,
         null,
         25.0,
         3.0
        ],
        [
         "tt0002130",
         "L'Inferno",
         "L'Inferno",
         "1911",
         "06.03.1911",
         "Adventure, Drama, Fantasy",
         68,
         "Italy",
         "Italian",
         "Francesco Bertolini, Adolfo Padovan",
         "Dante Alighieri",
         "Milano Film",
         "Salvatore Papa, Arturo Pirovano, Giuseppe de Liguoro, Pier Delle Vigne, Augusto Milla, Attilio Motta, Emilise Beretta",
         "Loosely adapted from Dante's Divine Comedy and inspired by the illustrations of Gustav Doré the original silent film has been restored and has a new score by Tangerine Dream.",
         "7.0",
         2237,
         null,
         null,
         null,
         null,
         31.0,
         14.0
        ]
       ],
       "datasetInfos": [],
       "dbfsResultPath": null,
       "isJsonSchema": true,
       "metadata": {},
       "overflow": false,
       "plotOptions": {
        "customPlotOptions": {},
        "displayType": "table",
        "pivotAggregation": null,
        "pivotColumns": null,
        "xColumns": null,
        "yColumns": null
       },
       "removedWidgets": [],
       "schema": [
        {
         "metadata": "{}",
         "name": "imdb_title_id",
         "type": "\"string\""
        },
        {
         "metadata": "{}",
         "name": "title",
         "type": "\"string\""
        },
        {
         "metadata": "{}",
         "name": "original_title",
         "type": "\"string\""
        },
        {
         "metadata": "{}",
         "name": "year",
         "type": "\"string\""
        },
        {
         "metadata": "{}",
         "name": "date_published",
         "type": "\"string\""
        },
        {
         "metadata": "{}",
         "name": "genre",
         "type": "\"string\""
        },
        {
         "metadata": "{}",
         "name": "duration",
         "type": "\"integer\""
        },
        {
         "metadata": "{}",
         "name": "country",
         "type": "\"string\""
        },
        {
         "metadata": "{}",
         "name": "language",
         "type": "\"string\""
        },
        {
         "metadata": "{}",
         "name": "director",
         "type": "\"string\""
        },
        {
         "metadata": "{}",
         "name": "writer",
         "type": "\"string\""
        },
        {
         "metadata": "{}",
         "name": "production_company",
         "type": "\"string\""
        },
        {
         "metadata": "{}",
         "name": "actors",
         "type": "\"string\""
        },
        {
         "metadata": "{}",
         "name": "description",
         "type": "\"string\""
        },
        {
         "metadata": "{}",
         "name": "avg_vote",
         "type": "\"string\""
        },
        {
         "metadata": "{}",
         "name": "votes",
         "type": "\"integer\""
        },
        {
         "metadata": "{}",
         "name": "budget",
         "type": "\"string\""
        },
        {
         "metadata": "{}",
         "name": "usa_gross_income",
         "type": "\"string\""
        },
        {
         "metadata": "{}",
         "name": "worlwide_gross_income",
         "type": "\"string\""
        },
        {
         "metadata": "{}",
         "name": "metascore",
         "type": "\"double\""
        },
        {
         "metadata": "{}",
         "name": "reviews_from_users",
         "type": "\"double\""
        },
        {
         "metadata": "{}",
         "name": "reviews_from_critics",
         "type": "\"double\""
        }
       ],
       "type": "table"
      }
     },
     "output_type": "display_data"
    }
   ],
   "source": [
    "filePath = \"dbfs:/FileStore/tables/Files/movies.csv\"\n",
    "moviesDf = spark.read.format(\"csv\") \\\n",
    "              .option(\"header\",\"true\") \\\n",
    "              .option(\"inferSchema\",\"true\") \\\n",
    "              .load(filePath)\n",
    "\n",
    "display(moviesDf.limit(5))"
   ]
  },
  {
   "cell_type": "code",
   "execution_count": 0,
   "metadata": {
    "application/vnd.databricks.v1+cell": {
     "cellMetadata": {
      "byteLimit": 2048000,
      "rowLimit": 10000
     },
     "inputWidgets": {},
     "nuid": "b7bb7dc4-c8f8-489d-8546-be2fdea4d484",
     "showTitle": false,
     "tableResultSettingsMap": {},
     "title": ""
    }
   },
   "outputs": [
    {
     "output_type": "display_data",
     "data": {
      "text/html": [
       "<style scoped>\n",
       "  .table-result-container {\n",
       "    max-height: 300px;\n",
       "    overflow: auto;\n",
       "  }\n",
       "  table, th, td {\n",
       "    border: 1px solid black;\n",
       "    border-collapse: collapse;\n",
       "  }\n",
       "  th, td {\n",
       "    padding: 5px;\n",
       "  }\n",
       "  th {\n",
       "    text-align: left;\n",
       "  }\n",
       "</style><div class='table-result-container'><table class='table-result'><thead style='background-color: white'><tr><th>imdb_title_id</th><th>title</th><th>original_title</th><th>year</th><th>date_published</th><th>genre</th><th>duration</th><th>country</th><th>language</th><th>director</th><th>writer</th><th>production_company</th><th>actors</th><th>description</th><th>avg_vote</th><th>votes</th><th>budget</th><th>usa_gross_income</th><th>worlwide_gross_income</th><th>metascore</th><th>reviews_from_users</th><th>reviews_from_critics</th><th>current_epoch_timestamp</th></tr></thead><tbody><tr><td>tt0000009</td><td>Miss Jerry</td><td>Miss Jerry</td><td>1894</td><td>1894-10-09</td><td>Romance</td><td>45</td><td>USA</td><td>None</td><td>Alexander Black</td><td>Alexander Black</td><td>Alexander Black Photoplays</td><td>Blanche Bayliss, William Courtenay, Chauncey Depew</td><td>The adventures of a female reporter in the 1890s.</td><td>05.wrz</td><td>154</td><td>null</td><td>null</td><td>null</td><td>null</td><td>1.0</td><td>2.0</td><td>1744114943</td></tr><tr><td>tt0000574</td><td>The Story of the Kelly Gang</td><td>The Story of the Kelly Gang</td><td>1906</td><td>26.12.1906</td><td>Biography, Crime, Drama</td><td>70</td><td>Australia</td><td>None</td><td>Charles Tait</td><td>Charles Tait</td><td>J. and N. Tait</td><td>Elizabeth Tait, John Tait, Norman Campbell, Bella Cola, Will Coyne, Sam Crewes, Jack Ennis, John Forde, Vera Linden, Mr. Marshall, Mr. McKenzie, Frank Mills, Ollie Wilson</td><td>True story of notorious Australian outlaw Ned Kelly (1855-80).</td><td>06.sty</td><td>589</td><td>$ 2250</td><td>null</td><td>null</td><td>null</td><td>7.0</td><td>7.0</td><td>1744114943</td></tr><tr><td>tt0001892</td><td>Den sorte drøm</td><td>Den sorte drøm</td><td>1911</td><td>19.08.1911</td><td>Drama</td><td>53</td><td>Germany, Denmark</td><td>null</td><td>Urban Gad</td><td>Urban Gad, Gebhard Schätzler-Perasini</td><td>Fotorama</td><td>Asta Nielsen, Valdemar Psilander, Gunnar Helsengreen, Emil Albes, Hugo Flink, Mary Hagen</td><td>Two men of high rank are both wooing the beautiful and famous equestrian acrobat Stella. While Stella ignores the jeweler Hirsch, she accepts Count von Waldberg's offer to follow her home, ...</td><td>05.sie</td><td>188</td><td>null</td><td>null</td><td>null</td><td>null</td><td>5.0</td><td>2.0</td><td>1744114943</td></tr><tr><td>tt0002101</td><td>Cleopatra</td><td>Cleopatra</td><td>1912</td><td>13.11.1912</td><td>Drama, History</td><td>100</td><td>USA</td><td>English</td><td>Charles L. Gaskill</td><td>Victorien Sardou</td><td>Helen Gardner Picture Players</td><td>Helen Gardner, Pearl Sindelar, Miss Fielding, Miss Robson, Helene Costello, Charles Sindelar, Mr. Howard, James R. Waite, Mr. Osborne, Harry Knowles, Mr. Paul, Mr. Brady, Mr. Corker</td><td>The fabled queen of Egypt's affair with Roman general Marc Antony is ultimately disastrous for both of them.</td><td>05.lut</td><td>446</td><td>$ 45000</td><td>null</td><td>null</td><td>null</td><td>25.0</td><td>3.0</td><td>1744114943</td></tr><tr><td>tt0002130</td><td>L'Inferno</td><td>L'Inferno</td><td>1911</td><td>06.03.1911</td><td>Adventure, Drama, Fantasy</td><td>68</td><td>Italy</td><td>Italian</td><td>Francesco Bertolini, Adolfo Padovan</td><td>Dante Alighieri</td><td>Milano Film</td><td>Salvatore Papa, Arturo Pirovano, Giuseppe de Liguoro, Pier Delle Vigne, Augusto Milla, Attilio Motta, Emilise Beretta</td><td>Loosely adapted from Dante's Divine Comedy and inspired by the illustrations of Gustav Doré the original silent film has been restored and has a new score by Tangerine Dream.</td><td>7.0</td><td>2237</td><td>null</td><td>null</td><td>null</td><td>null</td><td>31.0</td><td>14.0</td><td>1744114943</td></tr></tbody></table></div>"
      ]
     },
     "metadata": {
      "application/vnd.databricks.v1+output": {
       "addedWidgets": {},
       "aggData": [],
       "aggError": "",
       "aggOverflow": false,
       "aggSchema": [],
       "aggSeriesLimitReached": false,
       "aggType": "",
       "arguments": {},
       "columnCustomDisplayInfos": {},
       "data": [
        [
         "tt0000009",
         "Miss Jerry",
         "Miss Jerry",
         "1894",
         "1894-10-09",
         "Romance",
         45,
         "USA",
         "None",
         "Alexander Black",
         "Alexander Black",
         "Alexander Black Photoplays",
         "Blanche Bayliss, William Courtenay, Chauncey Depew",
         "The adventures of a female reporter in the 1890s.",
         "05.wrz",
         154,
         null,
         null,
         null,
         null,
         1.0,
         2.0,
         1744114943
        ],
        [
         "tt0000574",
         "The Story of the Kelly Gang",
         "The Story of the Kelly Gang",
         "1906",
         "26.12.1906",
         "Biography, Crime, Drama",
         70,
         "Australia",
         "None",
         "Charles Tait",
         "Charles Tait",
         "J. and N. Tait",
         "Elizabeth Tait, John Tait, Norman Campbell, Bella Cola, Will Coyne, Sam Crewes, Jack Ennis, John Forde, Vera Linden, Mr. Marshall, Mr. McKenzie, Frank Mills, Ollie Wilson",
         "True story of notorious Australian outlaw Ned Kelly (1855-80).",
         "06.sty",
         589,
         "$ 2250",
         null,
         null,
         null,
         7.0,
         7.0,
         1744114943
        ],
        [
         "tt0001892",
         "Den sorte drøm",
         "Den sorte drøm",
         "1911",
         "19.08.1911",
         "Drama",
         53,
         "Germany, Denmark",
         null,
         "Urban Gad",
         "Urban Gad, Gebhard Schätzler-Perasini",
         "Fotorama",
         "Asta Nielsen, Valdemar Psilander, Gunnar Helsengreen, Emil Albes, Hugo Flink, Mary Hagen",
         "Two men of high rank are both wooing the beautiful and famous equestrian acrobat Stella. While Stella ignores the jeweler Hirsch, she accepts Count von Waldberg's offer to follow her home, ...",
         "05.sie",
         188,
         null,
         null,
         null,
         null,
         5.0,
         2.0,
         1744114943
        ],
        [
         "tt0002101",
         "Cleopatra",
         "Cleopatra",
         "1912",
         "13.11.1912",
         "Drama, History",
         100,
         "USA",
         "English",
         "Charles L. Gaskill",
         "Victorien Sardou",
         "Helen Gardner Picture Players",
         "Helen Gardner, Pearl Sindelar, Miss Fielding, Miss Robson, Helene Costello, Charles Sindelar, Mr. Howard, James R. Waite, Mr. Osborne, Harry Knowles, Mr. Paul, Mr. Brady, Mr. Corker",
         "The fabled queen of Egypt's affair with Roman general Marc Antony is ultimately disastrous for both of them.",
         "05.lut",
         446,
         "$ 45000",
         null,
         null,
         null,
         25.0,
         3.0,
         1744114943
        ],
        [
         "tt0002130",
         "L'Inferno",
         "L'Inferno",
         "1911",
         "06.03.1911",
         "Adventure, Drama, Fantasy",
         68,
         "Italy",
         "Italian",
         "Francesco Bertolini, Adolfo Padovan",
         "Dante Alighieri",
         "Milano Film",
         "Salvatore Papa, Arturo Pirovano, Giuseppe de Liguoro, Pier Delle Vigne, Augusto Milla, Attilio Motta, Emilise Beretta",
         "Loosely adapted from Dante's Divine Comedy and inspired by the illustrations of Gustav Doré the original silent film has been restored and has a new score by Tangerine Dream.",
         "7.0",
         2237,
         null,
         null,
         null,
         null,
         31.0,
         14.0,
         1744114943
        ]
       ],
       "datasetInfos": [],
       "dbfsResultPath": null,
       "isJsonSchema": true,
       "metadata": {},
       "overflow": false,
       "plotOptions": {
        "customPlotOptions": {},
        "displayType": "table",
        "pivotAggregation": null,
        "pivotColumns": null,
        "xColumns": null,
        "yColumns": null
       },
       "removedWidgets": [],
       "schema": [
        {
         "metadata": "{}",
         "name": "imdb_title_id",
         "type": "\"string\""
        },
        {
         "metadata": "{}",
         "name": "title",
         "type": "\"string\""
        },
        {
         "metadata": "{}",
         "name": "original_title",
         "type": "\"string\""
        },
        {
         "metadata": "{}",
         "name": "year",
         "type": "\"string\""
        },
        {
         "metadata": "{}",
         "name": "date_published",
         "type": "\"string\""
        },
        {
         "metadata": "{}",
         "name": "genre",
         "type": "\"string\""
        },
        {
         "metadata": "{}",
         "name": "duration",
         "type": "\"integer\""
        },
        {
         "metadata": "{}",
         "name": "country",
         "type": "\"string\""
        },
        {
         "metadata": "{}",
         "name": "language",
         "type": "\"string\""
        },
        {
         "metadata": "{}",
         "name": "director",
         "type": "\"string\""
        },
        {
         "metadata": "{}",
         "name": "writer",
         "type": "\"string\""
        },
        {
         "metadata": "{}",
         "name": "production_company",
         "type": "\"string\""
        },
        {
         "metadata": "{}",
         "name": "actors",
         "type": "\"string\""
        },
        {
         "metadata": "{}",
         "name": "description",
         "type": "\"string\""
        },
        {
         "metadata": "{}",
         "name": "avg_vote",
         "type": "\"string\""
        },
        {
         "metadata": "{}",
         "name": "votes",
         "type": "\"integer\""
        },
        {
         "metadata": "{}",
         "name": "budget",
         "type": "\"string\""
        },
        {
         "metadata": "{}",
         "name": "usa_gross_income",
         "type": "\"string\""
        },
        {
         "metadata": "{}",
         "name": "worlwide_gross_income",
         "type": "\"string\""
        },
        {
         "metadata": "{}",
         "name": "metascore",
         "type": "\"double\""
        },
        {
         "metadata": "{}",
         "name": "reviews_from_users",
         "type": "\"double\""
        },
        {
         "metadata": "{}",
         "name": "reviews_from_critics",
         "type": "\"double\""
        },
        {
         "metadata": "{}",
         "name": "current_epoch_timestamp",
         "type": "\"long\""
        }
       ],
       "type": "table"
      }
     },
     "output_type": "display_data"
    }
   ],
   "source": [
    "# Kolumna z wartością czasu wykonania notatnika w formacie epoch\n",
    "moviesDf = moviesDf.withColumn(\"current_epoch_timestamp\", unix_timestamp(current_timestamp()))\n",
    "\n",
    "display(moviesDf.limit(5))"
   ]
  },
  {
   "cell_type": "code",
   "execution_count": 0,
   "metadata": {
    "application/vnd.databricks.v1+cell": {
     "cellMetadata": {
      "byteLimit": 2048000,
      "rowLimit": 10000
     },
     "inputWidgets": {},
     "nuid": "f8ebff76-21f7-4ee1-be03-e025f67bbf16",
     "showTitle": false,
     "tableResultSettingsMap": {},
     "title": ""
    }
   },
   "outputs": [
    {
     "output_type": "display_data",
     "data": {
      "text/html": [
       "<style scoped>\n",
       "  .table-result-container {\n",
       "    max-height: 300px;\n",
       "    overflow: auto;\n",
       "  }\n",
       "  table, th, td {\n",
       "    border: 1px solid black;\n",
       "    border-collapse: collapse;\n",
       "  }\n",
       "  th, td {\n",
       "    padding: 5px;\n",
       "  }\n",
       "  th {\n",
       "    text-align: left;\n",
       "  }\n",
       "</style><div class='table-result-container'><table class='table-result'><thead style='background-color: white'><tr><th>imdb_title_id</th><th>title</th><th>original_title</th><th>year</th><th>date_published</th><th>genre</th><th>duration</th><th>country</th><th>language</th><th>director</th><th>writer</th><th>production_company</th><th>actors</th><th>description</th><th>avg_vote</th><th>votes</th><th>budget</th><th>usa_gross_income</th><th>worlwide_gross_income</th><th>metascore</th><th>reviews_from_users</th><th>reviews_from_critics</th><th>current_epoch_timestamp</th><th>years_elapsed</th></tr></thead><tbody><tr><td>tt0000009</td><td>Miss Jerry</td><td>Miss Jerry</td><td>1894</td><td>1894-10-09</td><td>Romance</td><td>45</td><td>USA</td><td>None</td><td>Alexander Black</td><td>Alexander Black</td><td>Alexander Black Photoplays</td><td>Blanche Bayliss, William Courtenay, Chauncey Depew</td><td>The adventures of a female reporter in the 1890s.</td><td>05.wrz</td><td>154</td><td>null</td><td>null</td><td>null</td><td>null</td><td>1.0</td><td>2.0</td><td>1744115028</td><td>131.0</td></tr><tr><td>tt0000574</td><td>The Story of the Kelly Gang</td><td>The Story of the Kelly Gang</td><td>1906</td><td>26.12.1906</td><td>Biography, Crime, Drama</td><td>70</td><td>Australia</td><td>None</td><td>Charles Tait</td><td>Charles Tait</td><td>J. and N. Tait</td><td>Elizabeth Tait, John Tait, Norman Campbell, Bella Cola, Will Coyne, Sam Crewes, Jack Ennis, John Forde, Vera Linden, Mr. Marshall, Mr. McKenzie, Frank Mills, Ollie Wilson</td><td>True story of notorious Australian outlaw Ned Kelly (1855-80).</td><td>06.sty</td><td>589</td><td>$ 2250</td><td>null</td><td>null</td><td>null</td><td>7.0</td><td>7.0</td><td>1744115028</td><td>119.0</td></tr><tr><td>tt0001892</td><td>Den sorte drøm</td><td>Den sorte drøm</td><td>1911</td><td>19.08.1911</td><td>Drama</td><td>53</td><td>Germany, Denmark</td><td>null</td><td>Urban Gad</td><td>Urban Gad, Gebhard Schätzler-Perasini</td><td>Fotorama</td><td>Asta Nielsen, Valdemar Psilander, Gunnar Helsengreen, Emil Albes, Hugo Flink, Mary Hagen</td><td>Two men of high rank are both wooing the beautiful and famous equestrian acrobat Stella. While Stella ignores the jeweler Hirsch, she accepts Count von Waldberg's offer to follow her home, ...</td><td>05.sie</td><td>188</td><td>null</td><td>null</td><td>null</td><td>null</td><td>5.0</td><td>2.0</td><td>1744115028</td><td>114.0</td></tr><tr><td>tt0002101</td><td>Cleopatra</td><td>Cleopatra</td><td>1912</td><td>13.11.1912</td><td>Drama, History</td><td>100</td><td>USA</td><td>English</td><td>Charles L. Gaskill</td><td>Victorien Sardou</td><td>Helen Gardner Picture Players</td><td>Helen Gardner, Pearl Sindelar, Miss Fielding, Miss Robson, Helene Costello, Charles Sindelar, Mr. Howard, James R. Waite, Mr. Osborne, Harry Knowles, Mr. Paul, Mr. Brady, Mr. Corker</td><td>The fabled queen of Egypt's affair with Roman general Marc Antony is ultimately disastrous for both of them.</td><td>05.lut</td><td>446</td><td>$ 45000</td><td>null</td><td>null</td><td>null</td><td>25.0</td><td>3.0</td><td>1744115028</td><td>113.0</td></tr><tr><td>tt0002130</td><td>L'Inferno</td><td>L'Inferno</td><td>1911</td><td>06.03.1911</td><td>Adventure, Drama, Fantasy</td><td>68</td><td>Italy</td><td>Italian</td><td>Francesco Bertolini, Adolfo Padovan</td><td>Dante Alighieri</td><td>Milano Film</td><td>Salvatore Papa, Arturo Pirovano, Giuseppe de Liguoro, Pier Delle Vigne, Augusto Milla, Attilio Motta, Emilise Beretta</td><td>Loosely adapted from Dante's Divine Comedy and inspired by the illustrations of Gustav Doré the original silent film has been restored and has a new score by Tangerine Dream.</td><td>7.0</td><td>2237</td><td>null</td><td>null</td><td>null</td><td>null</td><td>31.0</td><td>14.0</td><td>1744115028</td><td>114.0</td></tr></tbody></table></div>"
      ]
     },
     "metadata": {
      "application/vnd.databricks.v1+output": {
       "addedWidgets": {},
       "aggData": [],
       "aggError": "",
       "aggOverflow": false,
       "aggSchema": [],
       "aggSeriesLimitReached": false,
       "aggType": "",
       "arguments": {},
       "columnCustomDisplayInfos": {},
       "data": [
        [
         "tt0000009",
         "Miss Jerry",
         "Miss Jerry",
         "1894",
         "1894-10-09",
         "Romance",
         45,
         "USA",
         "None",
         "Alexander Black",
         "Alexander Black",
         "Alexander Black Photoplays",
         "Blanche Bayliss, William Courtenay, Chauncey Depew",
         "The adventures of a female reporter in the 1890s.",
         "05.wrz",
         154,
         null,
         null,
         null,
         null,
         1.0,
         2.0,
         1744115028,
         131.0
        ],
        [
         "tt0000574",
         "The Story of the Kelly Gang",
         "The Story of the Kelly Gang",
         "1906",
         "26.12.1906",
         "Biography, Crime, Drama",
         70,
         "Australia",
         "None",
         "Charles Tait",
         "Charles Tait",
         "J. and N. Tait",
         "Elizabeth Tait, John Tait, Norman Campbell, Bella Cola, Will Coyne, Sam Crewes, Jack Ennis, John Forde, Vera Linden, Mr. Marshall, Mr. McKenzie, Frank Mills, Ollie Wilson",
         "True story of notorious Australian outlaw Ned Kelly (1855-80).",
         "06.sty",
         589,
         "$ 2250",
         null,
         null,
         null,
         7.0,
         7.0,
         1744115028,
         119.0
        ],
        [
         "tt0001892",
         "Den sorte drøm",
         "Den sorte drøm",
         "1911",
         "19.08.1911",
         "Drama",
         53,
         "Germany, Denmark",
         null,
         "Urban Gad",
         "Urban Gad, Gebhard Schätzler-Perasini",
         "Fotorama",
         "Asta Nielsen, Valdemar Psilander, Gunnar Helsengreen, Emil Albes, Hugo Flink, Mary Hagen",
         "Two men of high rank are both wooing the beautiful and famous equestrian acrobat Stella. While Stella ignores the jeweler Hirsch, she accepts Count von Waldberg's offer to follow her home, ...",
         "05.sie",
         188,
         null,
         null,
         null,
         null,
         5.0,
         2.0,
         1744115028,
         114.0
        ],
        [
         "tt0002101",
         "Cleopatra",
         "Cleopatra",
         "1912",
         "13.11.1912",
         "Drama, History",
         100,
         "USA",
         "English",
         "Charles L. Gaskill",
         "Victorien Sardou",
         "Helen Gardner Picture Players",
         "Helen Gardner, Pearl Sindelar, Miss Fielding, Miss Robson, Helene Costello, Charles Sindelar, Mr. Howard, James R. Waite, Mr. Osborne, Harry Knowles, Mr. Paul, Mr. Brady, Mr. Corker",
         "The fabled queen of Egypt's affair with Roman general Marc Antony is ultimately disastrous for both of them.",
         "05.lut",
         446,
         "$ 45000",
         null,
         null,
         null,
         25.0,
         3.0,
         1744115028,
         113.0
        ],
        [
         "tt0002130",
         "L'Inferno",
         "L'Inferno",
         "1911",
         "06.03.1911",
         "Adventure, Drama, Fantasy",
         68,
         "Italy",
         "Italian",
         "Francesco Bertolini, Adolfo Padovan",
         "Dante Alighieri",
         "Milano Film",
         "Salvatore Papa, Arturo Pirovano, Giuseppe de Liguoro, Pier Delle Vigne, Augusto Milla, Attilio Motta, Emilise Beretta",
         "Loosely adapted from Dante's Divine Comedy and inspired by the illustrations of Gustav Doré the original silent film has been restored and has a new score by Tangerine Dream.",
         "7.0",
         2237,
         null,
         null,
         null,
         null,
         31.0,
         14.0,
         1744115028,
         114.0
        ]
       ],
       "datasetInfos": [],
       "dbfsResultPath": null,
       "isJsonSchema": true,
       "metadata": {},
       "overflow": false,
       "plotOptions": {
        "customPlotOptions": {},
        "displayType": "table",
        "pivotAggregation": null,
        "pivotColumns": null,
        "xColumns": null,
        "yColumns": null
       },
       "removedWidgets": [],
       "schema": [
        {
         "metadata": "{}",
         "name": "imdb_title_id",
         "type": "\"string\""
        },
        {
         "metadata": "{}",
         "name": "title",
         "type": "\"string\""
        },
        {
         "metadata": "{}",
         "name": "original_title",
         "type": "\"string\""
        },
        {
         "metadata": "{}",
         "name": "year",
         "type": "\"string\""
        },
        {
         "metadata": "{}",
         "name": "date_published",
         "type": "\"string\""
        },
        {
         "metadata": "{}",
         "name": "genre",
         "type": "\"string\""
        },
        {
         "metadata": "{}",
         "name": "duration",
         "type": "\"integer\""
        },
        {
         "metadata": "{}",
         "name": "country",
         "type": "\"string\""
        },
        {
         "metadata": "{}",
         "name": "language",
         "type": "\"string\""
        },
        {
         "metadata": "{}",
         "name": "director",
         "type": "\"string\""
        },
        {
         "metadata": "{}",
         "name": "writer",
         "type": "\"string\""
        },
        {
         "metadata": "{}",
         "name": "production_company",
         "type": "\"string\""
        },
        {
         "metadata": "{}",
         "name": "actors",
         "type": "\"string\""
        },
        {
         "metadata": "{}",
         "name": "description",
         "type": "\"string\""
        },
        {
         "metadata": "{}",
         "name": "avg_vote",
         "type": "\"string\""
        },
        {
         "metadata": "{}",
         "name": "votes",
         "type": "\"integer\""
        },
        {
         "metadata": "{}",
         "name": "budget",
         "type": "\"string\""
        },
        {
         "metadata": "{}",
         "name": "usa_gross_income",
         "type": "\"string\""
        },
        {
         "metadata": "{}",
         "name": "worlwide_gross_income",
         "type": "\"string\""
        },
        {
         "metadata": "{}",
         "name": "metascore",
         "type": "\"double\""
        },
        {
         "metadata": "{}",
         "name": "reviews_from_users",
         "type": "\"double\""
        },
        {
         "metadata": "{}",
         "name": "reviews_from_critics",
         "type": "\"double\""
        },
        {
         "metadata": "{}",
         "name": "current_epoch_timestamp",
         "type": "\"long\""
        },
        {
         "metadata": "{}",
         "name": "years_elapsed",
         "type": "\"double\""
        }
       ],
       "type": "table"
      }
     },
     "output_type": "display_data"
    }
   ],
   "source": [
    "# Kolumna która wylicza ile lat upłynęło od publikacji filmu\n",
    "moviesDf = moviesDf.withColumn(\"years_elapsed\", lit(year(current_timestamp().cast(\"date\")) - col(\"year\")))\n",
    "\n",
    "display(moviesDf.limit(5))"
   ]
  },
  {
   "cell_type": "code",
   "execution_count": 0,
   "metadata": {
    "application/vnd.databricks.v1+cell": {
     "cellMetadata": {
      "byteLimit": 2048000,
      "rowLimit": 10000
     },
     "inputWidgets": {},
     "nuid": "018df6d3-02a8-47f2-8623-4c07aabb9257",
     "showTitle": false,
     "tableResultSettingsMap": {},
     "title": ""
    }
   },
   "outputs": [
    {
     "output_type": "display_data",
     "data": {
      "text/html": [
       "<style scoped>\n",
       "  .table-result-container {\n",
       "    max-height: 300px;\n",
       "    overflow: auto;\n",
       "  }\n",
       "  table, th, td {\n",
       "    border: 1px solid black;\n",
       "    border-collapse: collapse;\n",
       "  }\n",
       "  th, td {\n",
       "    padding: 5px;\n",
       "  }\n",
       "  th {\n",
       "    text-align: left;\n",
       "  }\n",
       "</style><div class='table-result-container'><table class='table-result'><thead style='background-color: white'><tr><th>imdb_title_id</th><th>title</th><th>original_title</th><th>year</th><th>date_published</th><th>genre</th><th>duration</th><th>country</th><th>language</th><th>director</th><th>writer</th><th>production_company</th><th>actors</th><th>description</th><th>avg_vote</th><th>votes</th><th>budget</th><th>usa_gross_income</th><th>worlwide_gross_income</th><th>metascore</th><th>reviews_from_users</th><th>reviews_from_critics</th><th>current_epoch_timestamp</th><th>years_elapsed</th></tr></thead><tbody><tr><td>tt0000009</td><td>Miss Jerry</td><td>Miss Jerry</td><td>1894</td><td>1894-10-09</td><td>Romance</td><td>45</td><td>USA</td><td>None</td><td>Alexander Black</td><td>Alexander Black</td><td>Alexander Black Photoplays</td><td>Blanche Bayliss, William Courtenay, Chauncey Depew</td><td>The adventures of a female reporter in the 1890s.</td><td>05.wrz</td><td>154</td><td>null</td><td>null</td><td>null</td><td>null</td><td>1.0</td><td>2.0</td><td>1744115055</td><td>131.0</td></tr><tr><td>tt0000574</td><td>The Story of the Kelly Gang</td><td>The Story of the Kelly Gang</td><td>1906</td><td>26.12.1906</td><td>Biography, Crime, Drama</td><td>70</td><td>Australia</td><td>None</td><td>Charles Tait</td><td>Charles Tait</td><td>J. and N. Tait</td><td>Elizabeth Tait, John Tait, Norman Campbell, Bella Cola, Will Coyne, Sam Crewes, Jack Ennis, John Forde, Vera Linden, Mr. Marshall, Mr. McKenzie, Frank Mills, Ollie Wilson</td><td>True story of notorious Australian outlaw Ned Kelly (1855-80).</td><td>06.sty</td><td>589</td><td>2250</td><td>null</td><td>null</td><td>null</td><td>7.0</td><td>7.0</td><td>1744115055</td><td>119.0</td></tr><tr><td>tt0001892</td><td>Den sorte drøm</td><td>Den sorte drøm</td><td>1911</td><td>19.08.1911</td><td>Drama</td><td>53</td><td>Germany, Denmark</td><td>null</td><td>Urban Gad</td><td>Urban Gad, Gebhard Schätzler-Perasini</td><td>Fotorama</td><td>Asta Nielsen, Valdemar Psilander, Gunnar Helsengreen, Emil Albes, Hugo Flink, Mary Hagen</td><td>Two men of high rank are both wooing the beautiful and famous equestrian acrobat Stella. While Stella ignores the jeweler Hirsch, she accepts Count von Waldberg's offer to follow her home, ...</td><td>05.sie</td><td>188</td><td>null</td><td>null</td><td>null</td><td>null</td><td>5.0</td><td>2.0</td><td>1744115055</td><td>114.0</td></tr><tr><td>tt0002101</td><td>Cleopatra</td><td>Cleopatra</td><td>1912</td><td>13.11.1912</td><td>Drama, History</td><td>100</td><td>USA</td><td>English</td><td>Charles L. Gaskill</td><td>Victorien Sardou</td><td>Helen Gardner Picture Players</td><td>Helen Gardner, Pearl Sindelar, Miss Fielding, Miss Robson, Helene Costello, Charles Sindelar, Mr. Howard, James R. Waite, Mr. Osborne, Harry Knowles, Mr. Paul, Mr. Brady, Mr. Corker</td><td>The fabled queen of Egypt's affair with Roman general Marc Antony is ultimately disastrous for both of them.</td><td>05.lut</td><td>446</td><td>45000</td><td>null</td><td>null</td><td>null</td><td>25.0</td><td>3.0</td><td>1744115055</td><td>113.0</td></tr><tr><td>tt0002130</td><td>L'Inferno</td><td>L'Inferno</td><td>1911</td><td>06.03.1911</td><td>Adventure, Drama, Fantasy</td><td>68</td><td>Italy</td><td>Italian</td><td>Francesco Bertolini, Adolfo Padovan</td><td>Dante Alighieri</td><td>Milano Film</td><td>Salvatore Papa, Arturo Pirovano, Giuseppe de Liguoro, Pier Delle Vigne, Augusto Milla, Attilio Motta, Emilise Beretta</td><td>Loosely adapted from Dante's Divine Comedy and inspired by the illustrations of Gustav Doré the original silent film has been restored and has a new score by Tangerine Dream.</td><td>7.0</td><td>2237</td><td>null</td><td>null</td><td>null</td><td>null</td><td>31.0</td><td>14.0</td><td>1744115055</td><td>114.0</td></tr></tbody></table></div>"
      ]
     },
     "metadata": {
      "application/vnd.databricks.v1+output": {
       "addedWidgets": {},
       "aggData": [],
       "aggError": "",
       "aggOverflow": false,
       "aggSchema": [],
       "aggSeriesLimitReached": false,
       "aggType": "",
       "arguments": {},
       "columnCustomDisplayInfos": {},
       "data": [
        [
         "tt0000009",
         "Miss Jerry",
         "Miss Jerry",
         "1894",
         "1894-10-09",
         "Romance",
         45,
         "USA",
         "None",
         "Alexander Black",
         "Alexander Black",
         "Alexander Black Photoplays",
         "Blanche Bayliss, William Courtenay, Chauncey Depew",
         "The adventures of a female reporter in the 1890s.",
         "05.wrz",
         154,
         null,
         null,
         null,
         null,
         1.0,
         2.0,
         1744115055,
         131.0
        ],
        [
         "tt0000574",
         "The Story of the Kelly Gang",
         "The Story of the Kelly Gang",
         "1906",
         "26.12.1906",
         "Biography, Crime, Drama",
         70,
         "Australia",
         "None",
         "Charles Tait",
         "Charles Tait",
         "J. and N. Tait",
         "Elizabeth Tait, John Tait, Norman Campbell, Bella Cola, Will Coyne, Sam Crewes, Jack Ennis, John Forde, Vera Linden, Mr. Marshall, Mr. McKenzie, Frank Mills, Ollie Wilson",
         "True story of notorious Australian outlaw Ned Kelly (1855-80).",
         "06.sty",
         589,
         2250,
         null,
         null,
         null,
         7.0,
         7.0,
         1744115055,
         119.0
        ],
        [
         "tt0001892",
         "Den sorte drøm",
         "Den sorte drøm",
         "1911",
         "19.08.1911",
         "Drama",
         53,
         "Germany, Denmark",
         null,
         "Urban Gad",
         "Urban Gad, Gebhard Schätzler-Perasini",
         "Fotorama",
         "Asta Nielsen, Valdemar Psilander, Gunnar Helsengreen, Emil Albes, Hugo Flink, Mary Hagen",
         "Two men of high rank are both wooing the beautiful and famous equestrian acrobat Stella. While Stella ignores the jeweler Hirsch, she accepts Count von Waldberg's offer to follow her home, ...",
         "05.sie",
         188,
         null,
         null,
         null,
         null,
         5.0,
         2.0,
         1744115055,
         114.0
        ],
        [
         "tt0002101",
         "Cleopatra",
         "Cleopatra",
         "1912",
         "13.11.1912",
         "Drama, History",
         100,
         "USA",
         "English",
         "Charles L. Gaskill",
         "Victorien Sardou",
         "Helen Gardner Picture Players",
         "Helen Gardner, Pearl Sindelar, Miss Fielding, Miss Robson, Helene Costello, Charles Sindelar, Mr. Howard, James R. Waite, Mr. Osborne, Harry Knowles, Mr. Paul, Mr. Brady, Mr. Corker",
         "The fabled queen of Egypt's affair with Roman general Marc Antony is ultimately disastrous for both of them.",
         "05.lut",
         446,
         45000,
         null,
         null,
         null,
         25.0,
         3.0,
         1744115055,
         113.0
        ],
        [
         "tt0002130",
         "L'Inferno",
         "L'Inferno",
         "1911",
         "06.03.1911",
         "Adventure, Drama, Fantasy",
         68,
         "Italy",
         "Italian",
         "Francesco Bertolini, Adolfo Padovan",
         "Dante Alighieri",
         "Milano Film",
         "Salvatore Papa, Arturo Pirovano, Giuseppe de Liguoro, Pier Delle Vigne, Augusto Milla, Attilio Motta, Emilise Beretta",
         "Loosely adapted from Dante's Divine Comedy and inspired by the illustrations of Gustav Doré the original silent film has been restored and has a new score by Tangerine Dream.",
         "7.0",
         2237,
         null,
         null,
         null,
         null,
         31.0,
         14.0,
         1744115055,
         114.0
        ]
       ],
       "datasetInfos": [],
       "dbfsResultPath": null,
       "isJsonSchema": true,
       "metadata": {},
       "overflow": false,
       "plotOptions": {
        "customPlotOptions": {},
        "displayType": "table",
        "pivotAggregation": null,
        "pivotColumns": null,
        "xColumns": null,
        "yColumns": null
       },
       "removedWidgets": [],
       "schema": [
        {
         "metadata": "{}",
         "name": "imdb_title_id",
         "type": "\"string\""
        },
        {
         "metadata": "{}",
         "name": "title",
         "type": "\"string\""
        },
        {
         "metadata": "{}",
         "name": "original_title",
         "type": "\"string\""
        },
        {
         "metadata": "{}",
         "name": "year",
         "type": "\"string\""
        },
        {
         "metadata": "{}",
         "name": "date_published",
         "type": "\"string\""
        },
        {
         "metadata": "{}",
         "name": "genre",
         "type": "\"string\""
        },
        {
         "metadata": "{}",
         "name": "duration",
         "type": "\"integer\""
        },
        {
         "metadata": "{}",
         "name": "country",
         "type": "\"string\""
        },
        {
         "metadata": "{}",
         "name": "language",
         "type": "\"string\""
        },
        {
         "metadata": "{}",
         "name": "director",
         "type": "\"string\""
        },
        {
         "metadata": "{}",
         "name": "writer",
         "type": "\"string\""
        },
        {
         "metadata": "{}",
         "name": "production_company",
         "type": "\"string\""
        },
        {
         "metadata": "{}",
         "name": "actors",
         "type": "\"string\""
        },
        {
         "metadata": "{}",
         "name": "description",
         "type": "\"string\""
        },
        {
         "metadata": "{}",
         "name": "avg_vote",
         "type": "\"string\""
        },
        {
         "metadata": "{}",
         "name": "votes",
         "type": "\"integer\""
        },
        {
         "metadata": "{}",
         "name": "budget",
         "type": "\"integer\""
        },
        {
         "metadata": "{}",
         "name": "usa_gross_income",
         "type": "\"string\""
        },
        {
         "metadata": "{}",
         "name": "worlwide_gross_income",
         "type": "\"string\""
        },
        {
         "metadata": "{}",
         "name": "metascore",
         "type": "\"double\""
        },
        {
         "metadata": "{}",
         "name": "reviews_from_users",
         "type": "\"double\""
        },
        {
         "metadata": "{}",
         "name": "reviews_from_critics",
         "type": "\"double\""
        },
        {
         "metadata": "{}",
         "name": "current_epoch_timestamp",
         "type": "\"long\""
        },
        {
         "metadata": "{}",
         "name": "years_elapsed",
         "type": "\"double\""
        }
       ],
       "type": "table"
      }
     },
     "output_type": "display_data"
    }
   ],
   "source": [
    "# Kolumna która pokaże budżet filmu jako wartość numeryczną\n",
    "from pyspark.sql.types import IntegerType\n",
    "moviesDf = moviesDf.withColumn(\"budget\", split(moviesDf[\"budget\"], \" \")[1].cast(IntegerType()))\n",
    "\n",
    "display(moviesDf.limit(5))"
   ]
  },
  {
   "cell_type": "code",
   "execution_count": 0,
   "metadata": {
    "application/vnd.databricks.v1+cell": {
     "cellMetadata": {
      "byteLimit": 2048000,
      "rowLimit": 10000
     },
     "inputWidgets": {},
     "nuid": "5cedb34d-e73f-4ce1-93ca-fcbf50f125a6",
     "showTitle": false,
     "tableResultSettingsMap": {},
     "title": ""
    }
   },
   "outputs": [
    {
     "output_type": "display_data",
     "data": {
      "text/html": [
       "<style scoped>\n",
       "  .table-result-container {\n",
       "    max-height: 300px;\n",
       "    overflow: auto;\n",
       "  }\n",
       "  table, th, td {\n",
       "    border: 1px solid black;\n",
       "    border-collapse: collapse;\n",
       "  }\n",
       "  th, td {\n",
       "    padding: 5px;\n",
       "  }\n",
       "  th {\n",
       "    text-align: left;\n",
       "  }\n",
       "</style><div class='table-result-container'><table class='table-result'><thead style='background-color: white'><tr><th>imdb_title_id</th><th>title</th><th>original_title</th><th>year</th><th>date_published</th><th>genre</th><th>duration</th><th>country</th><th>language</th><th>director</th><th>writer</th><th>production_company</th><th>actors</th><th>description</th><th>avg_vote</th><th>votes</th><th>budget</th><th>usa_gross_income</th><th>worlwide_gross_income</th><th>metascore</th><th>reviews_from_users</th><th>reviews_from_critics</th><th>current_epoch_timestamp</th><th>years_elapsed</th></tr></thead><tbody><tr><td>tt0017136</td><td>Metropolis</td><td>Metropolis</td><td>1927</td><td>01.10.1928</td><td>Drama, Sci-Fi</td><td>153</td><td>Germany</td><td>German</td><td>Fritz Lang</td><td>Thea von Harbou, Thea von Harbou</td><td>Universum Film (UFA)</td><td>Alfred Abel, Gustav Fröhlich, Rudolf Klein-Rogge, Fritz Rasp, Theodor Loos, Erwin Biswanger, Heinrich George, Brigitte Helm</td><td>In a futuristic city sharply divided between the working class and the city planners, the son of the city's mastermind falls in love with a working class prophet who predicts the coming of a savior to mediate their differences.</td><td>08.mar</td><td>156076</td><td>6000000</td><td>$ 1236166</td><td>$ 1349711</td><td>98.0</td><td>495.0</td><td>208.0</td><td>1744115085</td><td>98.0</td></tr><tr><td>tt0021749</td><td>Luci della città</td><td>City Lights</td><td>1931</td><td>02.04.1931</td><td>Comedy, Drama, Romance</td><td>87</td><td>USA</td><td>English</td><td>Charles Chaplin</td><td>Charles Chaplin</td><td>Charles Chaplin Productions</td><td>Virginia Cherrill, Florence Lee, Harry Myers, Al Ernest Garcia, Hank Mann, Charles Chaplin</td><td>With the aid of a wealthy erratic tippler, a dewy-eyed tramp who has fallen in love with a sightless flower girl accumulates money to be able to help her medically.</td><td>08.maj</td><td>162668</td><td>1500000</td><td>$ 19181</td><td>$ 46008</td><td>99.0</td><td>295.0</td><td>122.0</td><td>1744115085</td><td>94.0</td></tr><tr><td>tt0027977</td><td>Tempi moderni</td><td>Modern Times</td><td>1936</td><td>12.03.1937</td><td>Comedy, Drama, Family</td><td>87</td><td>USA</td><td>English</td><td>Charles Chaplin</td><td>Charles Chaplin</td><td>Charles Chaplin Productions</td><td>Charles Chaplin, Paulette Goddard, Henry Bergman, Tiny Sandford, Chester Conklin, Hank Mann, Stanley Blystone, Al Ernest Garcia, Richard Alexander, Cecil Reynolds, Mira McKinney, Murdock MacQuarrie, Wilfred Lucas, Edward LeSaint, Fred Malatesta</td><td>The Tramp struggles to live in modern industrial society with the help of a young homeless woman.</td><td>08.maj</td><td>211250</td><td>1500000</td><td>$ 163577</td><td>$ 457688</td><td>96.0</td><td>307.0</td><td>115.0</td><td>1744115085</td><td>89.0</td></tr><tr><td>tt0029453</td><td>Il bandito della Casbah</td><td>Pépé le Moko</td><td>1937</td><td>22.10.1937</td><td>Crime, Drama, Romance</td><td>94</td><td>France</td><td>French, Arabic</td><td>Julien Duvivier</td><td>Henri La Barthe, Henri La Barthe</td><td>Paris Film</td><td>Jean Gabin, Gabriel Gabrio, Saturnin Fabre, Fernand Charpin, Lucas Gridoux, Gilbert Gil, Marcel Dalio, Charles Granval, Gaston Modot, René Bergeron, Paul Escoffier, Roger Legris, Jean Témerson, Robert Ozanne, Philippe Richard</td><td>A wanted gangster is both king and prisoner of the Casbah. He is protected from arrest by his friends, but is torn by his desire for freedom outside. A visiting Parisian beauty may just tempt his fate.</td><td>07.lip</td><td>6180</td><td>60000</td><td>$ 155895</td><td>$ 155895</td><td>98.0</td><td>46.0</td><td>55.0</td><td>1744115085</td><td>88.0</td></tr><tr><td>tt0029583</td><td>Biancaneve e i sette nani</td><td>Snow White and the Seven Dwarfs</td><td>1937</td><td>30.11.1938</td><td>Animation, Family, Fantasy</td><td>83</td><td>USA</td><td>English</td><td>William Cottrell, David Hand</td><td>Jacob Grimm, Wilhelm Grimm</td><td>Walt Disney Productions</td><td>Roy Atwell, Stuart Buchanan, Adriana Caselotti, Eddie Collins, Pinto Colvig, Marion Darlington, Billy Gilbert, Otis Harlan, Lucille La Verne, James MacDonald, Scotty Mattraw, Moroni Olsen, Purv Pullen, Harry Stockwell, Bill Thompson</td><td>Exiled into the dangerous forest by her wicked stepmother, a princess is rescued by seven dwarf miners who make her part of their household.</td><td>07.cze</td><td>177157</td><td>1499000</td><td>$ 184925486</td><td>$ 184925486</td><td>95.0</td><td>260.0</td><td>173.0</td><td>1744115085</td><td>88.0</td></tr></tbody></table></div>"
      ]
     },
     "metadata": {
      "application/vnd.databricks.v1+output": {
       "addedWidgets": {},
       "aggData": [],
       "aggError": "",
       "aggOverflow": false,
       "aggSchema": [],
       "aggSeriesLimitReached": false,
       "aggType": "",
       "arguments": {},
       "columnCustomDisplayInfos": {},
       "data": [
        [
         "tt0017136",
         "Metropolis",
         "Metropolis",
         "1927",
         "01.10.1928",
         "Drama, Sci-Fi",
         153,
         "Germany",
         "German",
         "Fritz Lang",
         "Thea von Harbou, Thea von Harbou",
         "Universum Film (UFA)",
         "Alfred Abel, Gustav Fröhlich, Rudolf Klein-Rogge, Fritz Rasp, Theodor Loos, Erwin Biswanger, Heinrich George, Brigitte Helm",
         "In a futuristic city sharply divided between the working class and the city planners, the son of the city's mastermind falls in love with a working class prophet who predicts the coming of a savior to mediate their differences.",
         "08.mar",
         156076,
         6000000,
         "$ 1236166",
         "$ 1349711",
         98.0,
         495.0,
         208.0,
         1744115085,
         98.0
        ],
        [
         "tt0021749",
         "Luci della città",
         "City Lights",
         "1931",
         "02.04.1931",
         "Comedy, Drama, Romance",
         87,
         "USA",
         "English",
         "Charles Chaplin",
         "Charles Chaplin",
         "Charles Chaplin Productions",
         "Virginia Cherrill, Florence Lee, Harry Myers, Al Ernest Garcia, Hank Mann, Charles Chaplin",
         "With the aid of a wealthy erratic tippler, a dewy-eyed tramp who has fallen in love with a sightless flower girl accumulates money to be able to help her medically.",
         "08.maj",
         162668,
         1500000,
         "$ 19181",
         "$ 46008",
         99.0,
         295.0,
         122.0,
         1744115085,
         94.0
        ],
        [
         "tt0027977",
         "Tempi moderni",
         "Modern Times",
         "1936",
         "12.03.1937",
         "Comedy, Drama, Family",
         87,
         "USA",
         "English",
         "Charles Chaplin",
         "Charles Chaplin",
         "Charles Chaplin Productions",
         "Charles Chaplin, Paulette Goddard, Henry Bergman, Tiny Sandford, Chester Conklin, Hank Mann, Stanley Blystone, Al Ernest Garcia, Richard Alexander, Cecil Reynolds, Mira McKinney, Murdock MacQuarrie, Wilfred Lucas, Edward LeSaint, Fred Malatesta",
         "The Tramp struggles to live in modern industrial society with the help of a young homeless woman.",
         "08.maj",
         211250,
         1500000,
         "$ 163577",
         "$ 457688",
         96.0,
         307.0,
         115.0,
         1744115085,
         89.0
        ],
        [
         "tt0029453",
         "Il bandito della Casbah",
         "Pépé le Moko",
         "1937",
         "22.10.1937",
         "Crime, Drama, Romance",
         94,
         "France",
         "French, Arabic",
         "Julien Duvivier",
         "Henri La Barthe, Henri La Barthe",
         "Paris Film",
         "Jean Gabin, Gabriel Gabrio, Saturnin Fabre, Fernand Charpin, Lucas Gridoux, Gilbert Gil, Marcel Dalio, Charles Granval, Gaston Modot, René Bergeron, Paul Escoffier, Roger Legris, Jean Témerson, Robert Ozanne, Philippe Richard",
         "A wanted gangster is both king and prisoner of the Casbah. He is protected from arrest by his friends, but is torn by his desire for freedom outside. A visiting Parisian beauty may just tempt his fate.",
         "07.lip",
         6180,
         60000,
         "$ 155895",
         "$ 155895",
         98.0,
         46.0,
         55.0,
         1744115085,
         88.0
        ],
        [
         "tt0029583",
         "Biancaneve e i sette nani",
         "Snow White and the Seven Dwarfs",
         "1937",
         "30.11.1938",
         "Animation, Family, Fantasy",
         83,
         "USA",
         "English",
         "William Cottrell, David Hand",
         "Jacob Grimm, Wilhelm Grimm",
         "Walt Disney Productions",
         "Roy Atwell, Stuart Buchanan, Adriana Caselotti, Eddie Collins, Pinto Colvig, Marion Darlington, Billy Gilbert, Otis Harlan, Lucille La Verne, James MacDonald, Scotty Mattraw, Moroni Olsen, Purv Pullen, Harry Stockwell, Bill Thompson",
         "Exiled into the dangerous forest by her wicked stepmother, a princess is rescued by seven dwarf miners who make her part of their household.",
         "07.cze",
         177157,
         1499000,
         "$ 184925486",
         "$ 184925486",
         95.0,
         260.0,
         173.0,
         1744115085,
         88.0
        ]
       ],
       "datasetInfos": [],
       "dbfsResultPath": null,
       "isJsonSchema": true,
       "metadata": {},
       "overflow": false,
       "plotOptions": {
        "customPlotOptions": {},
        "displayType": "table",
        "pivotAggregation": null,
        "pivotColumns": null,
        "xColumns": null,
        "yColumns": null
       },
       "removedWidgets": [],
       "schema": [
        {
         "metadata": "{}",
         "name": "imdb_title_id",
         "type": "\"string\""
        },
        {
         "metadata": "{}",
         "name": "title",
         "type": "\"string\""
        },
        {
         "metadata": "{}",
         "name": "original_title",
         "type": "\"string\""
        },
        {
         "metadata": "{}",
         "name": "year",
         "type": "\"string\""
        },
        {
         "metadata": "{}",
         "name": "date_published",
         "type": "\"string\""
        },
        {
         "metadata": "{}",
         "name": "genre",
         "type": "\"string\""
        },
        {
         "metadata": "{}",
         "name": "duration",
         "type": "\"integer\""
        },
        {
         "metadata": "{}",
         "name": "country",
         "type": "\"string\""
        },
        {
         "metadata": "{}",
         "name": "language",
         "type": "\"string\""
        },
        {
         "metadata": "{}",
         "name": "director",
         "type": "\"string\""
        },
        {
         "metadata": "{}",
         "name": "writer",
         "type": "\"string\""
        },
        {
         "metadata": "{}",
         "name": "production_company",
         "type": "\"string\""
        },
        {
         "metadata": "{}",
         "name": "actors",
         "type": "\"string\""
        },
        {
         "metadata": "{}",
         "name": "description",
         "type": "\"string\""
        },
        {
         "metadata": "{}",
         "name": "avg_vote",
         "type": "\"string\""
        },
        {
         "metadata": "{}",
         "name": "votes",
         "type": "\"integer\""
        },
        {
         "metadata": "{}",
         "name": "budget",
         "type": "\"integer\""
        },
        {
         "metadata": "{}",
         "name": "usa_gross_income",
         "type": "\"string\""
        },
        {
         "metadata": "{}",
         "name": "worlwide_gross_income",
         "type": "\"string\""
        },
        {
         "metadata": "{}",
         "name": "metascore",
         "type": "\"double\""
        },
        {
         "metadata": "{}",
         "name": "reviews_from_users",
         "type": "\"double\""
        },
        {
         "metadata": "{}",
         "name": "reviews_from_critics",
         "type": "\"double\""
        },
        {
         "metadata": "{}",
         "name": "current_epoch_timestamp",
         "type": "\"long\""
        },
        {
         "metadata": "{}",
         "name": "years_elapsed",
         "type": "\"double\""
        }
       ],
       "type": "table"
      }
     },
     "output_type": "display_data"
    }
   ],
   "source": [
    "# Usuwam wiersze z dataframe gdzie wartości są null\n",
    "moviesDf = moviesDf.dropna()\n",
    "\n",
    "display(moviesDf.limit(5))"
   ]
  },
  {
   "cell_type": "markdown",
   "metadata": {
    "application/vnd.databricks.v1+cell": {
     "cellMetadata": {
      "byteLimit": 2048000,
      "rowLimit": 10000
     },
     "inputWidgets": {},
     "nuid": "18d1e437-12d6-41c0-a8f4-d430ae74431f",
     "showTitle": false,
     "tableResultSettingsMap": {},
     "title": ""
    }
   },
   "source": [
    "ratings.csv\n",
    "* Dodaj kolumnę z wartością czasu wykonania notatnika w formacie epoch\n",
    "* Dla każdego z poniższych wyliczeń nie bierz pod uwagę `nulls` \n",
    "* Kto daje lepsze oceny chłopcy czy dziewczyny dla całego setu\n",
    "* Dla jednej z kolumn zmień typ danych do `long` "
   ]
  },
  {
   "cell_type": "code",
   "execution_count": 0,
   "metadata": {
    "application/vnd.databricks.v1+cell": {
     "cellMetadata": {
      "byteLimit": 2048000,
      "rowLimit": 10000
     },
     "inputWidgets": {},
     "nuid": "75c22c14-a54e-4727-b2ad-f8b631f2b541",
     "showTitle": false,
     "tableResultSettingsMap": {},
     "title": ""
    }
   },
   "outputs": [
    {
     "output_type": "display_data",
     "data": {
      "text/html": [
       "<style scoped>\n",
       "  .table-result-container {\n",
       "    max-height: 300px;\n",
       "    overflow: auto;\n",
       "  }\n",
       "  table, th, td {\n",
       "    border: 1px solid black;\n",
       "    border-collapse: collapse;\n",
       "  }\n",
       "  th, td {\n",
       "    padding: 5px;\n",
       "  }\n",
       "  th {\n",
       "    text-align: left;\n",
       "  }\n",
       "</style><div class='table-result-container'><table class='table-result'><thead style='background-color: white'><tr><th>imdb_title_id</th><th>weighted_average_vote</th><th>total_votes</th><th>mean_vote</th><th>median_vote</th><th>votes_10</th><th>votes_9</th><th>votes_8</th><th>votes_7</th><th>votes_6</th><th>votes_5</th><th>votes_4</th><th>votes_3</th><th>votes_2</th><th>votes_1</th><th>allgenders_0age_avg_vote</th><th>allgenders_0age_votes</th><th>allgenders_18age_avg_vote</th><th>allgenders_18age_votes</th><th>allgenders_30age_avg_vote</th><th>allgenders_30age_votes</th><th>allgenders_45age_avg_vote</th><th>allgenders_45age_votes</th><th>males_allages_avg_vote</th><th>males_allages_votes</th><th>males_0age_avg_vote</th><th>males_0age_votes</th><th>males_18age_avg_vote</th><th>males_18age_votes</th><th>males_30age_avg_vote</th><th>males_30age_votes</th><th>males_45age_avg_vote</th><th>males_45age_votes</th><th>females_allages_avg_vote</th><th>females_allages_votes</th><th>females_0age_avg_vote</th><th>females_0age_votes</th><th>females_18age_avg_vote</th><th>females_18age_votes</th><th>females_30age_avg_vote</th><th>females_30age_votes</th><th>females_45age_avg_vote</th><th>females_45age_votes</th><th>top1000_voters_rating</th><th>top1000_voters_votes</th><th>us_voters_rating</th><th>us_voters_votes</th><th>non_us_voters_rating</th><th>non_us_voters_votes</th></tr></thead><tbody><tr><td>tt0000009</td><td>5.9</td><td>154</td><td>5.9</td><td>6.0</td><td>12</td><td>4</td><td>10</td><td>43</td><td>28</td><td>28</td><td>9</td><td>1</td><td>5</td><td>14</td><td>7.2</td><td>4.0</td><td>6.0</td><td>38.0</td><td>5.7</td><td>50.0</td><td>6.6</td><td>35.0</td><td>6.2</td><td>97.0</td><td>7.0</td><td>1.0</td><td>5.9</td><td>24.0</td><td>5.6</td><td>36.0</td><td>6.7</td><td>31.0</td><td>6.0</td><td>35.0</td><td>7.3</td><td>3.0</td><td>5.9</td><td>14.0</td><td>5.7</td><td>13.0</td><td>4.5</td><td>4.0</td><td>5.7</td><td>34.0</td><td>6.4</td><td>51.0</td><td>6.0</td><td>70.0</td></tr><tr><td>tt0000574</td><td>6.1</td><td>589</td><td>6.3</td><td>6.0</td><td>57</td><td>18</td><td>58</td><td>137</td><td>139</td><td>103</td><td>28</td><td>20</td><td>13</td><td>16</td><td>6.0</td><td>1.0</td><td>6.1</td><td>114.0</td><td>6.0</td><td>239.0</td><td>6.3</td><td>115.0</td><td>6.1</td><td>425.0</td><td>6.0</td><td>1.0</td><td>6.2</td><td>102.0</td><td>6.0</td><td>210.0</td><td>6.2</td><td>100.0</td><td>6.2</td><td>50.0</td><td>null</td><td>null</td><td>5.9</td><td>12.0</td><td>6.2</td><td>23.0</td><td>6.6</td><td>14.0</td><td>6.4</td><td>66.0</td><td>6.0</td><td>96.0</td><td>6.2</td><td>331.0</td></tr><tr><td>tt0001892</td><td>5.8</td><td>188</td><td>6.0</td><td>6.0</td><td>6</td><td>6</td><td>17</td><td>44</td><td>52</td><td>32</td><td>16</td><td>5</td><td>6</td><td>4</td><td>null</td><td>null</td><td>5.5</td><td>25.0</td><td>5.8</td><td>72.0</td><td>6.2</td><td>62.0</td><td>5.9</td><td>146.0</td><td>null</td><td>null</td><td>5.5</td><td>21.0</td><td>5.9</td><td>67.0</td><td>6.2</td><td>55.0</td><td>5.7</td><td>15.0</td><td>null</td><td>null</td><td>5.8</td><td>4.0</td><td>5.8</td><td>4.0</td><td>6.8</td><td>7.0</td><td>5.4</td><td>32.0</td><td>6.2</td><td>31.0</td><td>5.9</td><td>123.0</td></tr><tr><td>tt0002101</td><td>5.2</td><td>446</td><td>5.3</td><td>5.0</td><td>15</td><td>8</td><td>16</td><td>62</td><td>98</td><td>117</td><td>63</td><td>26</td><td>25</td><td>16</td><td>null</td><td>null</td><td>5.3</td><td>23.0</td><td>5.0</td><td>111.0</td><td>5.3</td><td>193.0</td><td>5.1</td><td>299.0</td><td>null</td><td>null</td><td>5.2</td><td>20.0</td><td>4.9</td><td>96.0</td><td>5.2</td><td>171.0</td><td>5.9</td><td>39.0</td><td>null</td><td>null</td><td>5.7</td><td>3.0</td><td>5.5</td><td>14.0</td><td>6.1</td><td>21.0</td><td>4.9</td><td>57.0</td><td>5.5</td><td>207.0</td><td>4.7</td><td>105.0</td></tr><tr><td>tt0002130</td><td>7.0</td><td>2237</td><td>6.9</td><td>7.0</td><td>210</td><td>225</td><td>436</td><td>641</td><td>344</td><td>169</td><td>66</td><td>39</td><td>20</td><td>87</td><td>7.5</td><td>4.0</td><td>7.0</td><td>402.0</td><td>7.0</td><td>895.0</td><td>7.1</td><td>482.0</td><td>7.0</td><td>1607.0</td><td>8.0</td><td>2.0</td><td>7.0</td><td>346.0</td><td>7.0</td><td>804.0</td><td>7.0</td><td>396.0</td><td>7.2</td><td>215.0</td><td>7.0</td><td>2.0</td><td>7.0</td><td>52.0</td><td>7.3</td><td>82.0</td><td>7.4</td><td>77.0</td><td>6.9</td><td>139.0</td><td>7.0</td><td>488.0</td><td>7.0</td><td>1166.0</td></tr></tbody></table></div>"
      ]
     },
     "metadata": {
      "application/vnd.databricks.v1+output": {
       "addedWidgets": {},
       "aggData": [],
       "aggError": "",
       "aggOverflow": false,
       "aggSchema": [],
       "aggSeriesLimitReached": false,
       "aggType": "",
       "arguments": {},
       "columnCustomDisplayInfos": {},
       "data": [
        [
         "tt0000009",
         5.9,
         154,
         5.9,
         6.0,
         12,
         4,
         10,
         43,
         28,
         28,
         9,
         1,
         5,
         14,
         7.2,
         4.0,
         6.0,
         38.0,
         5.7,
         50.0,
         6.6,
         35.0,
         6.2,
         97.0,
         7.0,
         1.0,
         5.9,
         24.0,
         5.6,
         36.0,
         6.7,
         31.0,
         6.0,
         35.0,
         7.3,
         3.0,
         5.9,
         14.0,
         5.7,
         13.0,
         4.5,
         4.0,
         5.7,
         34.0,
         6.4,
         51.0,
         6.0,
         70.0
        ],
        [
         "tt0000574",
         6.1,
         589,
         6.3,
         6.0,
         57,
         18,
         58,
         137,
         139,
         103,
         28,
         20,
         13,
         16,
         6.0,
         1.0,
         6.1,
         114.0,
         6.0,
         239.0,
         6.3,
         115.0,
         6.1,
         425.0,
         6.0,
         1.0,
         6.2,
         102.0,
         6.0,
         210.0,
         6.2,
         100.0,
         6.2,
         50.0,
         null,
         null,
         5.9,
         12.0,
         6.2,
         23.0,
         6.6,
         14.0,
         6.4,
         66.0,
         6.0,
         96.0,
         6.2,
         331.0
        ],
        [
         "tt0001892",
         5.8,
         188,
         6.0,
         6.0,
         6,
         6,
         17,
         44,
         52,
         32,
         16,
         5,
         6,
         4,
         null,
         null,
         5.5,
         25.0,
         5.8,
         72.0,
         6.2,
         62.0,
         5.9,
         146.0,
         null,
         null,
         5.5,
         21.0,
         5.9,
         67.0,
         6.2,
         55.0,
         5.7,
         15.0,
         null,
         null,
         5.8,
         4.0,
         5.8,
         4.0,
         6.8,
         7.0,
         5.4,
         32.0,
         6.2,
         31.0,
         5.9,
         123.0
        ],
        [
         "tt0002101",
         5.2,
         446,
         5.3,
         5.0,
         15,
         8,
         16,
         62,
         98,
         117,
         63,
         26,
         25,
         16,
         null,
         null,
         5.3,
         23.0,
         5.0,
         111.0,
         5.3,
         193.0,
         5.1,
         299.0,
         null,
         null,
         5.2,
         20.0,
         4.9,
         96.0,
         5.2,
         171.0,
         5.9,
         39.0,
         null,
         null,
         5.7,
         3.0,
         5.5,
         14.0,
         6.1,
         21.0,
         4.9,
         57.0,
         5.5,
         207.0,
         4.7,
         105.0
        ],
        [
         "tt0002130",
         7.0,
         2237,
         6.9,
         7.0,
         210,
         225,
         436,
         641,
         344,
         169,
         66,
         39,
         20,
         87,
         7.5,
         4.0,
         7.0,
         402.0,
         7.0,
         895.0,
         7.1,
         482.0,
         7.0,
         1607.0,
         8.0,
         2.0,
         7.0,
         346.0,
         7.0,
         804.0,
         7.0,
         396.0,
         7.2,
         215.0,
         7.0,
         2.0,
         7.0,
         52.0,
         7.3,
         82.0,
         7.4,
         77.0,
         6.9,
         139.0,
         7.0,
         488.0,
         7.0,
         1166.0
        ]
       ],
       "datasetInfos": [],
       "dbfsResultPath": null,
       "isJsonSchema": true,
       "metadata": {},
       "overflow": false,
       "plotOptions": {
        "customPlotOptions": {},
        "displayType": "table",
        "pivotAggregation": null,
        "pivotColumns": null,
        "xColumns": null,
        "yColumns": null
       },
       "removedWidgets": [],
       "schema": [
        {
         "metadata": "{}",
         "name": "imdb_title_id",
         "type": "\"string\""
        },
        {
         "metadata": "{}",
         "name": "weighted_average_vote",
         "type": "\"double\""
        },
        {
         "metadata": "{}",
         "name": "total_votes",
         "type": "\"integer\""
        },
        {
         "metadata": "{}",
         "name": "mean_vote",
         "type": "\"double\""
        },
        {
         "metadata": "{}",
         "name": "median_vote",
         "type": "\"double\""
        },
        {
         "metadata": "{}",
         "name": "votes_10",
         "type": "\"integer\""
        },
        {
         "metadata": "{}",
         "name": "votes_9",
         "type": "\"integer\""
        },
        {
         "metadata": "{}",
         "name": "votes_8",
         "type": "\"integer\""
        },
        {
         "metadata": "{}",
         "name": "votes_7",
         "type": "\"integer\""
        },
        {
         "metadata": "{}",
         "name": "votes_6",
         "type": "\"integer\""
        },
        {
         "metadata": "{}",
         "name": "votes_5",
         "type": "\"integer\""
        },
        {
         "metadata": "{}",
         "name": "votes_4",
         "type": "\"integer\""
        },
        {
         "metadata": "{}",
         "name": "votes_3",
         "type": "\"integer\""
        },
        {
         "metadata": "{}",
         "name": "votes_2",
         "type": "\"integer\""
        },
        {
         "metadata": "{}",
         "name": "votes_1",
         "type": "\"integer\""
        },
        {
         "metadata": "{}",
         "name": "allgenders_0age_avg_vote",
         "type": "\"double\""
        },
        {
         "metadata": "{}",
         "name": "allgenders_0age_votes",
         "type": "\"double\""
        },
        {
         "metadata": "{}",
         "name": "allgenders_18age_avg_vote",
         "type": "\"double\""
        },
        {
         "metadata": "{}",
         "name": "allgenders_18age_votes",
         "type": "\"double\""
        },
        {
         "metadata": "{}",
         "name": "allgenders_30age_avg_vote",
         "type": "\"double\""
        },
        {
         "metadata": "{}",
         "name": "allgenders_30age_votes",
         "type": "\"double\""
        },
        {
         "metadata": "{}",
         "name": "allgenders_45age_avg_vote",
         "type": "\"double\""
        },
        {
         "metadata": "{}",
         "name": "allgenders_45age_votes",
         "type": "\"double\""
        },
        {
         "metadata": "{}",
         "name": "males_allages_avg_vote",
         "type": "\"double\""
        },
        {
         "metadata": "{}",
         "name": "males_allages_votes",
         "type": "\"double\""
        },
        {
         "metadata": "{}",
         "name": "males_0age_avg_vote",
         "type": "\"double\""
        },
        {
         "metadata": "{}",
         "name": "males_0age_votes",
         "type": "\"double\""
        },
        {
         "metadata": "{}",
         "name": "males_18age_avg_vote",
         "type": "\"double\""
        },
        {
         "metadata": "{}",
         "name": "males_18age_votes",
         "type": "\"double\""
        },
        {
         "metadata": "{}",
         "name": "males_30age_avg_vote",
         "type": "\"double\""
        },
        {
         "metadata": "{}",
         "name": "males_30age_votes",
         "type": "\"double\""
        },
        {
         "metadata": "{}",
         "name": "males_45age_avg_vote",
         "type": "\"double\""
        },
        {
         "metadata": "{}",
         "name": "males_45age_votes",
         "type": "\"double\""
        },
        {
         "metadata": "{}",
         "name": "females_allages_avg_vote",
         "type": "\"double\""
        },
        {
         "metadata": "{}",
         "name": "females_allages_votes",
         "type": "\"double\""
        },
        {
         "metadata": "{}",
         "name": "females_0age_avg_vote",
         "type": "\"double\""
        },
        {
         "metadata": "{}",
         "name": "females_0age_votes",
         "type": "\"double\""
        },
        {
         "metadata": "{}",
         "name": "females_18age_avg_vote",
         "type": "\"double\""
        },
        {
         "metadata": "{}",
         "name": "females_18age_votes",
         "type": "\"double\""
        },
        {
         "metadata": "{}",
         "name": "females_30age_avg_vote",
         "type": "\"double\""
        },
        {
         "metadata": "{}",
         "name": "females_30age_votes",
         "type": "\"double\""
        },
        {
         "metadata": "{}",
         "name": "females_45age_avg_vote",
         "type": "\"double\""
        },
        {
         "metadata": "{}",
         "name": "females_45age_votes",
         "type": "\"double\""
        },
        {
         "metadata": "{}",
         "name": "top1000_voters_rating",
         "type": "\"double\""
        },
        {
         "metadata": "{}",
         "name": "top1000_voters_votes",
         "type": "\"double\""
        },
        {
         "metadata": "{}",
         "name": "us_voters_rating",
         "type": "\"double\""
        },
        {
         "metadata": "{}",
         "name": "us_voters_votes",
         "type": "\"double\""
        },
        {
         "metadata": "{}",
         "name": "non_us_voters_rating",
         "type": "\"double\""
        },
        {
         "metadata": "{}",
         "name": "non_us_voters_votes",
         "type": "\"double\""
        }
       ],
       "type": "table"
      }
     },
     "output_type": "display_data"
    }
   ],
   "source": [
    "filePath = \"dbfs:/FileStore/tables/Files/ratings.csv\"\n",
    "ratingsDf = spark.read.format(\"csv\") \\\n",
    "              .option(\"header\",\"true\") \\\n",
    "              .option(\"inferSchema\",\"true\") \\\n",
    "              .load(filePath)\n",
    "\n",
    "display(ratingsDf.limit(5))"
   ]
  },
  {
   "cell_type": "code",
   "execution_count": 0,
   "metadata": {
    "application/vnd.databricks.v1+cell": {
     "cellMetadata": {
      "byteLimit": 2048000,
      "rowLimit": 10000
     },
     "inputWidgets": {},
     "nuid": "a80cf7df-a1ab-40ec-87c6-767ce8f64724",
     "showTitle": false,
     "tableResultSettingsMap": {},
     "title": ""
    }
   },
   "outputs": [
    {
     "output_type": "display_data",
     "data": {
      "text/html": [
       "<style scoped>\n",
       "  .table-result-container {\n",
       "    max-height: 300px;\n",
       "    overflow: auto;\n",
       "  }\n",
       "  table, th, td {\n",
       "    border: 1px solid black;\n",
       "    border-collapse: collapse;\n",
       "  }\n",
       "  th, td {\n",
       "    padding: 5px;\n",
       "  }\n",
       "  th {\n",
       "    text-align: left;\n",
       "  }\n",
       "</style><div class='table-result-container'><table class='table-result'><thead style='background-color: white'><tr><th>imdb_title_id</th><th>weighted_average_vote</th><th>total_votes</th><th>mean_vote</th><th>median_vote</th><th>votes_10</th><th>votes_9</th><th>votes_8</th><th>votes_7</th><th>votes_6</th><th>votes_5</th><th>votes_4</th><th>votes_3</th><th>votes_2</th><th>votes_1</th><th>allgenders_0age_avg_vote</th><th>allgenders_0age_votes</th><th>allgenders_18age_avg_vote</th><th>allgenders_18age_votes</th><th>allgenders_30age_avg_vote</th><th>allgenders_30age_votes</th><th>allgenders_45age_avg_vote</th><th>allgenders_45age_votes</th><th>males_allages_avg_vote</th><th>males_allages_votes</th><th>males_0age_avg_vote</th><th>males_0age_votes</th><th>males_18age_avg_vote</th><th>males_18age_votes</th><th>males_30age_avg_vote</th><th>males_30age_votes</th><th>males_45age_avg_vote</th><th>males_45age_votes</th><th>females_allages_avg_vote</th><th>females_allages_votes</th><th>females_0age_avg_vote</th><th>females_0age_votes</th><th>females_18age_avg_vote</th><th>females_18age_votes</th><th>females_30age_avg_vote</th><th>females_30age_votes</th><th>females_45age_avg_vote</th><th>females_45age_votes</th><th>top1000_voters_rating</th><th>top1000_voters_votes</th><th>us_voters_rating</th><th>us_voters_votes</th><th>non_us_voters_rating</th><th>non_us_voters_votes</th><th>current_epoch_timestamp</th></tr></thead><tbody><tr><td>tt0000009</td><td>5.9</td><td>154</td><td>5.9</td><td>6.0</td><td>12</td><td>4</td><td>10</td><td>43</td><td>28</td><td>28</td><td>9</td><td>1</td><td>5</td><td>14</td><td>7.2</td><td>4.0</td><td>6.0</td><td>38.0</td><td>5.7</td><td>50.0</td><td>6.6</td><td>35.0</td><td>6.2</td><td>97.0</td><td>7.0</td><td>1.0</td><td>5.9</td><td>24.0</td><td>5.6</td><td>36.0</td><td>6.7</td><td>31.0</td><td>6.0</td><td>35.0</td><td>7.3</td><td>3.0</td><td>5.9</td><td>14.0</td><td>5.7</td><td>13.0</td><td>4.5</td><td>4.0</td><td>5.7</td><td>34.0</td><td>6.4</td><td>51.0</td><td>6.0</td><td>70.0</td><td>1744115283</td></tr><tr><td>tt0000574</td><td>6.1</td><td>589</td><td>6.3</td><td>6.0</td><td>57</td><td>18</td><td>58</td><td>137</td><td>139</td><td>103</td><td>28</td><td>20</td><td>13</td><td>16</td><td>6.0</td><td>1.0</td><td>6.1</td><td>114.0</td><td>6.0</td><td>239.0</td><td>6.3</td><td>115.0</td><td>6.1</td><td>425.0</td><td>6.0</td><td>1.0</td><td>6.2</td><td>102.0</td><td>6.0</td><td>210.0</td><td>6.2</td><td>100.0</td><td>6.2</td><td>50.0</td><td>null</td><td>null</td><td>5.9</td><td>12.0</td><td>6.2</td><td>23.0</td><td>6.6</td><td>14.0</td><td>6.4</td><td>66.0</td><td>6.0</td><td>96.0</td><td>6.2</td><td>331.0</td><td>1744115283</td></tr><tr><td>tt0001892</td><td>5.8</td><td>188</td><td>6.0</td><td>6.0</td><td>6</td><td>6</td><td>17</td><td>44</td><td>52</td><td>32</td><td>16</td><td>5</td><td>6</td><td>4</td><td>null</td><td>null</td><td>5.5</td><td>25.0</td><td>5.8</td><td>72.0</td><td>6.2</td><td>62.0</td><td>5.9</td><td>146.0</td><td>null</td><td>null</td><td>5.5</td><td>21.0</td><td>5.9</td><td>67.0</td><td>6.2</td><td>55.0</td><td>5.7</td><td>15.0</td><td>null</td><td>null</td><td>5.8</td><td>4.0</td><td>5.8</td><td>4.0</td><td>6.8</td><td>7.0</td><td>5.4</td><td>32.0</td><td>6.2</td><td>31.0</td><td>5.9</td><td>123.0</td><td>1744115283</td></tr><tr><td>tt0002101</td><td>5.2</td><td>446</td><td>5.3</td><td>5.0</td><td>15</td><td>8</td><td>16</td><td>62</td><td>98</td><td>117</td><td>63</td><td>26</td><td>25</td><td>16</td><td>null</td><td>null</td><td>5.3</td><td>23.0</td><td>5.0</td><td>111.0</td><td>5.3</td><td>193.0</td><td>5.1</td><td>299.0</td><td>null</td><td>null</td><td>5.2</td><td>20.0</td><td>4.9</td><td>96.0</td><td>5.2</td><td>171.0</td><td>5.9</td><td>39.0</td><td>null</td><td>null</td><td>5.7</td><td>3.0</td><td>5.5</td><td>14.0</td><td>6.1</td><td>21.0</td><td>4.9</td><td>57.0</td><td>5.5</td><td>207.0</td><td>4.7</td><td>105.0</td><td>1744115283</td></tr><tr><td>tt0002130</td><td>7.0</td><td>2237</td><td>6.9</td><td>7.0</td><td>210</td><td>225</td><td>436</td><td>641</td><td>344</td><td>169</td><td>66</td><td>39</td><td>20</td><td>87</td><td>7.5</td><td>4.0</td><td>7.0</td><td>402.0</td><td>7.0</td><td>895.0</td><td>7.1</td><td>482.0</td><td>7.0</td><td>1607.0</td><td>8.0</td><td>2.0</td><td>7.0</td><td>346.0</td><td>7.0</td><td>804.0</td><td>7.0</td><td>396.0</td><td>7.2</td><td>215.0</td><td>7.0</td><td>2.0</td><td>7.0</td><td>52.0</td><td>7.3</td><td>82.0</td><td>7.4</td><td>77.0</td><td>6.9</td><td>139.0</td><td>7.0</td><td>488.0</td><td>7.0</td><td>1166.0</td><td>1744115283</td></tr></tbody></table></div>"
      ]
     },
     "metadata": {
      "application/vnd.databricks.v1+output": {
       "addedWidgets": {},
       "aggData": [],
       "aggError": "",
       "aggOverflow": false,
       "aggSchema": [],
       "aggSeriesLimitReached": false,
       "aggType": "",
       "arguments": {},
       "columnCustomDisplayInfos": {},
       "data": [
        [
         "tt0000009",
         5.9,
         154,
         5.9,
         6.0,
         12,
         4,
         10,
         43,
         28,
         28,
         9,
         1,
         5,
         14,
         7.2,
         4.0,
         6.0,
         38.0,
         5.7,
         50.0,
         6.6,
         35.0,
         6.2,
         97.0,
         7.0,
         1.0,
         5.9,
         24.0,
         5.6,
         36.0,
         6.7,
         31.0,
         6.0,
         35.0,
         7.3,
         3.0,
         5.9,
         14.0,
         5.7,
         13.0,
         4.5,
         4.0,
         5.7,
         34.0,
         6.4,
         51.0,
         6.0,
         70.0,
         1744115283
        ],
        [
         "tt0000574",
         6.1,
         589,
         6.3,
         6.0,
         57,
         18,
         58,
         137,
         139,
         103,
         28,
         20,
         13,
         16,
         6.0,
         1.0,
         6.1,
         114.0,
         6.0,
         239.0,
         6.3,
         115.0,
         6.1,
         425.0,
         6.0,
         1.0,
         6.2,
         102.0,
         6.0,
         210.0,
         6.2,
         100.0,
         6.2,
         50.0,
         null,
         null,
         5.9,
         12.0,
         6.2,
         23.0,
         6.6,
         14.0,
         6.4,
         66.0,
         6.0,
         96.0,
         6.2,
         331.0,
         1744115283
        ],
        [
         "tt0001892",
         5.8,
         188,
         6.0,
         6.0,
         6,
         6,
         17,
         44,
         52,
         32,
         16,
         5,
         6,
         4,
         null,
         null,
         5.5,
         25.0,
         5.8,
         72.0,
         6.2,
         62.0,
         5.9,
         146.0,
         null,
         null,
         5.5,
         21.0,
         5.9,
         67.0,
         6.2,
         55.0,
         5.7,
         15.0,
         null,
         null,
         5.8,
         4.0,
         5.8,
         4.0,
         6.8,
         7.0,
         5.4,
         32.0,
         6.2,
         31.0,
         5.9,
         123.0,
         1744115283
        ],
        [
         "tt0002101",
         5.2,
         446,
         5.3,
         5.0,
         15,
         8,
         16,
         62,
         98,
         117,
         63,
         26,
         25,
         16,
         null,
         null,
         5.3,
         23.0,
         5.0,
         111.0,
         5.3,
         193.0,
         5.1,
         299.0,
         null,
         null,
         5.2,
         20.0,
         4.9,
         96.0,
         5.2,
         171.0,
         5.9,
         39.0,
         null,
         null,
         5.7,
         3.0,
         5.5,
         14.0,
         6.1,
         21.0,
         4.9,
         57.0,
         5.5,
         207.0,
         4.7,
         105.0,
         1744115283
        ],
        [
         "tt0002130",
         7.0,
         2237,
         6.9,
         7.0,
         210,
         225,
         436,
         641,
         344,
         169,
         66,
         39,
         20,
         87,
         7.5,
         4.0,
         7.0,
         402.0,
         7.0,
         895.0,
         7.1,
         482.0,
         7.0,
         1607.0,
         8.0,
         2.0,
         7.0,
         346.0,
         7.0,
         804.0,
         7.0,
         396.0,
         7.2,
         215.0,
         7.0,
         2.0,
         7.0,
         52.0,
         7.3,
         82.0,
         7.4,
         77.0,
         6.9,
         139.0,
         7.0,
         488.0,
         7.0,
         1166.0,
         1744115283
        ]
       ],
       "datasetInfos": [],
       "dbfsResultPath": null,
       "isJsonSchema": true,
       "metadata": {},
       "overflow": false,
       "plotOptions": {
        "customPlotOptions": {},
        "displayType": "table",
        "pivotAggregation": null,
        "pivotColumns": null,
        "xColumns": null,
        "yColumns": null
       },
       "removedWidgets": [],
       "schema": [
        {
         "metadata": "{}",
         "name": "imdb_title_id",
         "type": "\"string\""
        },
        {
         "metadata": "{}",
         "name": "weighted_average_vote",
         "type": "\"double\""
        },
        {
         "metadata": "{}",
         "name": "total_votes",
         "type": "\"integer\""
        },
        {
         "metadata": "{}",
         "name": "mean_vote",
         "type": "\"double\""
        },
        {
         "metadata": "{}",
         "name": "median_vote",
         "type": "\"double\""
        },
        {
         "metadata": "{}",
         "name": "votes_10",
         "type": "\"integer\""
        },
        {
         "metadata": "{}",
         "name": "votes_9",
         "type": "\"integer\""
        },
        {
         "metadata": "{}",
         "name": "votes_8",
         "type": "\"integer\""
        },
        {
         "metadata": "{}",
         "name": "votes_7",
         "type": "\"integer\""
        },
        {
         "metadata": "{}",
         "name": "votes_6",
         "type": "\"integer\""
        },
        {
         "metadata": "{}",
         "name": "votes_5",
         "type": "\"integer\""
        },
        {
         "metadata": "{}",
         "name": "votes_4",
         "type": "\"integer\""
        },
        {
         "metadata": "{}",
         "name": "votes_3",
         "type": "\"integer\""
        },
        {
         "metadata": "{}",
         "name": "votes_2",
         "type": "\"integer\""
        },
        {
         "metadata": "{}",
         "name": "votes_1",
         "type": "\"integer\""
        },
        {
         "metadata": "{}",
         "name": "allgenders_0age_avg_vote",
         "type": "\"double\""
        },
        {
         "metadata": "{}",
         "name": "allgenders_0age_votes",
         "type": "\"double\""
        },
        {
         "metadata": "{}",
         "name": "allgenders_18age_avg_vote",
         "type": "\"double\""
        },
        {
         "metadata": "{}",
         "name": "allgenders_18age_votes",
         "type": "\"double\""
        },
        {
         "metadata": "{}",
         "name": "allgenders_30age_avg_vote",
         "type": "\"double\""
        },
        {
         "metadata": "{}",
         "name": "allgenders_30age_votes",
         "type": "\"double\""
        },
        {
         "metadata": "{}",
         "name": "allgenders_45age_avg_vote",
         "type": "\"double\""
        },
        {
         "metadata": "{}",
         "name": "allgenders_45age_votes",
         "type": "\"double\""
        },
        {
         "metadata": "{}",
         "name": "males_allages_avg_vote",
         "type": "\"double\""
        },
        {
         "metadata": "{}",
         "name": "males_allages_votes",
         "type": "\"double\""
        },
        {
         "metadata": "{}",
         "name": "males_0age_avg_vote",
         "type": "\"double\""
        },
        {
         "metadata": "{}",
         "name": "males_0age_votes",
         "type": "\"double\""
        },
        {
         "metadata": "{}",
         "name": "males_18age_avg_vote",
         "type": "\"double\""
        },
        {
         "metadata": "{}",
         "name": "males_18age_votes",
         "type": "\"double\""
        },
        {
         "metadata": "{}",
         "name": "males_30age_avg_vote",
         "type": "\"double\""
        },
        {
         "metadata": "{}",
         "name": "males_30age_votes",
         "type": "\"double\""
        },
        {
         "metadata": "{}",
         "name": "males_45age_avg_vote",
         "type": "\"double\""
        },
        {
         "metadata": "{}",
         "name": "males_45age_votes",
         "type": "\"double\""
        },
        {
         "metadata": "{}",
         "name": "females_allages_avg_vote",
         "type": "\"double\""
        },
        {
         "metadata": "{}",
         "name": "females_allages_votes",
         "type": "\"double\""
        },
        {
         "metadata": "{}",
         "name": "females_0age_avg_vote",
         "type": "\"double\""
        },
        {
         "metadata": "{}",
         "name": "females_0age_votes",
         "type": "\"double\""
        },
        {
         "metadata": "{}",
         "name": "females_18age_avg_vote",
         "type": "\"double\""
        },
        {
         "metadata": "{}",
         "name": "females_18age_votes",
         "type": "\"double\""
        },
        {
         "metadata": "{}",
         "name": "females_30age_avg_vote",
         "type": "\"double\""
        },
        {
         "metadata": "{}",
         "name": "females_30age_votes",
         "type": "\"double\""
        },
        {
         "metadata": "{}",
         "name": "females_45age_avg_vote",
         "type": "\"double\""
        },
        {
         "metadata": "{}",
         "name": "females_45age_votes",
         "type": "\"double\""
        },
        {
         "metadata": "{}",
         "name": "top1000_voters_rating",
         "type": "\"double\""
        },
        {
         "metadata": "{}",
         "name": "top1000_voters_votes",
         "type": "\"double\""
        },
        {
         "metadata": "{}",
         "name": "us_voters_rating",
         "type": "\"double\""
        },
        {
         "metadata": "{}",
         "name": "us_voters_votes",
         "type": "\"double\""
        },
        {
         "metadata": "{}",
         "name": "non_us_voters_rating",
         "type": "\"double\""
        },
        {
         "metadata": "{}",
         "name": "non_us_voters_votes",
         "type": "\"double\""
        },
        {
         "metadata": "{}",
         "name": "current_epoch_timestamp",
         "type": "\"long\""
        }
       ],
       "type": "table"
      }
     },
     "output_type": "display_data"
    }
   ],
   "source": [
    "#  Kolumna z wartością czasu wykonania notatnika w formacie epoch\n",
    "ratingsDf = ratingsDf.withColumn(\"current_epoch_timestamp\", unix_timestamp(current_timestamp()))\n",
    "\n",
    "display(ratingsDf.limit(5))"
   ]
  },
  {
   "cell_type": "code",
   "execution_count": 0,
   "metadata": {
    "application/vnd.databricks.v1+cell": {
     "cellMetadata": {
      "byteLimit": 2048000,
      "rowLimit": 10000
     },
     "inputWidgets": {},
     "nuid": "61991569-f294-499b-81c3-e73d1d032a17",
     "showTitle": false,
     "tableResultSettingsMap": {},
     "title": ""
    }
   },
   "outputs": [
    {
     "output_type": "stream",
     "name": "stdout",
     "output_type": "stream",
     "text": [
      "kobiety lepiej oceniaja\n"
     ]
    }
   ],
   "source": [
    "# Nie biorę pod uwagę NULL\n",
    "filtered_males_avg_col = ratingsDf.filter((col(\"males_allages_avg_vote\").isNotNull()))\n",
    "mean_male = filtered_males_avg_col.select(avg(col(\"males_allages_avg_vote\")).alias(\"mean_male\")).collect()[0][\"mean_male\"]\n",
    "\n",
    "filtered_females_avg_col = ratingsDf.filter((col(\"females_allages_avg_vote\").isNotNull()))\n",
    "mean_female = filtered_females_avg_col.select(avg(col(\"females_allages_avg_vote\")).alias(\"femean_male\")).collect()[0][\"femean_male\"]\n",
    "\n",
    "# Kto daje lepsze oceny chłopcy czy dziewczyny dla całego setu\n",
    "if mean_male > mean_female:\n",
    "  print(\"mezczyzni lepiej oceniaja\")\n",
    "else:\n",
    "  print(\"kobiety lepiej oceniaja\")"
   ]
  },
  {
   "cell_type": "code",
   "execution_count": 0,
   "metadata": {
    "application/vnd.databricks.v1+cell": {
     "cellMetadata": {
      "byteLimit": 2048000,
      "rowLimit": 10000
     },
     "inputWidgets": {},
     "nuid": "cf2adee8-6908-42af-b40e-a48cbaa91636",
     "showTitle": false,
     "tableResultSettingsMap": {},
     "title": ""
    }
   },
   "outputs": [
    {
     "output_type": "stream",
     "name": "stdout",
     "output_type": "stream",
     "text": [
      "Out[22]: [('imdb_title_id', 'string'),\n ('weighted_average_vote', 'double'),\n ('total_votes', 'bigint'),\n ('mean_vote', 'double'),\n ('median_vote', 'double'),\n ('votes_10', 'int'),\n ('votes_9', 'int'),\n ('votes_8', 'int'),\n ('votes_7', 'int'),\n ('votes_6', 'int'),\n ('votes_5', 'int'),\n ('votes_4', 'int'),\n ('votes_3', 'int'),\n ('votes_2', 'int'),\n ('votes_1', 'int'),\n ('allgenders_0age_avg_vote', 'double'),\n ('allgenders_0age_votes', 'double'),\n ('allgenders_18age_avg_vote', 'double'),\n ('allgenders_18age_votes', 'double'),\n ('allgenders_30age_avg_vote', 'double'),\n ('allgenders_30age_votes', 'double'),\n ('allgenders_45age_avg_vote', 'double'),\n ('allgenders_45age_votes', 'double'),\n ('males_allages_avg_vote', 'double'),\n ('males_allages_votes', 'double'),\n ('males_0age_avg_vote', 'double'),\n ('males_0age_votes', 'double'),\n ('males_18age_avg_vote', 'double'),\n ('males_18age_votes', 'double'),\n ('males_30age_avg_vote', 'double'),\n ('males_30age_votes', 'double'),\n ('males_45age_avg_vote', 'double'),\n ('males_45age_votes', 'double'),\n ('females_allages_avg_vote', 'double'),\n ('females_allages_votes', 'double'),\n ('females_0age_avg_vote', 'double'),\n ('females_0age_votes', 'double'),\n ('females_18age_avg_vote', 'double'),\n ('females_18age_votes', 'double'),\n ('females_30age_avg_vote', 'double'),\n ('females_30age_votes', 'double'),\n ('females_45age_avg_vote', 'double'),\n ('females_45age_votes', 'double'),\n ('top1000_voters_rating', 'double'),\n ('top1000_voters_votes', 'double'),\n ('us_voters_rating', 'double'),\n ('us_voters_votes', 'double'),\n ('non_us_voters_rating', 'double'),\n ('non_us_voters_votes', 'double'),\n ('current_epoch_timestamp', 'bigint')]"
     ]
    }
   ],
   "source": [
    "# Zmieniam typ jednej kolumny do long\n",
    "from pyspark.sql.types import LongType\n",
    "ratingsDf = ratingsDf.dropna().withColumn(\"total_votes\", col(\"total_votes\").cast(LongType()))\n",
    "\n",
    "ratingsDf.dtypes"
   ]
  },
  {
   "cell_type": "markdown",
   "metadata": {
    "application/vnd.databricks.v1+cell": {
     "cellMetadata": {},
     "inputWidgets": {},
     "nuid": "6bef842b-7af1-4bf1-9070-60dccc14604b",
     "showTitle": false,
     "tableResultSettingsMap": {},
     "title": ""
    }
   },
   "source": [
    "# Zadanie 2"
   ]
  },
  {
   "cell_type": "markdown",
   "metadata": {
    "application/vnd.databricks.v1+cell": {
     "cellMetadata": {},
     "inputWidgets": {},
     "nuid": "77de781e-3df5-4c38-89df-44d80e0c6234",
     "showTitle": false,
     "tableResultSettingsMap": {},
     "title": ""
    }
   },
   "source": [
    "Spark UI to narzędzie do monitorowania i debugowania aplikacji Apache Spark. Oferuje kilka zakładek, które dostarczają różnych informacji o wykonywanych zadaniach:\n",
    "\n",
    "- Jobs – pokazuje listę wszystkich zadań (jobs) w aplikacji, ich status (ukończone, w toku, nieudane), czas trwania i szczegółowy podział na etapy (stages). Pozwala analizować wydajność i identyfikować potencjalne wąskie gardła.\n",
    "\n",
    "- Stages – zawiera szczegóły dotyczące poszczególnych etapów (stages) przetwarzania, w tym czas trwania, rozkład zadań (tasks) oraz ich statusy. Można tu także zobaczyć DAG (Directed Acyclic Graph) przedstawiający zależności między operacjami.\n",
    "\n",
    "- Storage – prezentuje informacje o danych przechowywanych w pamięci i na dysku (np. RDD i DataFrames), ich rozmiar oraz partycje w poszczególnych węzłach klastra.\n",
    "\n",
    "- Environment – zawiera szczegółowe informacje o konfiguracji środowiska Spark, w tym zmienne systemowe, ustawienia JVM oraz parametry aplikacji.\n",
    "\n",
    "- Executors – pokazuje listę wykonawców (executors) wraz z informacjami o wykorzystaniu pamięci, liczbie przetworzonych zadań oraz ilości przesłanych danych między węzłami.\n",
    "\n",
    "- SQL/DataFrame – jeśli aplikacja korzysta z Spark SQL, ta zakładka zawiera historię zapytań SQL, ich fizyczne i logiczne plany wykonania oraz statystyki wydajności.\n",
    "\n",
    "- JDBC/ODBC Server - odnosi się do Spark Thrift Server, który umożliwia dostęp do Spark SQL za pomocą interfejsów JDBC (Java Database Connectivity) oraz ODBC (Open Database Connectivity).\n",
    "\n",
    "- Structured Streaming - komponent Apache Spark, który umożliwia przetwarzanie danych strumieniowych w sposób deklaratywny, podobnie jak operacje na statycznych DataFrame'ach.\n",
    "\n",
    "- Connect - Informacje odnośnie aktywnych sesji, ile są polaczone itd.\n",
    "\n",
    "Dzięki Spark UI można analizować efektywność aplikacji, diagnozować błędy oraz optymalizować działanie Spark jobs."
   ]
  },
  {
   "cell_type": "markdown",
   "metadata": {
    "application/vnd.databricks.v1+cell": {
     "cellMetadata": {},
     "inputWidgets": {},
     "nuid": "18bc3ca4-8470-4430-a277-78178a643641",
     "showTitle": false,
     "tableResultSettingsMap": {},
     "title": ""
    }
   },
   "source": [
    "# Zadanie 3"
   ]
  },
  {
   "cell_type": "code",
   "execution_count": 0,
   "metadata": {
    "application/vnd.databricks.v1+cell": {
     "cellMetadata": {
      "byteLimit": 2048000,
      "rowLimit": 10000
     },
     "inputWidgets": {},
     "nuid": "226e6312-cd4a-4680-a27e-b7e8ad37362e",
     "showTitle": false,
     "tableResultSettingsMap": {},
     "title": ""
    }
   },
   "outputs": [
    {
     "output_type": "stream",
     "name": "stdout",
     "output_type": "stream",
     "text": [
      "== Physical Plan ==\n* Project (3)\n+- * Filter (2)\n   +- Scan csv  (1)\n\n\n(1) Scan csv \nOutput [22]: [imdb_title_id#629, title#630, original_title#631, year#632, date_published#633, genre#634, duration#635, country#636, language#637, director#638, writer#639, production_company#640, actors#641, description#642, avg_vote#643, votes#644, budget#645, usa_gross_income#646, worlwide_gross_income#647, metascore#648, reviews_from_users#649, reviews_from_critics#650]\nBatched: false\nLocation: InMemoryFileIndex [dbfs:/FileStore/tables/Files/movies.csv]\nReadSchema: struct<imdb_title_id:string,title:string,original_title:string,year:string,date_published:string,genre:string,duration:int,country:string,language:string,director:string,writer:string,production_company:string,actors:string,description:string,avg_vote:string,votes:int,budget:string,usa_gross_income:string,worlwide_gross_income:string,metascore:double,reviews_from_users:double,reviews_from_critics:double>\n\n(2) Filter [codegen id : 1]\nInput [22]: [imdb_title_id#629, title#630, original_title#631, year#632, date_published#633, genre#634, duration#635, country#636, language#637, director#638, writer#639, production_company#640, actors#641, description#642, avg_vote#643, votes#644, budget#645, usa_gross_income#646, worlwide_gross_income#647, metascore#648, reviews_from_users#649, reviews_from_critics#650]\nCondition : atleastnnonnulls(23, imdb_title_id#629, title#630, original_title#631, year#632, date_published#633, genre#634, duration#635, country#636, language#637, director#638, writer#639, production_company#640, actors#641, description#642, avg_vote#643, votes#644, cast(split(budget#645,  , 3)[1] as int), usa_gross_income#646, worlwide_gross_income#647, metascore#648, reviews_from_users#649, reviews_from_critics#650, (2025.0 - cast(year#632 as double)))\n\n(3) Project [codegen id : 1]\nOutput [24]: [imdb_title_id#629, title#630, original_title#631, year#632, date_published#633, genre#634, duration#635, country#636, language#637, director#638, writer#639, production_company#640, actors#641, description#642, avg_vote#643, votes#644, cast(split(budget#645,  , 3)[1] as int) AS budget#1028, usa_gross_income#646, worlwide_gross_income#647, metascore#648, reviews_from_users#649, reviews_from_critics#650, 1744115969 AS current_epoch_timestamp#839L, (2025.0 - cast(year#632 as double)) AS years_elapsed#932]\nInput [22]: [imdb_title_id#629, title#630, original_title#631, year#632, date_published#633, genre#634, duration#635, country#636, language#637, director#638, writer#639, production_company#640, actors#641, description#642, avg_vote#643, votes#644, budget#645, usa_gross_income#646, worlwide_gross_income#647, metascore#648, reviews_from_users#649, reviews_from_critics#650]\n\n\n"
     ]
    }
   ],
   "source": [
    "# PRZED GROUPBY\n",
    "moviesDf.explain(mode=\"formatted\")"
   ]
  },
  {
   "cell_type": "code",
   "execution_count": 0,
   "metadata": {
    "application/vnd.databricks.v1+cell": {
     "cellMetadata": {
      "byteLimit": 2048000,
      "rowLimit": 10000
     },
     "inputWidgets": {},
     "nuid": "eecd3c3a-44a9-441f-a676-07bf037a5cb6",
     "showTitle": false,
     "tableResultSettingsMap": {},
     "title": ""
    }
   },
   "outputs": [
    {
     "output_type": "stream",
     "name": "stdout",
     "output_type": "stream",
     "text": [
      "== Physical Plan ==\nAdaptiveSparkPlan (7)\n+- HashAggregate (6)\n   +- Exchange (5)\n      +- HashAggregate (4)\n         +- Project (3)\n            +- Filter (2)\n               +- Scan csv  (1)\n\n\n(1) Scan csv \nOutput [22]: [imdb_title_id#629, title#630, original_title#631, year#632, date_published#633, genre#634, duration#635, country#636, language#637, director#638, writer#639, production_company#640, actors#641, description#642, avg_vote#643, votes#644, budget#645, usa_gross_income#646, worlwide_gross_income#647, metascore#648, reviews_from_users#649, reviews_from_critics#650]\nBatched: false\nLocation: InMemoryFileIndex [dbfs:/FileStore/tables/Files/movies.csv]\nReadSchema: struct<imdb_title_id:string,title:string,original_title:string,year:string,date_published:string,genre:string,duration:int,country:string,language:string,director:string,writer:string,production_company:string,actors:string,description:string,avg_vote:string,votes:int,budget:string,usa_gross_income:string,worlwide_gross_income:string,metascore:double,reviews_from_users:double,reviews_from_critics:double>\n\n(2) Filter\nInput [22]: [imdb_title_id#629, title#630, original_title#631, year#632, date_published#633, genre#634, duration#635, country#636, language#637, director#638, writer#639, production_company#640, actors#641, description#642, avg_vote#643, votes#644, budget#645, usa_gross_income#646, worlwide_gross_income#647, metascore#648, reviews_from_users#649, reviews_from_critics#650]\nCondition : atleastnnonnulls(23, imdb_title_id#629, title#630, original_title#631, year#632, date_published#633, genre#634, duration#635, country#636, language#637, director#638, writer#639, production_company#640, actors#641, description#642, avg_vote#643, votes#644, cast(split(budget#645,  , 3)[1] as int), usa_gross_income#646, worlwide_gross_income#647, metascore#648, reviews_from_users#649, reviews_from_critics#650, (2025.0 - cast(year#632 as double)))\n\n(3) Project\nOutput [2]: [year#632, duration#635]\nInput [22]: [imdb_title_id#629, title#630, original_title#631, year#632, date_published#633, genre#634, duration#635, country#636, language#637, director#638, writer#639, production_company#640, actors#641, description#642, avg_vote#643, votes#644, budget#645, usa_gross_income#646, worlwide_gross_income#647, metascore#648, reviews_from_users#649, reviews_from_critics#650]\n\n(4) HashAggregate\nInput [2]: [year#632, duration#635]\nKeys [1]: [year#632]\nFunctions [1]: [partial_sum(duration#635) AS sum#2368L]\nAggregate Attributes [1]: [sum#2367L]\nResults [2]: [year#632, sum#2368L]\n\n(5) Exchange\nInput [2]: [year#632, sum#2368L]\nArguments: hashpartitioning(year#632, 200), ENSURE_REQUIREMENTS, [plan_id=649]\n\n(6) HashAggregate\nInput [2]: [year#632, sum#2368L]\nKeys [1]: [year#632]\nFunctions [1]: [finalmerge_sum(merge sum#2368L) AS sum(duration#635)#2363L]\nAggregate Attributes [1]: [sum(duration#635)#2363L]\nResults [2]: [year#632, sum(duration#635)#2363L AS sum(duration)#2364L]\n\n(7) AdaptiveSparkPlan\nOutput [2]: [year#632, sum(duration)#2364L]\nArguments: isFinalPlan=false\n\n\n"
     ]
    }
   ],
   "source": [
    "# PO GROUPBY \n",
    "df_grouped = moviesDf.groupBy(\"year\").agg(sum(\"duration\"))\n",
    "display(df_grouped.explain(mode=\"formatted\"))"
   ]
  },
  {
   "cell_type": "markdown",
   "metadata": {
    "application/vnd.databricks.v1+cell": {
     "cellMetadata": {},
     "inputWidgets": {},
     "nuid": "d564ab45-8cbb-43bd-90b1-fa96d6116151",
     "showTitle": false,
     "tableResultSettingsMap": {},
     "title": ""
    }
   },
   "source": [
    "Podczas operacji groupBy mamy dodatkowe kroki: HashAggregate, Exchange oraz AdaptiveSparkPlan."
   ]
  }
 ],
 "metadata": {
  "application/vnd.databricks.v1+notebook": {
   "computePreferences": null,
   "dashboards": [],
   "environmentMetadata": null,
   "inputWidgetPreferences": null,
   "language": "python",
   "notebookMetadata": {
    "pythonIndentUnit": 2
   },
   "notebookName": "Cwiczenia 3",
   "widgets": {}
  }
 },
 "nbformat": 4,
 "nbformat_minor": 0
}