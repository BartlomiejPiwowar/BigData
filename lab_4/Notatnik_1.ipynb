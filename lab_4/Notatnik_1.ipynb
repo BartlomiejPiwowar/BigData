{
 "cells": [
  {
   "cell_type": "markdown",
   "metadata": {
    "application/vnd.databricks.v1+cell": {
     "cellMetadata": {},
     "inputWidgets": {},
     "nuid": "383c3061-7015-469e-a563-df6269074135",
     "showTitle": false,
     "tableResultSettingsMap": {},
     "title": ""
    }
   },
   "source": [
    "### Ładuję dane Movies"
   ]
  },
  {
   "cell_type": "code",
   "execution_count": 0,
   "metadata": {
    "application/vnd.databricks.v1+cell": {
     "cellMetadata": {
      "byteLimit": 2048000,
      "rowLimit": 10000
     },
     "inputWidgets": {},
     "nuid": "c8cec85a-9453-44b2-815a-db14bec3fa54",
     "showTitle": false,
     "tableResultSettingsMap": {},
     "title": ""
    }
   },
   "outputs": [
    {
     "output_type": "stream",
     "name": "stdout",
     "output_type": "stream",
     "text": [
      "root\n |-- imdb_title_id: string (nullable = true)\n |-- title: string (nullable = true)\n |-- original_title: string (nullable = true)\n |-- year: string (nullable = true)\n |-- date_published: string (nullable = true)\n |-- genre: string (nullable = true)\n |-- duration: integer (nullable = true)\n |-- country: string (nullable = true)\n |-- language: string (nullable = true)\n |-- director: string (nullable = true)\n |-- writer: string (nullable = true)\n |-- production_company: string (nullable = true)\n |-- actors: string (nullable = true)\n |-- description: string (nullable = true)\n |-- avg_vote: string (nullable = true)\n |-- votes: integer (nullable = true)\n |-- budget: string (nullable = true)\n |-- usa_gross_income: string (nullable = true)\n |-- worlwide_gross_income: string (nullable = true)\n |-- metascore: double (nullable = true)\n |-- reviews_from_users: double (nullable = true)\n |-- reviews_from_critics: double (nullable = true)\n\n"
     ]
    },
    {
     "output_type": "display_data",
     "data": {
      "text/html": [
       "<style scoped>\n",
       "  .table-result-container {\n",
       "    max-height: 300px;\n",
       "    overflow: auto;\n",
       "  }\n",
       "  table, th, td {\n",
       "    border: 1px solid black;\n",
       "    border-collapse: collapse;\n",
       "  }\n",
       "  th, td {\n",
       "    padding: 5px;\n",
       "  }\n",
       "  th {\n",
       "    text-align: left;\n",
       "  }\n",
       "</style><div class='table-result-container'><table class='table-result'><thead style='background-color: white'><tr><th>imdb_title_id</th><th>title</th><th>original_title</th><th>year</th><th>date_published</th><th>genre</th><th>duration</th><th>country</th><th>language</th><th>director</th><th>writer</th><th>production_company</th><th>actors</th><th>description</th><th>avg_vote</th><th>votes</th><th>budget</th><th>usa_gross_income</th><th>worlwide_gross_income</th><th>metascore</th><th>reviews_from_users</th><th>reviews_from_critics</th></tr></thead><tbody><tr><td>tt0000009</td><td>Miss Jerry</td><td>Miss Jerry</td><td>1894</td><td>1894-10-09</td><td>Romance</td><td>45</td><td>USA</td><td>None</td><td>Alexander Black</td><td>Alexander Black</td><td>Alexander Black Photoplays</td><td>Blanche Bayliss, William Courtenay, Chauncey Depew</td><td>The adventures of a female reporter in the 1890s.</td><td>05.wrz</td><td>154</td><td>null</td><td>null</td><td>null</td><td>null</td><td>1.0</td><td>2.0</td></tr><tr><td>tt0000574</td><td>The Story of the Kelly Gang</td><td>The Story of the Kelly Gang</td><td>1906</td><td>26.12.1906</td><td>Biography, Crime, Drama</td><td>70</td><td>Australia</td><td>None</td><td>Charles Tait</td><td>Charles Tait</td><td>J. and N. Tait</td><td>Elizabeth Tait, John Tait, Norman Campbell, Bella Cola, Will Coyne, Sam Crewes, Jack Ennis, John Forde, Vera Linden, Mr. Marshall, Mr. McKenzie, Frank Mills, Ollie Wilson</td><td>True story of notorious Australian outlaw Ned Kelly (1855-80).</td><td>06.sty</td><td>589</td><td>$ 2250</td><td>null</td><td>null</td><td>null</td><td>7.0</td><td>7.0</td></tr><tr><td>tt0001892</td><td>Den sorte drøm</td><td>Den sorte drøm</td><td>1911</td><td>19.08.1911</td><td>Drama</td><td>53</td><td>Germany, Denmark</td><td>null</td><td>Urban Gad</td><td>Urban Gad, Gebhard Schätzler-Perasini</td><td>Fotorama</td><td>Asta Nielsen, Valdemar Psilander, Gunnar Helsengreen, Emil Albes, Hugo Flink, Mary Hagen</td><td>Two men of high rank are both wooing the beautiful and famous equestrian acrobat Stella. While Stella ignores the jeweler Hirsch, she accepts Count von Waldberg's offer to follow her home, ...</td><td>05.sie</td><td>188</td><td>null</td><td>null</td><td>null</td><td>null</td><td>5.0</td><td>2.0</td></tr><tr><td>tt0002101</td><td>Cleopatra</td><td>Cleopatra</td><td>1912</td><td>13.11.1912</td><td>Drama, History</td><td>100</td><td>USA</td><td>English</td><td>Charles L. Gaskill</td><td>Victorien Sardou</td><td>Helen Gardner Picture Players</td><td>Helen Gardner, Pearl Sindelar, Miss Fielding, Miss Robson, Helene Costello, Charles Sindelar, Mr. Howard, James R. Waite, Mr. Osborne, Harry Knowles, Mr. Paul, Mr. Brady, Mr. Corker</td><td>The fabled queen of Egypt's affair with Roman general Marc Antony is ultimately disastrous for both of them.</td><td>05.lut</td><td>446</td><td>$ 45000</td><td>null</td><td>null</td><td>null</td><td>25.0</td><td>3.0</td></tr><tr><td>tt0002130</td><td>L'Inferno</td><td>L'Inferno</td><td>1911</td><td>06.03.1911</td><td>Adventure, Drama, Fantasy</td><td>68</td><td>Italy</td><td>Italian</td><td>Francesco Bertolini, Adolfo Padovan</td><td>Dante Alighieri</td><td>Milano Film</td><td>Salvatore Papa, Arturo Pirovano, Giuseppe de Liguoro, Pier Delle Vigne, Augusto Milla, Attilio Motta, Emilise Beretta</td><td>Loosely adapted from Dante's Divine Comedy and inspired by the illustrations of Gustav Doré the original silent film has been restored and has a new score by Tangerine Dream.</td><td>7.0</td><td>2237</td><td>null</td><td>null</td><td>null</td><td>null</td><td>31.0</td><td>14.0</td></tr></tbody></table></div>"
      ]
     },
     "metadata": {
      "application/vnd.databricks.v1+output": {
       "addedWidgets": {},
       "aggData": [],
       "aggError": "",
       "aggOverflow": false,
       "aggSchema": [],
       "aggSeriesLimitReached": false,
       "aggType": "",
       "arguments": {},
       "columnCustomDisplayInfos": {},
       "data": [
        [
         "tt0000009",
         "Miss Jerry",
         "Miss Jerry",
         "1894",
         "1894-10-09",
         "Romance",
         45,
         "USA",
         "None",
         "Alexander Black",
         "Alexander Black",
         "Alexander Black Photoplays",
         "Blanche Bayliss, William Courtenay, Chauncey Depew",
         "The adventures of a female reporter in the 1890s.",
         "05.wrz",
         154,
         null,
         null,
         null,
         null,
         1.0,
         2.0
        ],
        [
         "tt0000574",
         "The Story of the Kelly Gang",
         "The Story of the Kelly Gang",
         "1906",
         "26.12.1906",
         "Biography, Crime, Drama",
         70,
         "Australia",
         "None",
         "Charles Tait",
         "Charles Tait",
         "J. and N. Tait",
         "Elizabeth Tait, John Tait, Norman Campbell, Bella Cola, Will Coyne, Sam Crewes, Jack Ennis, John Forde, Vera Linden, Mr. Marshall, Mr. McKenzie, Frank Mills, Ollie Wilson",
         "True story of notorious Australian outlaw Ned Kelly (1855-80).",
         "06.sty",
         589,
         "$ 2250",
         null,
         null,
         null,
         7.0,
         7.0
        ],
        [
         "tt0001892",
         "Den sorte drøm",
         "Den sorte drøm",
         "1911",
         "19.08.1911",
         "Drama",
         53,
         "Germany, Denmark",
         null,
         "Urban Gad",
         "Urban Gad, Gebhard Schätzler-Perasini",
         "Fotorama",
         "Asta Nielsen, Valdemar Psilander, Gunnar Helsengreen, Emil Albes, Hugo Flink, Mary Hagen",
         "Two men of high rank are both wooing the beautiful and famous equestrian acrobat Stella. While Stella ignores the jeweler Hirsch, she accepts Count von Waldberg's offer to follow her home, ...",
         "05.sie",
         188,
         null,
         null,
         null,
         null,
         5.0,
         2.0
        ],
        [
         "tt0002101",
         "Cleopatra",
         "Cleopatra",
         "1912",
         "13.11.1912",
         "Drama, History",
         100,
         "USA",
         "English",
         "Charles L. Gaskill",
         "Victorien Sardou",
         "Helen Gardner Picture Players",
         "Helen Gardner, Pearl Sindelar, Miss Fielding, Miss Robson, Helene Costello, Charles Sindelar, Mr. Howard, James R. Waite, Mr. Osborne, Harry Knowles, Mr. Paul, Mr. Brady, Mr. Corker",
         "The fabled queen of Egypt's affair with Roman general Marc Antony is ultimately disastrous for both of them.",
         "05.lut",
         446,
         "$ 45000",
         null,
         null,
         null,
         25.0,
         3.0
        ],
        [
         "tt0002130",
         "L'Inferno",
         "L'Inferno",
         "1911",
         "06.03.1911",
         "Adventure, Drama, Fantasy",
         68,
         "Italy",
         "Italian",
         "Francesco Bertolini, Adolfo Padovan",
         "Dante Alighieri",
         "Milano Film",
         "Salvatore Papa, Arturo Pirovano, Giuseppe de Liguoro, Pier Delle Vigne, Augusto Milla, Attilio Motta, Emilise Beretta",
         "Loosely adapted from Dante's Divine Comedy and inspired by the illustrations of Gustav Doré the original silent film has been restored and has a new score by Tangerine Dream.",
         "7.0",
         2237,
         null,
         null,
         null,
         null,
         31.0,
         14.0
        ]
       ],
       "datasetInfos": [],
       "dbfsResultPath": null,
       "isJsonSchema": true,
       "metadata": {},
       "overflow": false,
       "plotOptions": {
        "customPlotOptions": {},
        "displayType": "table",
        "pivotAggregation": null,
        "pivotColumns": null,
        "xColumns": null,
        "yColumns": null
       },
       "removedWidgets": [],
       "schema": [
        {
         "metadata": "{}",
         "name": "imdb_title_id",
         "type": "\"string\""
        },
        {
         "metadata": "{}",
         "name": "title",
         "type": "\"string\""
        },
        {
         "metadata": "{}",
         "name": "original_title",
         "type": "\"string\""
        },
        {
         "metadata": "{}",
         "name": "year",
         "type": "\"string\""
        },
        {
         "metadata": "{}",
         "name": "date_published",
         "type": "\"string\""
        },
        {
         "metadata": "{}",
         "name": "genre",
         "type": "\"string\""
        },
        {
         "metadata": "{}",
         "name": "duration",
         "type": "\"integer\""
        },
        {
         "metadata": "{}",
         "name": "country",
         "type": "\"string\""
        },
        {
         "metadata": "{}",
         "name": "language",
         "type": "\"string\""
        },
        {
         "metadata": "{}",
         "name": "director",
         "type": "\"string\""
        },
        {
         "metadata": "{}",
         "name": "writer",
         "type": "\"string\""
        },
        {
         "metadata": "{}",
         "name": "production_company",
         "type": "\"string\""
        },
        {
         "metadata": "{}",
         "name": "actors",
         "type": "\"string\""
        },
        {
         "metadata": "{}",
         "name": "description",
         "type": "\"string\""
        },
        {
         "metadata": "{}",
         "name": "avg_vote",
         "type": "\"string\""
        },
        {
         "metadata": "{}",
         "name": "votes",
         "type": "\"integer\""
        },
        {
         "metadata": "{}",
         "name": "budget",
         "type": "\"string\""
        },
        {
         "metadata": "{}",
         "name": "usa_gross_income",
         "type": "\"string\""
        },
        {
         "metadata": "{}",
         "name": "worlwide_gross_income",
         "type": "\"string\""
        },
        {
         "metadata": "{}",
         "name": "metascore",
         "type": "\"double\""
        },
        {
         "metadata": "{}",
         "name": "reviews_from_users",
         "type": "\"double\""
        },
        {
         "metadata": "{}",
         "name": "reviews_from_critics",
         "type": "\"double\""
        }
       ],
       "type": "table"
      }
     },
     "output_type": "display_data"
    }
   ],
   "source": [
    "from pyspark.sql.functions import *\n",
    "\n",
    "moviesDf = spark.read.format(\"csv\") \\\n",
    "              .option(\"header\", \"true\") \\\n",
    "              .option(\"inferSchema\", \"true\") \\\n",
    "              .load(\"dbfs:/FileStore/tables/Files/movies.csv\")\n",
    "\n",
    "moviesDf.printSchema()\n",
    "display(moviesDf.limit(5))"
   ]
  },
  {
   "cell_type": "markdown",
   "metadata": {
    "application/vnd.databricks.v1+cell": {
     "cellMetadata": {
      "byteLimit": 2048000,
      "rowLimit": 10000
     },
     "inputWidgets": {},
     "nuid": "f34be5c4-1df2-4efb-8cce-b26c9c9be6bc",
     "showTitle": false,
     "tableResultSettingsMap": {},
     "title": ""
    }
   },
   "source": [
    "### Zadanie 1\n",
    "- Użyj poniższe funkcje Nulls, fill, explode, drop, regexp_replace, regexp_extract, ifnull, nullIf, replace, array_contains.\n",
    "- Użyj 3 funkcji agregujących (które według Ciebie są najciekawsze)."
   ]
  },
  {
   "cell_type": "code",
   "execution_count": 0,
   "metadata": {
    "application/vnd.databricks.v1+cell": {
     "cellMetadata": {
      "byteLimit": 2048000,
      "rowLimit": 10000
     },
     "inputWidgets": {},
     "nuid": "c0b92f2b-73c3-4c34-b7e5-9fd183f82757",
     "showTitle": false,
     "tableResultSettingsMap": {},
     "title": ""
    }
   },
   "outputs": [],
   "source": [
    "from pyspark.sql.functions import col, expr, regexp_replace, regexp_extract, when, array_contains, explode, avg, count, sum\n",
    "\n",
    "# fill\n",
    "moviesDf = moviesDf.na.fill({\"language\": \"Brak danych\"})\n",
    "\n",
    "# explode\n",
    "moviesDf = moviesDf.withColumn(\"title\", explode(expr(\"split(title, ' ')\"))) \n",
    "\n",
    "# drop\n",
    "moviesDf = moviesDf.drop(\"metascore\")\n",
    "\n",
    "# regexp_replace\n",
    "moviesDf = moviesDf.withColumn(\"clean_budget\", regexp_replace(\"budget\", \"[$,]\", \"\").cast(\"double\"))\n",
    "\n",
    "# regexp_extract\n",
    "moviesDf = moviesDf.withColumn(\"regexp_extract\", regexp_extract(col(\"actors\"), \"(\\d+)\", 1).cast(\"int\"))\n",
    "\n",
    "# coalesce (ifnull niedostępny)\n",
    "moviesDf = moviesDf.withColumn(\"director\", coalesce(col(\"director\"), lit(\"Brak danych\")))\n",
    "\n",
    "# when (nullif niedostępny)\n",
    "moviesDf = moviesDf.withColumn(\"votes\", when(trim(col(\"votes\")) == \"Brak danych\", None).otherwise(col(\"votes\")))\n",
    "\n",
    "# replace\n",
    "moviesDf = moviesDf.withColumn(\"landmark\", regexp_replace(col(\"country\"), \"Italy\", \"Włochy\"))"
   ]
  },
  {
   "cell_type": "code",
   "execution_count": 0,
   "metadata": {
    "application/vnd.databricks.v1+cell": {
     "cellMetadata": {
      "byteLimit": 2048000,
      "rowLimit": 10000
     },
     "inputWidgets": {},
     "nuid": "8deefa74-e57c-4caf-913b-588690f4cbed",
     "showTitle": false,
     "tableResultSettingsMap": {},
     "title": ""
    }
   },
   "outputs": [
    {
     "output_type": "display_data",
     "data": {
      "text/html": [
       "<style scoped>\n",
       "  .table-result-container {\n",
       "    max-height: 300px;\n",
       "    overflow: auto;\n",
       "  }\n",
       "  table, th, td {\n",
       "    border: 1px solid black;\n",
       "    border-collapse: collapse;\n",
       "  }\n",
       "  th, td {\n",
       "    padding: 5px;\n",
       "  }\n",
       "  th {\n",
       "    text-align: left;\n",
       "  }\n",
       "</style><div class='table-result-container'><table class='table-result'><thead style='background-color: white'><tr><th>country</th><th>liczba_review</th><th>suma_czasu_trwania_filmu</th><th>srednia_dlugosc_filmu</th></tr></thead><tbody><tr><td>UK, Spain</td><td>85</td><td>8319</td><td>97.87058823529412</td></tr><tr><td>India, Germany</td><td>7</td><td>835</td><td>119.28571428571429</td></tr><tr><td>USA, France, UK</td><td>20</td><td>2061</td><td>103.05</td></tr><tr><td>Russia</td><td>1150</td><td>181375</td><td>98.25297941495124</td></tr><tr><td>UK, France</td><td>260</td><td>26999</td><td>103.04961832061069</td></tr><tr><td>West Germany, USA</td><td>88</td><td>8857</td><td>100.64772727272727</td></tr><tr><td>France, Italy, East Germany</td><td>2</td><td>420</td><td>210.0</td></tr><tr><td>Greece, France, USA</td><td>1</td><td>115</td><td>115.0</td></tr><tr><td>USA, Japan</td><td>314</td><td>32679</td><td>102.44200626959248</td></tr><tr><td>Italy, France, Germany</td><td>24</td><td>3189</td><td>106.3</td></tr><tr><td>India, USA</td><td>83</td><td>9075</td><td>109.33734939759036</td></tr><tr><td>Austria, Yugoslavia</td><td>9</td><td>848</td><td>94.22222222222223</td></tr><tr><td>Italy, Spain, France</td><td>49</td><td>5351</td><td>102.90384615384616</td></tr><tr><td>Spain, Italy, USA</td><td>10</td><td>1020</td><td>102.0</td></tr><tr><td>West Germany, Spain, Italy</td><td>9</td><td>800</td><td>88.88888888888889</td></tr><tr><td>Sweden</td><td>1447</td><td>170066</td><td>96.79339783722254</td></tr><tr><td>East Germany, Bulgaria</td><td>4</td><td>364</td><td>91.0</td></tr><tr><td>USA, Sweden</td><td>26</td><td>2704</td><td>104.0</td></tr><tr><td>France, Belgium</td><td>1002</td><td>107202</td><td>98.44077134986226</td></tr><tr><td>Italy, West Germany, Monaco</td><td>6</td><td>482</td><td>80.33333333333333</td></tr></tbody></table></div>"
      ]
     },
     "metadata": {
      "application/vnd.databricks.v1+output": {
       "addedWidgets": {},
       "aggData": [],
       "aggError": "",
       "aggOverflow": false,
       "aggSchema": [],
       "aggSeriesLimitReached": false,
       "aggType": "",
       "arguments": {},
       "columnCustomDisplayInfos": {},
       "data": [
        [
         "UK, Spain",
         85,
         8319,
         97.87058823529412
        ],
        [
         "India, Germany",
         7,
         835,
         119.28571428571429
        ],
        [
         "USA, France, UK",
         20,
         2061,
         103.05
        ],
        [
         "Russia",
         1150,
         181375,
         98.25297941495124
        ],
        [
         "UK, France",
         260,
         26999,
         103.04961832061069
        ],
        [
         "West Germany, USA",
         88,
         8857,
         100.64772727272727
        ],
        [
         "France, Italy, East Germany",
         2,
         420,
         210.0
        ],
        [
         "Greece, France, USA",
         1,
         115,
         115.0
        ],
        [
         "USA, Japan",
         314,
         32679,
         102.44200626959248
        ],
        [
         "Italy, France, Germany",
         24,
         3189,
         106.3
        ],
        [
         "India, USA",
         83,
         9075,
         109.33734939759036
        ],
        [
         "Austria, Yugoslavia",
         9,
         848,
         94.22222222222223
        ],
        [
         "Italy, Spain, France",
         49,
         5351,
         102.90384615384616
        ],
        [
         "Spain, Italy, USA",
         10,
         1020,
         102.0
        ],
        [
         "West Germany, Spain, Italy",
         9,
         800,
         88.88888888888889
        ],
        [
         "Sweden",
         1447,
         170066,
         96.79339783722254
        ],
        [
         "East Germany, Bulgaria",
         4,
         364,
         91.0
        ],
        [
         "USA, Sweden",
         26,
         2704,
         104.0
        ],
        [
         "France, Belgium",
         1002,
         107202,
         98.44077134986226
        ],
        [
         "Italy, West Germany, Monaco",
         6,
         482,
         80.33333333333333
        ]
       ],
       "datasetInfos": [],
       "dbfsResultPath": null,
       "isJsonSchema": true,
       "metadata": {},
       "overflow": false,
       "plotOptions": {
        "customPlotOptions": {},
        "displayType": "table",
        "pivotAggregation": null,
        "pivotColumns": null,
        "xColumns": null,
        "yColumns": null
       },
       "removedWidgets": [],
       "schema": [
        {
         "metadata": "{}",
         "name": "country",
         "type": "\"string\""
        },
        {
         "metadata": "{}",
         "name": "liczba_review",
         "type": "\"long\""
        },
        {
         "metadata": "{}",
         "name": "suma_czasu_trwania_filmu",
         "type": "\"long\""
        },
        {
         "metadata": "{}",
         "name": "srednia_dlugosc_filmu",
         "type": "\"double\""
        }
       ],
       "type": "table"
      }
     },
     "output_type": "display_data"
    }
   ],
   "source": [
    "# Funkcje agregujące\n",
    "df2 = moviesDf.groupBy(\"country\").agg(\n",
    "    count(\"reviews_from_users\").alias(\"liczba_review\"),\n",
    "    sum(\"duration\").alias(\"suma_czasu_trwania_filmow\"),\n",
    "    avg(\"duration\").alias(\"srednia_dlugosc_filmow\")\n",
    ") \n",
    "display(df2.limit(20))"
   ]
  },
  {
   "cell_type": "markdown",
   "metadata": {
    "application/vnd.databricks.v1+cell": {
     "cellMetadata": {},
     "inputWidgets": {},
     "nuid": "72c4a30d-740f-408e-a9dc-8b75e28d3164",
     "showTitle": false,
     "tableResultSettingsMap": {},
     "title": ""
    }
   },
   "source": [
    "### Zadanie 2\n",
    "- Stwórz 2 funkcje UDF do wybranego zestawu danych, wymyśl co mają robić w kontekście wybranych danych. Jedna funkcja z dekoratorem @pandas_udf druga standardowa.\n",
    "  - a.\tJedna funkcja działające na typach liczbowych: int, double \n",
    "  - b.\tJedna funkcja na string"
   ]
  },
  {
   "cell_type": "code",
   "execution_count": 0,
   "metadata": {
    "application/vnd.databricks.v1+cell": {
     "cellMetadata": {
      "byteLimit": 2048000,
      "rowLimit": 10000
     },
     "inputWidgets": {},
     "nuid": "78c84c36-5b05-405d-82ba-a6e5b43a1feb",
     "showTitle": false,
     "tableResultSettingsMap": {},
     "title": ""
    }
   },
   "outputs": [
    {
     "output_type": "display_data",
     "data": {
      "text/html": [
       "<style scoped>\n",
       "  .table-result-container {\n",
       "    max-height: 300px;\n",
       "    overflow: auto;\n",
       "  }\n",
       "  table, th, td {\n",
       "    border: 1px solid black;\n",
       "    border-collapse: collapse;\n",
       "  }\n",
       "  th, td {\n",
       "    padding: 5px;\n",
       "  }\n",
       "  th {\n",
       "    text-align: left;\n",
       "  }\n",
       "</style><div class='table-result-container'><table class='table-result'><thead style='background-color: white'><tr><th>title</th><th>clean_budget</th><th>budget_category</th></tr></thead><tbody><tr><td>Miss</td><td>null</td><td>Unknown</td></tr><tr><td>Jerry</td><td>null</td><td>Unknown</td></tr><tr><td>The</td><td>2250.0</td><td>Medium</td></tr><tr><td>Story</td><td>2250.0</td><td>Medium</td></tr><tr><td>of</td><td>2250.0</td><td>Medium</td></tr><tr><td>the</td><td>2250.0</td><td>Medium</td></tr><tr><td>Kelly</td><td>2250.0</td><td>Medium</td></tr><tr><td>Gang</td><td>2250.0</td><td>Medium</td></tr><tr><td>Den</td><td>null</td><td>Unknown</td></tr><tr><td>sorte</td><td>null</td><td>Unknown</td></tr></tbody></table></div>"
      ]
     },
     "metadata": {
      "application/vnd.databricks.v1+output": {
       "addedWidgets": {},
       "aggData": [],
       "aggError": "",
       "aggOverflow": false,
       "aggSchema": [],
       "aggSeriesLimitReached": false,
       "aggType": "",
       "arguments": {},
       "columnCustomDisplayInfos": {},
       "data": [
        [
         "Miss",
         null,
         "Unknown"
        ],
        [
         "Jerry",
         null,
         "Unknown"
        ],
        [
         "The",
         2250.0,
         "Medium"
        ],
        [
         "Story",
         2250.0,
         "Medium"
        ],
        [
         "of",
         2250.0,
         "Medium"
        ],
        [
         "the",
         2250.0,
         "Medium"
        ],
        [
         "Kelly",
         2250.0,
         "Medium"
        ],
        [
         "Gang",
         2250.0,
         "Medium"
        ],
        [
         "Den",
         null,
         "Unknown"
        ],
        [
         "sorte",
         null,
         "Unknown"
        ]
       ],
       "datasetInfos": [],
       "dbfsResultPath": null,
       "isJsonSchema": true,
       "metadata": {},
       "overflow": false,
       "plotOptions": {
        "customPlotOptions": {},
        "displayType": "table",
        "pivotAggregation": null,
        "pivotColumns": null,
        "xColumns": null,
        "yColumns": null
       },
       "removedWidgets": [],
       "schema": [
        {
         "metadata": "{}",
         "name": "title",
         "type": "\"string\""
        },
        {
         "metadata": "{}",
         "name": "clean_budget",
         "type": "\"double\""
        },
        {
         "metadata": "{}",
         "name": "budget_category",
         "type": "\"string\""
        }
       ],
       "type": "table"
      }
     },
     "output_type": "display_data"
    }
   ],
   "source": [
    "#funkcja czy budzet filmu przekracza 10k\n",
    "from pyspark.sql.functions import udf\n",
    "from pyspark.sql.types import StringType\n",
    "\n",
    "#działa na double (budget) i zwraca tekst\n",
    "def budget_category(budget):\n",
    "    if budget is None:\n",
    "        return \"Unknown\"\n",
    "    elif budget > 10_000:\n",
    "        return \"High\"\n",
    "    elif budget > 2_000:\n",
    "        return \"Medium\"\n",
    "    else:\n",
    "        return \"Low\"\n",
    "\n",
    "budget_category_udf = udf(budget_category, StringType())\n",
    "\n",
    "moviesDf = moviesDf.withColumn(\"budget_category\", budget_category_udf(col(\"clean_budget\")))\n",
    "display(moviesDf.select(\"title\", \"clean_budget\", \"budget_category\").limit(10))"
   ]
  },
  {
   "cell_type": "code",
   "execution_count": 0,
   "metadata": {
    "application/vnd.databricks.v1+cell": {
     "cellMetadata": {
      "byteLimit": 2048000,
      "rowLimit": 10000
     },
     "inputWidgets": {},
     "nuid": "c027cb53-c946-4f42-95d2-e4006ff4a0c9",
     "showTitle": false,
     "tableResultSettingsMap": {},
     "title": ""
    }
   },
   "outputs": [
    {
     "output_type": "display_data",
     "data": {
      "text/html": [
       "<style scoped>\n",
       "  .table-result-container {\n",
       "    max-height: 300px;\n",
       "    overflow: auto;\n",
       "  }\n",
       "  table, th, td {\n",
       "    border: 1px solid black;\n",
       "    border-collapse: collapse;\n",
       "  }\n",
       "  th, td {\n",
       "    padding: 5px;\n",
       "  }\n",
       "  th {\n",
       "    text-align: left;\n",
       "  }\n",
       "</style><div class='table-result-container'><table class='table-result'><thead style='background-color: white'><tr><th>title</th><th>title_length</th></tr></thead><tbody><tr><td>Miss</td><td>4</td></tr><tr><td>Jerry</td><td>5</td></tr><tr><td>The</td><td>3</td></tr><tr><td>Story</td><td>5</td></tr><tr><td>of</td><td>2</td></tr><tr><td>the</td><td>3</td></tr><tr><td>Kelly</td><td>5</td></tr><tr><td>Gang</td><td>4</td></tr><tr><td>Den</td><td>3</td></tr><tr><td>sorte</td><td>5</td></tr></tbody></table></div>"
      ]
     },
     "metadata": {
      "application/vnd.databricks.v1+output": {
       "addedWidgets": {},
       "aggData": [],
       "aggError": "",
       "aggOverflow": false,
       "aggSchema": [],
       "aggSeriesLimitReached": false,
       "aggType": "",
       "arguments": {},
       "columnCustomDisplayInfos": {},
       "data": [
        [
         "Miss",
         4
        ],
        [
         "Jerry",
         5
        ],
        [
         "The",
         3
        ],
        [
         "Story",
         5
        ],
        [
         "of",
         2
        ],
        [
         "the",
         3
        ],
        [
         "Kelly",
         5
        ],
        [
         "Gang",
         4
        ],
        [
         "Den",
         3
        ],
        [
         "sorte",
         5
        ]
       ],
       "datasetInfos": [],
       "dbfsResultPath": null,
       "isJsonSchema": true,
       "metadata": {},
       "overflow": false,
       "plotOptions": {
        "customPlotOptions": {},
        "displayType": "table",
        "pivotAggregation": null,
        "pivotColumns": null,
        "xColumns": null,
        "yColumns": null
       },
       "removedWidgets": [],
       "schema": [
        {
         "metadata": "{}",
         "name": "title",
         "type": "\"string\""
        },
        {
         "metadata": "{}",
         "name": "title_length",
         "type": "\"integer\""
        }
       ],
       "type": "table"
      }
     },
     "output_type": "display_data"
    }
   ],
   "source": [
    "from pyspark.sql.functions import pandas_udf\n",
    "from pyspark.sql.types import IntegerType\n",
    "import pandas as pd\n",
    "\n",
    "#działa na stringach i zwraca int (długość tytułu)\n",
    "@pandas_udf(IntegerType())\n",
    "def title_length(title_col: pd.Series) -> pd.Series:\n",
    "    return title_col.str.len()\n",
    "\n",
    "moviesDf = moviesDf.withColumn(\"title_length\", title_length(col(\"title\")))\n",
    "display(moviesDf.select(\"title\", \"title_length\").limit(10))"
   ]
  }
 ],
 "metadata": {
  "application/vnd.databricks.v1+notebook": {
   "computePreferences": null,
   "dashboards": [],
   "environmentMetadata": null,
   "inputWidgetPreferences": null,
   "language": "python",
   "notebookMetadata": {
    "pythonIndentUnit": 4
   },
   "notebookName": "Notatnik_1",
   "widgets": {}
  },
  "kernelspec": {
   "display_name": "Python 3 (ipykernel)",
   "language": "python",
   "name": "python3"
  },
  "language_info": {
   "codemirror_mode": {
    "name": "ipython",
    "version": 3
   },
   "file_extension": ".py",
   "mimetype": "text/x-python",
   "name": "python",
   "nbconvert_exporter": "python",
   "pygments_lexer": "ipython3",
   "version": "3.11.8"
  }
 },
 "nbformat": 4,
 "nbformat_minor": 0
}